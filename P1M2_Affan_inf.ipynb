{
 "cells": [
  {
   "cell_type": "code",
   "execution_count": 12,
   "metadata": {},
   "outputs": [],
   "source": [
    "import pickle\n",
    "import pandas as pd\n",
    "from termcolor import colored"
   ]
  },
  {
   "cell_type": "code",
   "execution_count": 13,
   "metadata": {},
   "outputs": [],
   "source": [
    "with open('model.pkl', 'rb') as file:\n",
    "    loaded_model = pickle.load(file)"
   ]
  },
  {
   "cell_type": "code",
   "execution_count": 14,
   "metadata": {},
   "outputs": [
    {
     "data": {
      "text/html": [
       "<div>\n",
       "<style scoped>\n",
       "    .dataframe tbody tr th:only-of-type {\n",
       "        vertical-align: middle;\n",
       "    }\n",
       "\n",
       "    .dataframe tbody tr th {\n",
       "        vertical-align: top;\n",
       "    }\n",
       "\n",
       "    .dataframe thead th {\n",
       "        text-align: right;\n",
       "    }\n",
       "</style>\n",
       "<table border=\"1\" class=\"dataframe\">\n",
       "  <thead>\n",
       "    <tr style=\"text-align: right;\">\n",
       "      <th></th>\n",
       "      <th>City</th>\n",
       "      <th>State</th>\n",
       "      <th>Country</th>\n",
       "      <th>HasSafetyRec</th>\n",
       "      <th>Make</th>\n",
       "      <th>Model</th>\n",
       "      <th>NumberOfEngines</th>\n",
       "      <th>WeatherCondition</th>\n",
       "      <th>FAR</th>\n",
       "    </tr>\n",
       "  </thead>\n",
       "  <tbody>\n",
       "    <tr>\n",
       "      <th>0</th>\n",
       "      <td>Example City</td>\n",
       "      <td>Example State</td>\n",
       "      <td>United States</td>\n",
       "      <td>FALSE</td>\n",
       "      <td>CESSNA</td>\n",
       "      <td>172</td>\n",
       "      <td>1</td>\n",
       "      <td>VMC</td>\n",
       "      <td>091</td>\n",
       "    </tr>\n",
       "    <tr>\n",
       "      <th>1</th>\n",
       "      <td>São Tomé</td>\n",
       "      <td>Unknown State</td>\n",
       "      <td>St Lucia</td>\n",
       "      <td>False</td>\n",
       "      <td>BOEING</td>\n",
       "      <td>767</td>\n",
       "      <td>1</td>\n",
       "      <td>Unknown</td>\n",
       "      <td>NUSC</td>\n",
       "    </tr>\n",
       "    <tr>\n",
       "      <th>2</th>\n",
       "      <td>Derby</td>\n",
       "      <td>Unknown State</td>\n",
       "      <td>United Kingdom</td>\n",
       "      <td>False</td>\n",
       "      <td>BOEING</td>\n",
       "      <td>767-300F</td>\n",
       "      <td>2</td>\n",
       "      <td>Unknown</td>\n",
       "      <td>121</td>\n",
       "    </tr>\n",
       "    <tr>\n",
       "      <th>3</th>\n",
       "      <td>Los Angeles</td>\n",
       "      <td>California</td>\n",
       "      <td>United States</td>\n",
       "      <td>TRUE</td>\n",
       "      <td>AIRBUS</td>\n",
       "      <td>A320</td>\n",
       "      <td>2</td>\n",
       "      <td>IMC</td>\n",
       "      <td>135</td>\n",
       "    </tr>\n",
       "    <tr>\n",
       "      <th>4</th>\n",
       "      <td>Tokyo</td>\n",
       "      <td>Tokyo Prefecture</td>\n",
       "      <td>Japan</td>\n",
       "      <td>TRUE</td>\n",
       "      <td>MITSUBISHI</td>\n",
       "      <td>MRJ90</td>\n",
       "      <td>2</td>\n",
       "      <td>VMC</td>\n",
       "      <td>091</td>\n",
       "    </tr>\n",
       "  </tbody>\n",
       "</table>\n",
       "</div>"
      ],
      "text/plain": [
       "           City             State         Country HasSafetyRec        Make  \\\n",
       "0  Example City     Example State   United States        FALSE      CESSNA   \n",
       "1      São Tomé     Unknown State        St Lucia        False      BOEING   \n",
       "2         Derby     Unknown State  United Kingdom        False      BOEING   \n",
       "3   Los Angeles        California   United States         TRUE      AIRBUS   \n",
       "4         Tokyo  Tokyo Prefecture           Japan         TRUE  MITSUBISHI   \n",
       "\n",
       "      Model  NumberOfEngines WeatherCondition   FAR  \n",
       "0       172                1              VMC   091  \n",
       "1       767                1          Unknown  NUSC  \n",
       "2  767-300F                2          Unknown   121  \n",
       "3      A320                2              IMC   135  \n",
       "4     MRJ90                2              VMC   091  "
      ]
     },
     "execution_count": 14,
     "metadata": {},
     "output_type": "execute_result"
    }
   ],
   "source": [
    "new_data = {\n",
    "    'City': ['Example City', 'São Tomé', 'Derby', 'Los Angeles', 'Tokyo'],\n",
    "    'State': ['Example State', 'Unknown State', 'Unknown State', 'California', 'Tokyo Prefecture'],\n",
    "    'Country': ['United States', 'St Lucia', 'United Kingdom', 'United States', 'Japan'],\n",
    "    'HasSafetyRec': ['FALSE', 'False', 'False', 'TRUE', 'TRUE'],\n",
    "    # 'Latitude': ['37.7749', '0.378471', '52.830684', '34.0522', '35.6895'],\n",
    "    # 'Longitude': ['-122.4194', '6.712757', '-1.328283', '-118.2437', '139.6917'],\n",
    "    'Make': ['CESSNA', 'BOEING', 'BOEING', 'AIRBUS', 'MITSUBISHI'],\n",
    "    'Model': ['172', '767', '767-300F', 'A320', 'MRJ90'],\n",
    "    'NumberOfEngines': [1, 1, 2, 2, 2],\n",
    "    'WeatherCondition': ['VMC', 'Unknown', 'Unknown', 'IMC', 'VMC'],\n",
    "    'FAR': ['091', 'NUSC', '121', '135', '091']\n",
    "}\n",
    "\n",
    "\n",
    "new_data_df = pd.DataFrame(new_data)\n",
    "new_data_df"
   ]
  },
  {
   "cell_type": "code",
   "execution_count": 15,
   "metadata": {},
   "outputs": [
    {
     "name": "stdout",
     "output_type": "stream",
     "text": [
      "This Airplane has the possibility of \u001b[31mAccident\u001b[0m\n",
      "This Airplane has the possibility of \u001b[34mIncident\u001b[0m\n",
      "This Airplane has the possibility of \u001b[34mIncident\u001b[0m\n",
      "This Airplane has the possibility of \u001b[31mAccident\u001b[0m\n",
      "This Airplane has the possibility of \u001b[31mAccident\u001b[0m\n"
     ]
    }
   ],
   "source": [
    "prediction = loaded_model.predict(new_data_df)\n",
    "\n",
    "for i in prediction:\n",
    "    if i == 0:\n",
    "        print(f\"This Airplane has the possibility of {colored('Accident', 'red')}\")\n",
    "    elif i == 1:\n",
    "        print(f\"This Airplane has the possibility of {colored('Incident', 'blue')}\")\n",
    "    elif i == 2:\n",
    "        print(f\"This Airplane has the possibility of {colored('Occurrence', 'yellow')}\")"
   ]
  }
 ],
 "metadata": {
  "kernelspec": {
   "display_name": "base",
   "language": "python",
   "name": "python3"
  },
  "language_info": {
   "codemirror_mode": {
    "name": "ipython",
    "version": 3
   },
   "file_extension": ".py",
   "mimetype": "text/x-python",
   "name": "python",
   "nbconvert_exporter": "python",
   "pygments_lexer": "ipython3",
   "version": "3.9.20"
  }
 },
 "nbformat": 4,
 "nbformat_minor": 2
}
