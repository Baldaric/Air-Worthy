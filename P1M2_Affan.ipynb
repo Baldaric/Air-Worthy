{
 "cells": [
  {
   "cell_type": "markdown",
   "metadata": {},
   "source": [
    "# 1. Introduction"
   ]
  },
  {
   "cell_type": "markdown",
   "metadata": {},
   "source": [
    "## Problem Statement"
   ]
  },
  {
   "cell_type": "markdown",
   "metadata": {},
   "source": [
    "Aircraft accidents, though relatively rare, often results in catastrophic consequences. This consequences involved in significant loss of life and financial costs. This could be prevented if aviation industry can predict their potential accident by understanding the contributong factors and circumstances leading to these accidents, this could enhancing aviation safety and reducing the likelihood of future incidents.\n",
    "\n",
    "For this, we will develop a machine learning model to predict whether an aircraft risk of accident fall into category. This could help to prevent missed airplane handling and maintenance which will caused sever accident."
   ]
  },
  {
   "cell_type": "markdown",
   "metadata": {},
   "source": [
    "# 2. Import Libraries"
   ]
  },
  {
   "cell_type": "code",
   "execution_count": 145,
   "metadata": {},
   "outputs": [],
   "source": [
    "import pandas as pd\n",
    "import numpy as np\n",
    "import pickle\n",
    "import us\n",
    "\n",
    "from scipy.stats import chi2_contingency, f_oneway\n",
    "\n",
    "import matplotlib.pyplot as plt\n",
    "import plotly.express as px\n",
    "\n",
    "from sklearn.model_selection import train_test_split\n",
    "from sklearn.compose import ColumnTransformer\n",
    "from sklearn.pipeline import Pipeline\n",
    "from sklearn.preprocessing import OneHotEncoder, StandardScaler, OrdinalEncoder\n",
    "from sklearn.metrics import recall_score, classification_report, make_scorer\n",
    "from sklearn.model_selection import cross_val_score\n",
    "from sklearn.ensemble import RandomForestClassifier\n",
    "from sklearn.tree import DecisionTreeClassifier\n",
    "from sklearn.svm import SVC\n",
    "from sklearn.neighbors import KNeighborsClassifier\n",
    "from xgboost import XGBClassifier\n",
    "from sklearn.model_selection import GridSearchCV\n"
   ]
  },
  {
   "cell_type": "markdown",
   "metadata": {},
   "source": [
    "# 3. Data Loading"
   ]
  },
  {
   "cell_type": "code",
   "execution_count": 146,
   "metadata": {},
   "outputs": [],
   "source": [
    "# load the original data\n",
    "csv_df = pd.read_csv('Airplane Accident.csv')"
   ]
  },
  {
   "cell_type": "code",
   "execution_count": 147,
   "metadata": {},
   "outputs": [],
   "source": [
    "# use features that will be used for prediction\n",
    "df = csv_df[['City','State','Country','HasSafetyRec','Latitude','Longitude','Make','Model','NumberOfEngines','WeatherCondition','FAR','EventType']]"
   ]
  },
  {
   "cell_type": "code",
   "execution_count": 148,
   "metadata": {},
   "outputs": [
    {
     "name": "stdout",
     "output_type": "stream",
     "text": [
      "<class 'pandas.core.frame.DataFrame'>\n",
      "RangeIndex: 9613 entries, 0 to 9612\n",
      "Data columns (total 12 columns):\n",
      " #   Column            Non-Null Count  Dtype  \n",
      "---  ------            --------------  -----  \n",
      " 0   City              9613 non-null   object \n",
      " 1   State             7330 non-null   object \n",
      " 2   Country           9613 non-null   object \n",
      " 3   HasSafetyRec      9613 non-null   bool   \n",
      " 4   Latitude          9613 non-null   float64\n",
      " 5   Longitude         9613 non-null   float64\n",
      " 6   Make              9613 non-null   object \n",
      " 7   Model             9613 non-null   object \n",
      " 8   NumberOfEngines   7749 non-null   object \n",
      " 9   WeatherCondition  7230 non-null   object \n",
      " 10  FAR               9572 non-null   object \n",
      " 11  EventType         9613 non-null   object \n",
      "dtypes: bool(1), float64(2), object(9)\n",
      "memory usage: 835.6+ KB\n"
     ]
    }
   ],
   "source": [
    "df.info()"
   ]
  },
  {
   "cell_type": "markdown",
   "metadata": {},
   "source": [
    "# 3.5. Manual Data Enrichment"
   ]
  },
  {
   "cell_type": "code",
   "execution_count": 149,
   "metadata": {},
   "outputs": [
    {
     "name": "stdout",
     "output_type": "stream",
     "text": [
      "<class 'pandas.core.frame.DataFrame'>\n",
      "RangeIndex: 9613 entries, 0 to 9612\n",
      "Data columns (total 12 columns):\n",
      " #   Column            Non-Null Count  Dtype  \n",
      "---  ------            --------------  -----  \n",
      " 0   City              9613 non-null   object \n",
      " 1   State             7330 non-null   object \n",
      " 2   Country           9613 non-null   object \n",
      " 3   HasSafetyRec      9613 non-null   bool   \n",
      " 4   Latitude          9613 non-null   float64\n",
      " 5   Longitude         9613 non-null   float64\n",
      " 6   Make              9613 non-null   object \n",
      " 7   Model             9613 non-null   object \n",
      " 8   NumberOfEngines   7749 non-null   object \n",
      " 9   WeatherCondition  7230 non-null   object \n",
      " 10  FAR               9572 non-null   object \n",
      " 11  EventType         9613 non-null   object \n",
      "dtypes: bool(1), float64(2), object(9)\n",
      "memory usage: 835.6+ KB\n"
     ]
    }
   ],
   "source": [
    "df.info()"
   ]
  },
  {
   "cell_type": "code",
   "execution_count": 150,
   "metadata": {},
   "outputs": [
    {
     "data": {
      "text/plain": [
       "Country\n",
       "United States             7335\n",
       "Brazil                     179\n",
       "United Kingdom             151\n",
       "Australia                  139\n",
       "Mexico                     127\n",
       "                          ... \n",
       "Ghana                        1\n",
       "Paracel Islands              1\n",
       "Bosnia And Herzegovina       1\n",
       "Armenia                      1\n",
       "Nicaragua                    1\n",
       "Name: count, Length: 151, dtype: int64"
      ]
     },
     "execution_count": 150,
     "metadata": {},
     "output_type": "execute_result"
    }
   ],
   "source": [
    "df['Country'].value_counts()"
   ]
  },
  {
   "cell_type": "code",
   "execution_count": 151,
   "metadata": {},
   "outputs": [
    {
     "data": {
      "text/plain": [
       "State\n",
       "Texas             652\n",
       "California        628\n",
       "Florida           569\n",
       "Alaska            498\n",
       "Arizona           264\n",
       "Georgia           234\n",
       "Colorado          228\n",
       "Washington        206\n",
       "North Carolina    196\n",
       "Idaho             187\n",
       "Oregon            178\n",
       "Utah              162\n",
       "New York          153\n",
       "Tennessee         149\n",
       "Illinois          143\n",
       "Pennsylvania      142\n",
       "Ohio              141\n",
       "Minnesota         136\n",
       "Michigan          133\n",
       "Wisconsin         130\n",
       "Nevada            129\n",
       "Virginia          129\n",
       "Louisiana         125\n",
       "Missouri          124\n",
       "Oklahoma          114\n",
       "Indiana           114\n",
       "Arkansas          107\n",
       "South Carolina    106\n",
       "Montana            99\n",
       "Alabama            98\n",
       "New Mexico         98\n",
       "Kansas             94\n",
       "New Jersey         76\n",
       "Iowa               75\n",
       "Kentucky           72\n",
       "Nebraska           72\n",
       "Maryland           70\n",
       "Wyoming            60\n",
       "Mississippi        56\n",
       "Hawaii             53\n",
       "Massachusetts      51\n",
       "Maine              40\n",
       "South Dakota       38\n",
       "North Dakota       38\n",
       "Connecticut        35\n",
       "New Hampshire      33\n",
       "West Virginia      30\n",
       "Puerto Rico        16\n",
       "Vermont            12\n",
       "Atlantic Ocean     10\n",
       "Rhode Island        8\n",
       "Delaware            8\n",
       "Gulf of Mexico      5\n",
       "Caribbean Sea       3\n",
       "Pacific Ocean       3\n",
       "Name: count, dtype: int64"
      ]
     },
     "execution_count": 151,
     "metadata": {},
     "output_type": "execute_result"
    }
   ],
   "source": [
    "df['State'].value_counts()"
   ]
  },
  {
   "cell_type": "markdown",
   "metadata": {},
   "source": [
    "## Handling Missing Values"
   ]
  },
  {
   "cell_type": "code",
   "execution_count": 152,
   "metadata": {},
   "outputs": [
    {
     "data": {
      "text/plain": [
       "City                   0\n",
       "State               2283\n",
       "Country                0\n",
       "HasSafetyRec           0\n",
       "Latitude               0\n",
       "Longitude              0\n",
       "Make                   0\n",
       "Model                  0\n",
       "NumberOfEngines     1864\n",
       "WeatherCondition    2383\n",
       "FAR                   41\n",
       "EventType              0\n",
       "dtype: int64"
      ]
     },
     "execution_count": 152,
     "metadata": {},
     "output_type": "execute_result"
    }
   ],
   "source": [
    "df.isna().sum()"
   ]
  },
  {
   "cell_type": "markdown",
   "metadata": {},
   "source": [
    "There are many missing values in this dataset. I decide to handle this now rather than after splitting, since it is a categorical data and we need to compare it to other column."
   ]
  },
  {
   "cell_type": "markdown",
   "metadata": {},
   "source": [
    "### Missing Values for State"
   ]
  },
  {
   "cell_type": "markdown",
   "metadata": {},
   "source": [
    "Logically speaking and based on real-life understanding, countries that using state usually used by United States. Most of other state use province or alike. The evidence is most of the state value_counts are from united states."
   ]
  },
  {
   "cell_type": "code",
   "execution_count": 153,
   "metadata": {},
   "outputs": [
    {
     "data": {
      "text/plain": [
       "State\n",
       "Texas             652\n",
       "California        628\n",
       "Florida           569\n",
       "Alaska            498\n",
       "Arizona           264\n",
       "Georgia           234\n",
       "Colorado          228\n",
       "Washington        206\n",
       "North Carolina    196\n",
       "Idaho             187\n",
       "Oregon            178\n",
       "Utah              162\n",
       "New York          153\n",
       "Tennessee         149\n",
       "Illinois          143\n",
       "Pennsylvania      142\n",
       "Ohio              141\n",
       "Minnesota         136\n",
       "Michigan          133\n",
       "Wisconsin         130\n",
       "Nevada            129\n",
       "Virginia          129\n",
       "Louisiana         125\n",
       "Missouri          124\n",
       "Oklahoma          114\n",
       "Indiana           114\n",
       "Arkansas          107\n",
       "South Carolina    106\n",
       "Montana            99\n",
       "Alabama            98\n",
       "New Mexico         98\n",
       "Kansas             94\n",
       "New Jersey         76\n",
       "Iowa               75\n",
       "Kentucky           72\n",
       "Nebraska           72\n",
       "Maryland           70\n",
       "Wyoming            60\n",
       "Mississippi        56\n",
       "Hawaii             53\n",
       "Massachusetts      51\n",
       "Maine              40\n",
       "South Dakota       38\n",
       "North Dakota       38\n",
       "Connecticut        35\n",
       "New Hampshire      33\n",
       "West Virginia      30\n",
       "Puerto Rico        16\n",
       "Vermont            12\n",
       "Atlantic Ocean     10\n",
       "Rhode Island        8\n",
       "Delaware            8\n",
       "Gulf of Mexico      5\n",
       "Caribbean Sea       3\n",
       "Pacific Ocean       3\n",
       "Name: count, dtype: int64"
      ]
     },
     "execution_count": 153,
     "metadata": {},
     "output_type": "execute_result"
    }
   ],
   "source": [
    "df['State'].value_counts()"
   ]
  },
  {
   "cell_type": "code",
   "execution_count": 154,
   "metadata": {},
   "outputs": [
    {
     "data": {
      "text/html": [
       "<div>\n",
       "<style scoped>\n",
       "    .dataframe tbody tr th:only-of-type {\n",
       "        vertical-align: middle;\n",
       "    }\n",
       "\n",
       "    .dataframe tbody tr th {\n",
       "        vertical-align: top;\n",
       "    }\n",
       "\n",
       "    .dataframe thead th {\n",
       "        text-align: right;\n",
       "    }\n",
       "</style>\n",
       "<table border=\"1\" class=\"dataframe\">\n",
       "  <thead>\n",
       "    <tr style=\"text-align: right;\">\n",
       "      <th></th>\n",
       "      <th>City</th>\n",
       "      <th>State</th>\n",
       "      <th>Country</th>\n",
       "      <th>HasSafetyRec</th>\n",
       "      <th>Latitude</th>\n",
       "      <th>Longitude</th>\n",
       "      <th>Make</th>\n",
       "      <th>Model</th>\n",
       "      <th>NumberOfEngines</th>\n",
       "      <th>WeatherCondition</th>\n",
       "      <th>FAR</th>\n",
       "      <th>EventType</th>\n",
       "    </tr>\n",
       "  </thead>\n",
       "  <tbody>\n",
       "    <tr>\n",
       "      <th>7510</th>\n",
       "      <td>GULF OF MEXICO</td>\n",
       "      <td>NaN</td>\n",
       "      <td>United States</td>\n",
       "      <td>False</td>\n",
       "      <td>26.014999</td>\n",
       "      <td>-82.112503</td>\n",
       "      <td>JABIRU</td>\n",
       "      <td>J250-SP</td>\n",
       "      <td>1</td>\n",
       "      <td>VMC</td>\n",
       "      <td>091</td>\n",
       "      <td>ACC</td>\n",
       "    </tr>\n",
       "    <tr>\n",
       "      <th>8390</th>\n",
       "      <td>Gulf of Mexico</td>\n",
       "      <td>NaN</td>\n",
       "      <td>United States</td>\n",
       "      <td>False</td>\n",
       "      <td>28.866945</td>\n",
       "      <td>-89.302223</td>\n",
       "      <td>Piper</td>\n",
       "      <td>PA46</td>\n",
       "      <td>1</td>\n",
       "      <td>VMC</td>\n",
       "      <td>091</td>\n",
       "      <td>ACC</td>\n",
       "    </tr>\n",
       "    <tr>\n",
       "      <th>8409</th>\n",
       "      <td>Charlotte Amalie</td>\n",
       "      <td>NaN</td>\n",
       "      <td>United States</td>\n",
       "      <td>False</td>\n",
       "      <td>18.337499</td>\n",
       "      <td>-64.967224</td>\n",
       "      <td>Piper</td>\n",
       "      <td>PA23</td>\n",
       "      <td>2</td>\n",
       "      <td>VMC</td>\n",
       "      <td>091</td>\n",
       "      <td>ACC</td>\n",
       "    </tr>\n",
       "    <tr>\n",
       "      <th>8801</th>\n",
       "      <td>Saipan</td>\n",
       "      <td>NaN</td>\n",
       "      <td>United States</td>\n",
       "      <td>False</td>\n",
       "      <td>15.123888</td>\n",
       "      <td>145.731384</td>\n",
       "      <td>Piper</td>\n",
       "      <td>PA28</td>\n",
       "      <td>1</td>\n",
       "      <td>VMC</td>\n",
       "      <td>091</td>\n",
       "      <td>ACC</td>\n",
       "    </tr>\n",
       "    <tr>\n",
       "      <th>9268</th>\n",
       "      <td>Saipan</td>\n",
       "      <td>NaN</td>\n",
       "      <td>United States</td>\n",
       "      <td>False</td>\n",
       "      <td>15.118055</td>\n",
       "      <td>145.724166</td>\n",
       "      <td>Piper</td>\n",
       "      <td>PA32</td>\n",
       "      <td>1</td>\n",
       "      <td>VMC</td>\n",
       "      <td>135</td>\n",
       "      <td>ACC</td>\n",
       "    </tr>\n",
       "  </tbody>\n",
       "</table>\n",
       "</div>"
      ],
      "text/plain": [
       "                  City State        Country  HasSafetyRec   Latitude  \\\n",
       "7510    GULF OF MEXICO   NaN  United States         False  26.014999   \n",
       "8390    Gulf of Mexico   NaN  United States         False  28.866945   \n",
       "8409  Charlotte Amalie   NaN  United States         False  18.337499   \n",
       "8801            Saipan   NaN  United States         False  15.123888   \n",
       "9268            Saipan   NaN  United States         False  15.118055   \n",
       "\n",
       "       Longitude    Make    Model NumberOfEngines WeatherCondition  FAR  \\\n",
       "7510  -82.112503  JABIRU  J250-SP               1              VMC  091   \n",
       "8390  -89.302223   Piper     PA46               1              VMC  091   \n",
       "8409  -64.967224   Piper     PA23               2              VMC  091   \n",
       "8801  145.731384   Piper     PA28               1              VMC  091   \n",
       "9268  145.724166   Piper     PA32               1              VMC  135   \n",
       "\n",
       "     EventType  \n",
       "7510       ACC  \n",
       "8390       ACC  \n",
       "8409       ACC  \n",
       "8801       ACC  \n",
       "9268       ACC  "
      ]
     },
     "execution_count": 154,
     "metadata": {},
     "output_type": "execute_result"
    }
   ],
   "source": [
    "# if state missing values and country is united states\n",
    "df[(df['State'].isna()) & (df['Country'] == 'United States')]"
   ]
  },
  {
   "cell_type": "markdown",
   "metadata": {},
   "source": [
    "Seeing this we see that some don't have the same format, GULF OF MEXICO and Gulf of Mexico, we need to clean something like this first."
   ]
  },
  {
   "cell_type": "code",
   "execution_count": 155,
   "metadata": {},
   "outputs": [],
   "source": [
    "# rename the gulf of Mexico to only one format\n",
    "df.loc[:, 'City'] = df['City'].str.lower().str.title().str.replace(r'\\bOf\\b', 'of', regex=True)"
   ]
  },
  {
   "cell_type": "code",
   "execution_count": 156,
   "metadata": {},
   "outputs": [
    {
     "data": {
      "text/html": [
       "<div>\n",
       "<style scoped>\n",
       "    .dataframe tbody tr th:only-of-type {\n",
       "        vertical-align: middle;\n",
       "    }\n",
       "\n",
       "    .dataframe tbody tr th {\n",
       "        vertical-align: top;\n",
       "    }\n",
       "\n",
       "    .dataframe thead th {\n",
       "        text-align: right;\n",
       "    }\n",
       "</style>\n",
       "<table border=\"1\" class=\"dataframe\">\n",
       "  <thead>\n",
       "    <tr style=\"text-align: right;\">\n",
       "      <th></th>\n",
       "      <th>City</th>\n",
       "      <th>State</th>\n",
       "      <th>Country</th>\n",
       "      <th>HasSafetyRec</th>\n",
       "      <th>Latitude</th>\n",
       "      <th>Longitude</th>\n",
       "      <th>Make</th>\n",
       "      <th>Model</th>\n",
       "      <th>NumberOfEngines</th>\n",
       "      <th>WeatherCondition</th>\n",
       "      <th>FAR</th>\n",
       "      <th>EventType</th>\n",
       "    </tr>\n",
       "  </thead>\n",
       "  <tbody>\n",
       "    <tr>\n",
       "      <th>7510</th>\n",
       "      <td>Gulf of Mexico</td>\n",
       "      <td>NaN</td>\n",
       "      <td>United States</td>\n",
       "      <td>False</td>\n",
       "      <td>26.014999</td>\n",
       "      <td>-82.112503</td>\n",
       "      <td>JABIRU</td>\n",
       "      <td>J250-SP</td>\n",
       "      <td>1</td>\n",
       "      <td>VMC</td>\n",
       "      <td>091</td>\n",
       "      <td>ACC</td>\n",
       "    </tr>\n",
       "    <tr>\n",
       "      <th>8390</th>\n",
       "      <td>Gulf of Mexico</td>\n",
       "      <td>NaN</td>\n",
       "      <td>United States</td>\n",
       "      <td>False</td>\n",
       "      <td>28.866945</td>\n",
       "      <td>-89.302223</td>\n",
       "      <td>Piper</td>\n",
       "      <td>PA46</td>\n",
       "      <td>1</td>\n",
       "      <td>VMC</td>\n",
       "      <td>091</td>\n",
       "      <td>ACC</td>\n",
       "    </tr>\n",
       "    <tr>\n",
       "      <th>8409</th>\n",
       "      <td>Charlotte Amalie</td>\n",
       "      <td>NaN</td>\n",
       "      <td>United States</td>\n",
       "      <td>False</td>\n",
       "      <td>18.337499</td>\n",
       "      <td>-64.967224</td>\n",
       "      <td>Piper</td>\n",
       "      <td>PA23</td>\n",
       "      <td>2</td>\n",
       "      <td>VMC</td>\n",
       "      <td>091</td>\n",
       "      <td>ACC</td>\n",
       "    </tr>\n",
       "    <tr>\n",
       "      <th>8801</th>\n",
       "      <td>Saipan</td>\n",
       "      <td>NaN</td>\n",
       "      <td>United States</td>\n",
       "      <td>False</td>\n",
       "      <td>15.123888</td>\n",
       "      <td>145.731384</td>\n",
       "      <td>Piper</td>\n",
       "      <td>PA28</td>\n",
       "      <td>1</td>\n",
       "      <td>VMC</td>\n",
       "      <td>091</td>\n",
       "      <td>ACC</td>\n",
       "    </tr>\n",
       "    <tr>\n",
       "      <th>9268</th>\n",
       "      <td>Saipan</td>\n",
       "      <td>NaN</td>\n",
       "      <td>United States</td>\n",
       "      <td>False</td>\n",
       "      <td>15.118055</td>\n",
       "      <td>145.724166</td>\n",
       "      <td>Piper</td>\n",
       "      <td>PA32</td>\n",
       "      <td>1</td>\n",
       "      <td>VMC</td>\n",
       "      <td>135</td>\n",
       "      <td>ACC</td>\n",
       "    </tr>\n",
       "  </tbody>\n",
       "</table>\n",
       "</div>"
      ],
      "text/plain": [
       "                  City State        Country  HasSafetyRec   Latitude  \\\n",
       "7510    Gulf of Mexico   NaN  United States         False  26.014999   \n",
       "8390    Gulf of Mexico   NaN  United States         False  28.866945   \n",
       "8409  Charlotte Amalie   NaN  United States         False  18.337499   \n",
       "8801            Saipan   NaN  United States         False  15.123888   \n",
       "9268            Saipan   NaN  United States         False  15.118055   \n",
       "\n",
       "       Longitude    Make    Model NumberOfEngines WeatherCondition  FAR  \\\n",
       "7510  -82.112503  JABIRU  J250-SP               1              VMC  091   \n",
       "8390  -89.302223   Piper     PA46               1              VMC  091   \n",
       "8409  -64.967224   Piper     PA23               2              VMC  091   \n",
       "8801  145.731384   Piper     PA28               1              VMC  091   \n",
       "9268  145.724166   Piper     PA32               1              VMC  135   \n",
       "\n",
       "     EventType  \n",
       "7510       ACC  \n",
       "8390       ACC  \n",
       "8409       ACC  \n",
       "8801       ACC  \n",
       "9268       ACC  "
      ]
     },
     "execution_count": 156,
     "metadata": {},
     "output_type": "execute_result"
    }
   ],
   "source": [
    "df[(df['State'].isna()) & (df['Country'] == 'United States')]"
   ]
  },
  {
   "cell_type": "markdown",
   "metadata": {},
   "source": [
    "Now to fill the missing values based on real-life data."
   ]
  },
  {
   "cell_type": "code",
   "execution_count": 157,
   "metadata": {},
   "outputs": [],
   "source": [
    "# replace the missing values\n",
    "df.loc[(df['City'] == 'Gulf of Mexico'), 'State'] = 'Mexico'\n",
    "df.loc[(df['City'] == 'Charlotte Amalie'), 'State'] = 'Virgin Islands'\n",
    "df.loc[(df['City'] == 'Saipan'), 'State'] = 'Northern Mariana Islands'"
   ]
  },
  {
   "cell_type": "code",
   "execution_count": 158,
   "metadata": {},
   "outputs": [
    {
     "data": {
      "text/html": [
       "<div>\n",
       "<style scoped>\n",
       "    .dataframe tbody tr th:only-of-type {\n",
       "        vertical-align: middle;\n",
       "    }\n",
       "\n",
       "    .dataframe tbody tr th {\n",
       "        vertical-align: top;\n",
       "    }\n",
       "\n",
       "    .dataframe thead th {\n",
       "        text-align: right;\n",
       "    }\n",
       "</style>\n",
       "<table border=\"1\" class=\"dataframe\">\n",
       "  <thead>\n",
       "    <tr style=\"text-align: right;\">\n",
       "      <th></th>\n",
       "      <th>City</th>\n",
       "      <th>State</th>\n",
       "      <th>Country</th>\n",
       "      <th>HasSafetyRec</th>\n",
       "      <th>Latitude</th>\n",
       "      <th>Longitude</th>\n",
       "      <th>Make</th>\n",
       "      <th>Model</th>\n",
       "      <th>NumberOfEngines</th>\n",
       "      <th>WeatherCondition</th>\n",
       "      <th>FAR</th>\n",
       "      <th>EventType</th>\n",
       "    </tr>\n",
       "  </thead>\n",
       "  <tbody>\n",
       "    <tr>\n",
       "      <th>3</th>\n",
       "      <td>Oslo</td>\n",
       "      <td>NaN</td>\n",
       "      <td>Norway</td>\n",
       "      <td>False</td>\n",
       "      <td>0.000000</td>\n",
       "      <td>0.000000</td>\n",
       "      <td>BOEING</td>\n",
       "      <td>737</td>\n",
       "      <td>NaN</td>\n",
       "      <td>NaN</td>\n",
       "      <td>NaN</td>\n",
       "      <td>ACC</td>\n",
       "    </tr>\n",
       "    <tr>\n",
       "      <th>15</th>\n",
       "      <td>Gramado</td>\n",
       "      <td>NaN</td>\n",
       "      <td>Brazil</td>\n",
       "      <td>False</td>\n",
       "      <td>-29.367222</td>\n",
       "      <td>-50.860000</td>\n",
       "      <td>PIPER</td>\n",
       "      <td>PA42</td>\n",
       "      <td>2</td>\n",
       "      <td>NaN</td>\n",
       "      <td>NUSN</td>\n",
       "      <td>ACC</td>\n",
       "    </tr>\n",
       "    <tr>\n",
       "      <th>18</th>\n",
       "      <td>Émerainville</td>\n",
       "      <td>NaN</td>\n",
       "      <td>France</td>\n",
       "      <td>False</td>\n",
       "      <td>0.000000</td>\n",
       "      <td>0.000000</td>\n",
       "      <td>PIPER</td>\n",
       "      <td>PA28</td>\n",
       "      <td>NaN</td>\n",
       "      <td>NaN</td>\n",
       "      <td>NUSN</td>\n",
       "      <td>ACC</td>\n",
       "    </tr>\n",
       "    <tr>\n",
       "      <th>29</th>\n",
       "      <td>Molde</td>\n",
       "      <td>NaN</td>\n",
       "      <td>Norway</td>\n",
       "      <td>False</td>\n",
       "      <td>62.745546</td>\n",
       "      <td>7.267263</td>\n",
       "      <td>BOEING</td>\n",
       "      <td>737</td>\n",
       "      <td>2</td>\n",
       "      <td>NaN</td>\n",
       "      <td>NUSC</td>\n",
       "      <td>INC</td>\n",
       "    </tr>\n",
       "    <tr>\n",
       "      <th>32</th>\n",
       "      <td>Crawley</td>\n",
       "      <td>NaN</td>\n",
       "      <td>United Kingdom</td>\n",
       "      <td>False</td>\n",
       "      <td>51.149218</td>\n",
       "      <td>-0.192406</td>\n",
       "      <td>BOEING</td>\n",
       "      <td>737</td>\n",
       "      <td>2</td>\n",
       "      <td>NaN</td>\n",
       "      <td>NUSC</td>\n",
       "      <td>INC</td>\n",
       "    </tr>\n",
       "    <tr>\n",
       "      <th>...</th>\n",
       "      <td>...</td>\n",
       "      <td>...</td>\n",
       "      <td>...</td>\n",
       "      <td>...</td>\n",
       "      <td>...</td>\n",
       "      <td>...</td>\n",
       "      <td>...</td>\n",
       "      <td>...</td>\n",
       "      <td>...</td>\n",
       "      <td>...</td>\n",
       "      <td>...</td>\n",
       "      <td>...</td>\n",
       "    </tr>\n",
       "    <tr>\n",
       "      <th>9598</th>\n",
       "      <td>Lanseria</td>\n",
       "      <td>NaN</td>\n",
       "      <td>South Africa</td>\n",
       "      <td>False</td>\n",
       "      <td>-25.943889</td>\n",
       "      <td>27.921667</td>\n",
       "      <td>Cirrus</td>\n",
       "      <td>SR22</td>\n",
       "      <td>NaN</td>\n",
       "      <td>NaN</td>\n",
       "      <td>NUSN</td>\n",
       "      <td>ACC</td>\n",
       "    </tr>\n",
       "    <tr>\n",
       "      <th>9599</th>\n",
       "      <td>Tooradin</td>\n",
       "      <td>NaN</td>\n",
       "      <td>Australia</td>\n",
       "      <td>False</td>\n",
       "      <td>-38.215557</td>\n",
       "      <td>145.423614</td>\n",
       "      <td>Cessna</td>\n",
       "      <td>182</td>\n",
       "      <td>1</td>\n",
       "      <td>NaN</td>\n",
       "      <td>NUSN</td>\n",
       "      <td>ACC</td>\n",
       "    </tr>\n",
       "    <tr>\n",
       "      <th>9606</th>\n",
       "      <td>Chennai</td>\n",
       "      <td>NaN</td>\n",
       "      <td>India</td>\n",
       "      <td>False</td>\n",
       "      <td>0.000000</td>\n",
       "      <td>0.000000</td>\n",
       "      <td>AIRBUS</td>\n",
       "      <td>A320</td>\n",
       "      <td>2</td>\n",
       "      <td>NaN</td>\n",
       "      <td>NUSC</td>\n",
       "      <td>INC</td>\n",
       "    </tr>\n",
       "    <tr>\n",
       "      <th>9607</th>\n",
       "      <td>Lagos</td>\n",
       "      <td>NaN</td>\n",
       "      <td>Nigeria</td>\n",
       "      <td>False</td>\n",
       "      <td>0.000000</td>\n",
       "      <td>0.000000</td>\n",
       "      <td>BOEING</td>\n",
       "      <td>737</td>\n",
       "      <td>NaN</td>\n",
       "      <td>NaN</td>\n",
       "      <td>NUSC</td>\n",
       "      <td>INC</td>\n",
       "    </tr>\n",
       "    <tr>\n",
       "      <th>9612</th>\n",
       "      <td>Ubatuba</td>\n",
       "      <td>NaN</td>\n",
       "      <td>Brazil</td>\n",
       "      <td>False</td>\n",
       "      <td>-23.458055</td>\n",
       "      <td>-45.063056</td>\n",
       "      <td>Robinson</td>\n",
       "      <td>R44</td>\n",
       "      <td>1</td>\n",
       "      <td>VMC</td>\n",
       "      <td>NUSN</td>\n",
       "      <td>ACC</td>\n",
       "    </tr>\n",
       "  </tbody>\n",
       "</table>\n",
       "<p>2278 rows × 12 columns</p>\n",
       "</div>"
      ],
      "text/plain": [
       "              City State         Country  HasSafetyRec   Latitude   Longitude  \\\n",
       "3             Oslo   NaN          Norway         False   0.000000    0.000000   \n",
       "15         Gramado   NaN          Brazil         False -29.367222  -50.860000   \n",
       "18    Émerainville   NaN          France         False   0.000000    0.000000   \n",
       "29           Molde   NaN          Norway         False  62.745546    7.267263   \n",
       "32         Crawley   NaN  United Kingdom         False  51.149218   -0.192406   \n",
       "...            ...   ...             ...           ...        ...         ...   \n",
       "9598      Lanseria   NaN    South Africa         False -25.943889   27.921667   \n",
       "9599      Tooradin   NaN       Australia         False -38.215557  145.423614   \n",
       "9606       Chennai   NaN           India         False   0.000000    0.000000   \n",
       "9607         Lagos   NaN         Nigeria         False   0.000000    0.000000   \n",
       "9612       Ubatuba   NaN          Brazil         False -23.458055  -45.063056   \n",
       "\n",
       "          Make Model NumberOfEngines WeatherCondition   FAR EventType  \n",
       "3       BOEING   737             NaN              NaN   NaN       ACC  \n",
       "15       PIPER  PA42               2              NaN  NUSN       ACC  \n",
       "18       PIPER  PA28             NaN              NaN  NUSN       ACC  \n",
       "29      BOEING   737               2              NaN  NUSC       INC  \n",
       "32      BOEING   737               2              NaN  NUSC       INC  \n",
       "...        ...   ...             ...              ...   ...       ...  \n",
       "9598    Cirrus  SR22             NaN              NaN  NUSN       ACC  \n",
       "9599    Cessna   182               1              NaN  NUSN       ACC  \n",
       "9606    AIRBUS  A320               2              NaN  NUSC       INC  \n",
       "9607    BOEING   737             NaN              NaN  NUSC       INC  \n",
       "9612  Robinson   R44               1              VMC  NUSN       ACC  \n",
       "\n",
       "[2278 rows x 12 columns]"
      ]
     },
     "execution_count": 158,
     "metadata": {},
     "output_type": "execute_result"
    }
   ],
   "source": [
    "df[(df['State'].isna()) & (df['Country'] != 'United States')]"
   ]
  },
  {
   "cell_type": "markdown",
   "metadata": {},
   "source": [
    "As for the rest of state country, we will fill it same as their country."
   ]
  },
  {
   "cell_type": "code",
   "execution_count": 159,
   "metadata": {},
   "outputs": [],
   "source": [
    "# a for loop to replace state with the same values as country\n",
    "for country in df['Country'].unique():\n",
    "    # check the country same as loop in country unique values and state is missing, change the state the same as country\n",
    "    df.loc[(df['Country'] == country) & (df['State'].isna()), 'State'] = country\n"
   ]
  },
  {
   "cell_type": "code",
   "execution_count": 160,
   "metadata": {},
   "outputs": [
    {
     "data": {
      "text/plain": [
       "City                   0\n",
       "State                  0\n",
       "Country                0\n",
       "HasSafetyRec           0\n",
       "Latitude               0\n",
       "Longitude              0\n",
       "Make                   0\n",
       "Model                  0\n",
       "NumberOfEngines     1864\n",
       "WeatherCondition    2383\n",
       "FAR                   41\n",
       "EventType              0\n",
       "dtype: int64"
      ]
     },
     "execution_count": 160,
     "metadata": {},
     "output_type": "execute_result"
    }
   ],
   "source": [
    "# check missing values\n",
    "df.isna().sum()"
   ]
  },
  {
   "cell_type": "markdown",
   "metadata": {},
   "source": [
    "### Missing Values of Number of Engine"
   ]
  },
  {
   "cell_type": "markdown",
   "metadata": {},
   "source": [
    "Since the number of engines are really tied to their manufacture and model, I will fill it based on data I can get."
   ]
  },
  {
   "cell_type": "markdown",
   "metadata": {},
   "source": [
    "### BOEING Airplane"
   ]
  },
  {
   "cell_type": "markdown",
   "metadata": {},
   "source": [
    "First I want to check the BOEING Airplane."
   ]
  },
  {
   "cell_type": "code",
   "execution_count": 161,
   "metadata": {},
   "outputs": [
    {
     "data": {
      "text/html": [
       "<div>\n",
       "<style scoped>\n",
       "    .dataframe tbody tr th:only-of-type {\n",
       "        vertical-align: middle;\n",
       "    }\n",
       "\n",
       "    .dataframe tbody tr th {\n",
       "        vertical-align: top;\n",
       "    }\n",
       "\n",
       "    .dataframe thead th {\n",
       "        text-align: right;\n",
       "    }\n",
       "</style>\n",
       "<table border=\"1\" class=\"dataframe\">\n",
       "  <thead>\n",
       "    <tr style=\"text-align: right;\">\n",
       "      <th></th>\n",
       "      <th>Make</th>\n",
       "      <th>Model</th>\n",
       "      <th>NumberOfEngines</th>\n",
       "    </tr>\n",
       "  </thead>\n",
       "  <tbody>\n",
       "    <tr>\n",
       "      <th>3</th>\n",
       "      <td>BOEING</td>\n",
       "      <td>737</td>\n",
       "      <td>NaN</td>\n",
       "    </tr>\n",
       "    <tr>\n",
       "      <th>49</th>\n",
       "      <td>BOEING</td>\n",
       "      <td>737</td>\n",
       "      <td>NaN</td>\n",
       "    </tr>\n",
       "    <tr>\n",
       "      <th>56</th>\n",
       "      <td>BOEING</td>\n",
       "      <td>767</td>\n",
       "      <td>NaN</td>\n",
       "    </tr>\n",
       "    <tr>\n",
       "      <th>67</th>\n",
       "      <td>BOEING</td>\n",
       "      <td>MD 10-30F</td>\n",
       "      <td>NaN</td>\n",
       "    </tr>\n",
       "    <tr>\n",
       "      <th>72</th>\n",
       "      <td>BOEING</td>\n",
       "      <td>787-9</td>\n",
       "      <td>NaN</td>\n",
       "    </tr>\n",
       "    <tr>\n",
       "      <th>...</th>\n",
       "      <td>...</td>\n",
       "      <td>...</td>\n",
       "      <td>...</td>\n",
       "    </tr>\n",
       "    <tr>\n",
       "      <th>9508</th>\n",
       "      <td>BOEING</td>\n",
       "      <td>737</td>\n",
       "      <td>NaN</td>\n",
       "    </tr>\n",
       "    <tr>\n",
       "      <th>9521</th>\n",
       "      <td>BOEING</td>\n",
       "      <td>787</td>\n",
       "      <td>NaN</td>\n",
       "    </tr>\n",
       "    <tr>\n",
       "      <th>9535</th>\n",
       "      <td>BOEING</td>\n",
       "      <td>737</td>\n",
       "      <td>NaN</td>\n",
       "    </tr>\n",
       "    <tr>\n",
       "      <th>9565</th>\n",
       "      <td>BOEING</td>\n",
       "      <td>737</td>\n",
       "      <td>NaN</td>\n",
       "    </tr>\n",
       "    <tr>\n",
       "      <th>9607</th>\n",
       "      <td>BOEING</td>\n",
       "      <td>737</td>\n",
       "      <td>NaN</td>\n",
       "    </tr>\n",
       "  </tbody>\n",
       "</table>\n",
       "<p>361 rows × 3 columns</p>\n",
       "</div>"
      ],
      "text/plain": [
       "        Make      Model NumberOfEngines\n",
       "3     BOEING        737             NaN\n",
       "49    BOEING        737             NaN\n",
       "56    BOEING        767             NaN\n",
       "67    BOEING  MD 10-30F             NaN\n",
       "72    BOEING      787-9             NaN\n",
       "...      ...        ...             ...\n",
       "9508  BOEING        737             NaN\n",
       "9521  BOEING        787             NaN\n",
       "9535  BOEING        737             NaN\n",
       "9565  BOEING        737             NaN\n",
       "9607  BOEING        737             NaN\n",
       "\n",
       "[361 rows x 3 columns]"
      ]
     },
     "execution_count": 161,
     "metadata": {},
     "output_type": "execute_result"
    }
   ],
   "source": [
    "df[(df['NumberOfEngines'].isna()) & (df['Make'] == 'BOEING')][['Make','Model','NumberOfEngines']]"
   ]
  },
  {
   "cell_type": "markdown",
   "metadata": {},
   "source": [
    "Then check their unique model."
   ]
  },
  {
   "cell_type": "code",
   "execution_count": 162,
   "metadata": {},
   "outputs": [
    {
     "data": {
      "text/plain": [
       "array(['737', '767', 'MD 10-30F', '787-9', '737-700', '777-223',\n",
       "       '757-231', '787', '727', '747', '737-9', '777', '767-300', 'B777',\n",
       "       '737-8', '777-3FX (ER)', '747-400', '737 Max 8-200', '737-800',\n",
       "       '717', '777-319ER', '787-900', 'MD82', '757', '2X6C', '737-8EH',\n",
       "       '737-4B6', '787-800', 'CV2', '737-8H4'], dtype=object)"
      ]
     },
     "execution_count": 162,
     "metadata": {},
     "output_type": "execute_result"
    }
   ],
   "source": [
    "df[(df['Make'] == 'BOEING') & (df['NumberOfEngines'].isna())]['Model'].unique()"
   ]
  },
  {
   "cell_type": "markdown",
   "metadata": {},
   "source": [
    "Reference:<br>\n",
    " - [Boeing website](https://www.boeing.com/commercial/)\n",
    " - [Wikipedia](https://en.wikipedia.org/wiki/List_of_Boeing_aircraft)"
   ]
  },
  {
   "cell_type": "markdown",
   "metadata": {},
   "source": [
    "| Model | Number of Engines | Notes                                      |\n",
    "|-------|-------------------|--------------------------------------------|\n",
    "| 717   | 2                 | Twin-engine, regional jet                 |\n",
    "| 727   | 3                 | Tri-engine, narrow-body jet               |\n",
    "| 737   | 2                 | Twin-engine, narrow-body jet              |\n",
    "| 747   | 4                 | Four-engine, wide-body jumbo jet          |\n",
    "| 757   | 2                 | Twin-engine, narrow-body jet              |\n",
    "| 767   | 2                 | Twin-engine, wide-body jet                |\n",
    "| 777   | 2                 | Twin-engine, wide-body jet                |\n",
    "| 787   | 2                 | Twin-engine, wide-body Dreamliner         |\n"
   ]
  },
  {
   "cell_type": "code",
   "execution_count": 163,
   "metadata": {},
   "outputs": [],
   "source": [
    "# a dictionary to make the fill easier\n",
    "BoeingEngine = {\n",
    "    '717': 2,\n",
    "    '727': 3,\n",
    "    '737': 2,\n",
    "    '747': 4,\n",
    "    '757': 2,\n",
    "    '767': 2,\n",
    "    '777': 2,\n",
    "    '787': 2,\n",
    "}\n",
    "\n",
    "# for loop to check each index\n",
    "for i in df.index:\n",
    "    # if the said index is NaN and the model of the index is BOEING\n",
    "    if pd.isna(df['NumberOfEngines'][i]) and df['Make'][i] == 'BOEING':\n",
    "        # put the model name in model variables\n",
    "        model = str(df['Model'][i])\n",
    "        # check the keys in BoeingEngine dictionary\n",
    "        for key in BoeingEngine.keys():\n",
    "            # chek if key from BoeingEngine is inside mode of the index\n",
    "            if key in model:\n",
    "                # put the values in specific index and column number of engine, with BoeingEngine dictionary values\n",
    "                df.at[i, 'NumberOfEngines'] = BoeingEngine[key]\n",
    "                # break so the loop can stop\n",
    "                break"
   ]
  },
  {
   "cell_type": "code",
   "execution_count": 164,
   "metadata": {},
   "outputs": [
    {
     "data": {
      "text/html": [
       "<div>\n",
       "<style scoped>\n",
       "    .dataframe tbody tr th:only-of-type {\n",
       "        vertical-align: middle;\n",
       "    }\n",
       "\n",
       "    .dataframe tbody tr th {\n",
       "        vertical-align: top;\n",
       "    }\n",
       "\n",
       "    .dataframe thead th {\n",
       "        text-align: right;\n",
       "    }\n",
       "</style>\n",
       "<table border=\"1\" class=\"dataframe\">\n",
       "  <thead>\n",
       "    <tr style=\"text-align: right;\">\n",
       "      <th></th>\n",
       "      <th>Make</th>\n",
       "      <th>Model</th>\n",
       "      <th>NumberOfEngines</th>\n",
       "    </tr>\n",
       "  </thead>\n",
       "  <tbody>\n",
       "    <tr>\n",
       "      <th>67</th>\n",
       "      <td>BOEING</td>\n",
       "      <td>MD 10-30F</td>\n",
       "      <td>NaN</td>\n",
       "    </tr>\n",
       "    <tr>\n",
       "      <th>4545</th>\n",
       "      <td>BOEING</td>\n",
       "      <td>MD82</td>\n",
       "      <td>NaN</td>\n",
       "    </tr>\n",
       "    <tr>\n",
       "      <th>4849</th>\n",
       "      <td>BOEING</td>\n",
       "      <td>2X6C</td>\n",
       "      <td>NaN</td>\n",
       "    </tr>\n",
       "    <tr>\n",
       "      <th>8928</th>\n",
       "      <td>BOEING</td>\n",
       "      <td>CV2</td>\n",
       "      <td>NaN</td>\n",
       "    </tr>\n",
       "  </tbody>\n",
       "</table>\n",
       "</div>"
      ],
      "text/plain": [
       "        Make      Model NumberOfEngines\n",
       "67    BOEING  MD 10-30F             NaN\n",
       "4545  BOEING       MD82             NaN\n",
       "4849  BOEING       2X6C             NaN\n",
       "8928  BOEING        CV2             NaN"
      ]
     },
     "execution_count": 164,
     "metadata": {},
     "output_type": "execute_result"
    }
   ],
   "source": [
    "df[(df['NumberOfEngines'].isna()) & (df['Make'] == 'BOEING')][['Make','Model','NumberOfEngines']]"
   ]
  },
  {
   "cell_type": "markdown",
   "metadata": {},
   "source": [
    "| Make   | Model | Number of Engines | Reference Link                                                                 |\n",
    "|--------|-------|-------------------|-------------------------------------------------------------------------------|\n",
    "| BOEING | B777  |2| [Boeing 777](https://en.wikipedia.org/wiki/Boeing_777)                       |\n",
    "| BOEING | 2X6C  |2| [737 - 2X6C](https://asn.flightsafety.org/wikibase/365686) |\n",
    "| BOEING | CV2   |12| [Cargo Vessel](https://en.wikipedia.org/wiki/Boeing_Cargo_Air_Vehicle)|\n",
    "| BOEING | MD 10-30F|3|[MD-10](https://en.wikipedia.org/wiki/McDonnell_Douglas_DC-10#MD-10) |\n",
    "| BOEING | MD82|2|[MD-82](https://en.wikipedia.org/wiki/McDonnell_Douglas_MD-80#Variants)|\n",
    "\n"
   ]
  },
  {
   "cell_type": "code",
   "execution_count": 165,
   "metadata": {},
   "outputs": [],
   "source": [
    "# as for the rest, just manually fill it based on the internet\n",
    "df.loc[(df['Make'] == 'BOEING') & (df['Model'] == 'B777'), 'NumberOfEngines'] = 2\n",
    "df.loc[(df['Make'] == 'BOEING') & (df['Model'] == '2X6C'), 'NumberOfEngines'] = 2\n",
    "df.loc[(df['Make'] == 'BOEING') & (df['Model'] == 'CV2'), 'NumberOfEngines'] = 12\n",
    "df.loc[(df['Make'] == 'BOEING') & (df['Model'] == 'MD 10-30F'), 'NumberOfEngines'] = 3\n",
    "df.loc[(df['Make'] == 'BOEING') & (df['Model'] == 'MD82'), 'NumberOfEngines'] = 2"
   ]
  },
  {
   "cell_type": "code",
   "execution_count": 166,
   "metadata": {},
   "outputs": [
    {
     "data": {
      "text/html": [
       "<div>\n",
       "<style scoped>\n",
       "    .dataframe tbody tr th:only-of-type {\n",
       "        vertical-align: middle;\n",
       "    }\n",
       "\n",
       "    .dataframe tbody tr th {\n",
       "        vertical-align: top;\n",
       "    }\n",
       "\n",
       "    .dataframe thead th {\n",
       "        text-align: right;\n",
       "    }\n",
       "</style>\n",
       "<table border=\"1\" class=\"dataframe\">\n",
       "  <thead>\n",
       "    <tr style=\"text-align: right;\">\n",
       "      <th></th>\n",
       "      <th>Make</th>\n",
       "      <th>Model</th>\n",
       "      <th>NumberOfEngines</th>\n",
       "    </tr>\n",
       "  </thead>\n",
       "  <tbody>\n",
       "  </tbody>\n",
       "</table>\n",
       "</div>"
      ],
      "text/plain": [
       "Empty DataFrame\n",
       "Columns: [Make, Model, NumberOfEngines]\n",
       "Index: []"
      ]
     },
     "execution_count": 166,
     "metadata": {},
     "output_type": "execute_result"
    }
   ],
   "source": [
    "df[(df['NumberOfEngines'].isna()) & (df['Make'] == 'BOEING')][['Make','Model','NumberOfEngines']]"
   ]
  },
  {
   "cell_type": "markdown",
   "metadata": {},
   "source": [
    "### AIRBUS Airplane"
   ]
  },
  {
   "cell_type": "markdown",
   "metadata": {},
   "source": [
    "Reference links:<br>\n",
    " - [Airbus website](https://www.airbus.com/en)\n",
    " - [Wikipedia](https://en.wikipedia.org/wiki/List_of_Airbus_aircraft)"
   ]
  },
  {
   "cell_type": "markdown",
   "metadata": {},
   "source": [
    "| Model         | Number of Engines | Notes                                       |\n",
    "|---------------|-------------------|---------------------------------------------|\n",
    "| 220          | 2                 | Twin-engine, narrow-body jet                |\n",
    "| 300          | 2                 | Twin-engine, wide-body jet                  |\n",
    "| 300 F4-622R  | 2                 | Twin-engine freighter version of A300       |\n",
    "| 320          | 2                 | Twin-engine, narrow-body jet                |\n",
    "| 321          | 2                 | Twin-engine, narrow-body jet                |\n",
    "| 330          | 2                 | Twin-engine, wide-body jet                  |\n",
    "| 350          | 2                 | Twin-engine, wide-body jet                  |\n",
    "| 380          | 4                 | Four-engine, double-deck wide-body jet      |\n",
    "| 350         | 1                 | Single-engine helicopter                    |"
   ]
  },
  {
   "cell_type": "code",
   "execution_count": 167,
   "metadata": {},
   "outputs": [],
   "source": [
    "# this code basically same as Boeing only change some things instead of BOEING, its AIRBUS\n",
    "AirbusEngine = {\n",
    "    '220': 2,\n",
    "    '300': 2,\n",
    "    '300 F4-622R': 2,\n",
    "    '320': 2,\n",
    "    '321': 2,\n",
    "    '330': 2,\n",
    "    '350': 2,\n",
    "    '380': 4,\n",
    "    '350': 1,\n",
    "    '332': 2,\n",
    "    '319': 2\n",
    "}\n",
    "\n",
    "for i in df.index:\n",
    "    if pd.isna(df['NumberOfEngines'][i]) and df['Make'][i] == 'AIRBUS':\n",
    "        model = df['Model'][i]\n",
    "        for key in AirbusEngine.keys():\n",
    "            if key in model:\n",
    "                df.loc[i, 'NumberOfEngines'] = AirbusEngine[key]\n",
    "                break"
   ]
  },
  {
   "cell_type": "code",
   "execution_count": 168,
   "metadata": {},
   "outputs": [
    {
     "data": {
      "text/html": [
       "<div>\n",
       "<style scoped>\n",
       "    .dataframe tbody tr th:only-of-type {\n",
       "        vertical-align: middle;\n",
       "    }\n",
       "\n",
       "    .dataframe tbody tr th {\n",
       "        vertical-align: top;\n",
       "    }\n",
       "\n",
       "    .dataframe thead th {\n",
       "        text-align: right;\n",
       "    }\n",
       "</style>\n",
       "<table border=\"1\" class=\"dataframe\">\n",
       "  <thead>\n",
       "    <tr style=\"text-align: right;\">\n",
       "      <th></th>\n",
       "      <th>Make</th>\n",
       "      <th>Model</th>\n",
       "      <th>NumberOfEngines</th>\n",
       "    </tr>\n",
       "  </thead>\n",
       "  <tbody>\n",
       "  </tbody>\n",
       "</table>\n",
       "</div>"
      ],
      "text/plain": [
       "Empty DataFrame\n",
       "Columns: [Make, Model, NumberOfEngines]\n",
       "Index: []"
      ]
     },
     "execution_count": 168,
     "metadata": {},
     "output_type": "execute_result"
    }
   ],
   "source": [
    "df[(df['NumberOfEngines'].isna()) & (df['Make'] == 'AIRBUS')][['Make','Model','NumberOfEngines']]"
   ]
  },
  {
   "cell_type": "markdown",
   "metadata": {},
   "source": [
    "### CESSNA Missing Values"
   ]
  },
  {
   "cell_type": "code",
   "execution_count": 169,
   "metadata": {},
   "outputs": [
    {
     "data": {
      "text/html": [
       "<div>\n",
       "<style scoped>\n",
       "    .dataframe tbody tr th:only-of-type {\n",
       "        vertical-align: middle;\n",
       "    }\n",
       "\n",
       "    .dataframe tbody tr th {\n",
       "        vertical-align: top;\n",
       "    }\n",
       "\n",
       "    .dataframe thead th {\n",
       "        text-align: right;\n",
       "    }\n",
       "</style>\n",
       "<table border=\"1\" class=\"dataframe\">\n",
       "  <thead>\n",
       "    <tr style=\"text-align: right;\">\n",
       "      <th></th>\n",
       "      <th>Make</th>\n",
       "      <th>Model</th>\n",
       "      <th>NumberOfEngines</th>\n",
       "    </tr>\n",
       "  </thead>\n",
       "  <tbody>\n",
       "    <tr>\n",
       "      <th>0</th>\n",
       "      <td>CESSNA</td>\n",
       "      <td>172N</td>\n",
       "      <td>NaN</td>\n",
       "    </tr>\n",
       "    <tr>\n",
       "      <th>2</th>\n",
       "      <td>CESSNA</td>\n",
       "      <td>310D</td>\n",
       "      <td>NaN</td>\n",
       "    </tr>\n",
       "    <tr>\n",
       "      <th>5</th>\n",
       "      <td>DIAMOND AIRCRAFT IND INC</td>\n",
       "      <td>DA 40 NG</td>\n",
       "      <td>NaN</td>\n",
       "    </tr>\n",
       "    <tr>\n",
       "      <th>7</th>\n",
       "      <td>CESSNA</td>\n",
       "      <td>T210L</td>\n",
       "      <td>NaN</td>\n",
       "    </tr>\n",
       "    <tr>\n",
       "      <th>8</th>\n",
       "      <td>BEECH</td>\n",
       "      <td>58</td>\n",
       "      <td>NaN</td>\n",
       "    </tr>\n",
       "    <tr>\n",
       "      <th>...</th>\n",
       "      <td>...</td>\n",
       "      <td>...</td>\n",
       "      <td>...</td>\n",
       "    </tr>\n",
       "    <tr>\n",
       "      <th>9568</th>\n",
       "      <td>MCDONNELL DOUGLAS</td>\n",
       "      <td>MD11</td>\n",
       "      <td>NaN</td>\n",
       "    </tr>\n",
       "    <tr>\n",
       "      <th>9569</th>\n",
       "      <td>Hill Group LLC</td>\n",
       "      <td>CCX-2000</td>\n",
       "      <td>NaN</td>\n",
       "    </tr>\n",
       "    <tr>\n",
       "      <th>9573</th>\n",
       "      <td>Champion</td>\n",
       "      <td>7ECA</td>\n",
       "      <td>NaN</td>\n",
       "    </tr>\n",
       "    <tr>\n",
       "      <th>9592</th>\n",
       "      <td>Piper</td>\n",
       "      <td>PA28R</td>\n",
       "      <td>NaN</td>\n",
       "    </tr>\n",
       "    <tr>\n",
       "      <th>9598</th>\n",
       "      <td>Cirrus</td>\n",
       "      <td>SR22</td>\n",
       "      <td>NaN</td>\n",
       "    </tr>\n",
       "  </tbody>\n",
       "</table>\n",
       "<p>1424 rows × 3 columns</p>\n",
       "</div>"
      ],
      "text/plain": [
       "                          Make     Model NumberOfEngines\n",
       "0                       CESSNA      172N             NaN\n",
       "2                       CESSNA      310D             NaN\n",
       "5     DIAMOND AIRCRAFT IND INC  DA 40 NG             NaN\n",
       "7                       CESSNA     T210L             NaN\n",
       "8                        BEECH        58             NaN\n",
       "...                        ...       ...             ...\n",
       "9568         MCDONNELL DOUGLAS      MD11             NaN\n",
       "9569            Hill Group LLC  CCX-2000             NaN\n",
       "9573                  Champion      7ECA             NaN\n",
       "9592                     Piper     PA28R             NaN\n",
       "9598                    Cirrus      SR22             NaN\n",
       "\n",
       "[1424 rows x 3 columns]"
      ]
     },
     "execution_count": 169,
     "metadata": {},
     "output_type": "execute_result"
    }
   ],
   "source": [
    "df[(df['NumberOfEngines'].isna())][['Make','Model','NumberOfEngines']]"
   ]
  },
  {
   "cell_type": "markdown",
   "metadata": {},
   "source": [
    "[CESSNA Model Engine Reference](https://en.wikipedia.org/wiki/List_of_Cessna_models)"
   ]
  },
  {
   "cell_type": "markdown",
   "metadata": {},
   "source": [
    "| Model       | Number of Engines | Notes                                           |\n",
    "|-------------|-------------------|-------------------------------------------------|\n",
    "| 150 Series  | 1                 | Popular for training and personal aviation      |\n",
    "| 172 Series  | 1                 | The most produced airplane in history           |\n",
    "| 182 Series  | 1                 | Known for high performance and range            |\n",
    "| 185 Series  | 1                 | Utility aircraft, often used for bush flying    |\n",
    "| 206 Series  | 1                 | Utility aircraft, frequently used in remote areas|\n",
    "| 210 Series  | 1                 | Pressurized cabin option available (P210 model) |\n",
    "| 310 Series  | 2                 | First twin-engine model produced by Cessna      |\n",
    "| 336/337     | 2                 | Push-pull configuration with centerline thrust  |\n",
    "| 340 Series  | 2                 | Pressurized cabin for business aviation         |\n",
    "| 401/402     | 2                 | Used for passenger and cargo transport          |\n",
    "| 414 Series  | 2                 | Pressurized cabin with enhanced comfort         |\n",
    "| 421 Series  | 2                 | Golden Eagle series, luxury business aircraft   |\n",
    "| 425 Series  | 2                 | Conquest I, twin turboprop aircraft             |\n",
    "| 441 Series  | 2                 | Conquest II, twin turboprop for business travel |\n",
    "| 500/510/525 | 2                 | CitationJet series, business jets               |\n",
    "| 550/560     | 2                 | Citation series, mid-size business jets         |\n",
    "| 680 Series  | 2                 | Sovereign, long-range business jet              |\n",
    "| 750 Series  | 2                 | Citation X, high-speed business jet             |\n",
    "| 208 Series  | 1                 | Caravan, utility aircraft for cargo/passengers  |\n",
    "| 425 Series  | 2                 | Conquest, turboprop for light business aviation |\n"
   ]
  },
  {
   "cell_type": "code",
   "execution_count": 170,
   "metadata": {},
   "outputs": [
    {
     "data": {
      "text/html": [
       "<div>\n",
       "<style scoped>\n",
       "    .dataframe tbody tr th:only-of-type {\n",
       "        vertical-align: middle;\n",
       "    }\n",
       "\n",
       "    .dataframe tbody tr th {\n",
       "        vertical-align: top;\n",
       "    }\n",
       "\n",
       "    .dataframe thead th {\n",
       "        text-align: right;\n",
       "    }\n",
       "</style>\n",
       "<table border=\"1\" class=\"dataframe\">\n",
       "  <thead>\n",
       "    <tr style=\"text-align: right;\">\n",
       "      <th></th>\n",
       "      <th>Make</th>\n",
       "      <th>Model</th>\n",
       "      <th>NumberOfEngines</th>\n",
       "    </tr>\n",
       "  </thead>\n",
       "  <tbody>\n",
       "    <tr>\n",
       "      <th>0</th>\n",
       "      <td>CESSNA</td>\n",
       "      <td>172N</td>\n",
       "      <td>NaN</td>\n",
       "    </tr>\n",
       "    <tr>\n",
       "      <th>2</th>\n",
       "      <td>CESSNA</td>\n",
       "      <td>310D</td>\n",
       "      <td>NaN</td>\n",
       "    </tr>\n",
       "    <tr>\n",
       "      <th>7</th>\n",
       "      <td>CESSNA</td>\n",
       "      <td>T210L</td>\n",
       "      <td>NaN</td>\n",
       "    </tr>\n",
       "    <tr>\n",
       "      <th>12</th>\n",
       "      <td>CESSNA</td>\n",
       "      <td>182B</td>\n",
       "      <td>1</td>\n",
       "    </tr>\n",
       "    <tr>\n",
       "      <th>22</th>\n",
       "      <td>CESSNA</td>\n",
       "      <td>172</td>\n",
       "      <td>NaN</td>\n",
       "    </tr>\n",
       "    <tr>\n",
       "      <th>...</th>\n",
       "      <td>...</td>\n",
       "      <td>...</td>\n",
       "      <td>...</td>\n",
       "    </tr>\n",
       "    <tr>\n",
       "      <th>9460</th>\n",
       "      <td>CESSNA</td>\n",
       "      <td>172</td>\n",
       "      <td>1</td>\n",
       "    </tr>\n",
       "    <tr>\n",
       "      <th>9470</th>\n",
       "      <td>CESSNA</td>\n",
       "      <td>U206</td>\n",
       "      <td>NaN</td>\n",
       "    </tr>\n",
       "    <tr>\n",
       "      <th>9498</th>\n",
       "      <td>CESSNA</td>\n",
       "      <td>U206G</td>\n",
       "      <td>NaN</td>\n",
       "    </tr>\n",
       "    <tr>\n",
       "      <th>9503</th>\n",
       "      <td>CESSNA</td>\n",
       "      <td>150</td>\n",
       "      <td>1</td>\n",
       "    </tr>\n",
       "    <tr>\n",
       "      <th>9530</th>\n",
       "      <td>CESSNA</td>\n",
       "      <td>150</td>\n",
       "      <td>1</td>\n",
       "    </tr>\n",
       "  </tbody>\n",
       "</table>\n",
       "<p>1676 rows × 3 columns</p>\n",
       "</div>"
      ],
      "text/plain": [
       "        Make  Model NumberOfEngines\n",
       "0     CESSNA   172N             NaN\n",
       "2     CESSNA   310D             NaN\n",
       "7     CESSNA  T210L             NaN\n",
       "12    CESSNA   182B               1\n",
       "22    CESSNA    172             NaN\n",
       "...      ...    ...             ...\n",
       "9460  CESSNA    172               1\n",
       "9470  CESSNA   U206             NaN\n",
       "9498  CESSNA  U206G             NaN\n",
       "9503  CESSNA    150               1\n",
       "9530  CESSNA    150               1\n",
       "\n",
       "[1676 rows x 3 columns]"
      ]
     },
     "execution_count": 170,
     "metadata": {},
     "output_type": "execute_result"
    }
   ],
   "source": [
    "df[(df['Make'] == 'CESSNA')][['Make','Model','NumberOfEngines']]"
   ]
  },
  {
   "cell_type": "code",
   "execution_count": 171,
   "metadata": {},
   "outputs": [
    {
     "name": "stderr",
     "output_type": "stream",
     "text": [
      "C:\\Users\\Affan\\AppData\\Local\\Temp\\ipykernel_8072\\645774199.py:3: SettingWithCopyWarning: \n",
      "A value is trying to be set on a copy of a slice from a DataFrame.\n",
      "Try using .loc[row_indexer,col_indexer] = value instead\n",
      "\n",
      "See the caveats in the documentation: https://pandas.pydata.org/pandas-docs/stable/user_guide/indexing.html#returning-a-view-versus-a-copy\n",
      "  df.loc[:, 'ModelNumber'] = df['Model'].str.extract(r'(\\d+)').astype(float)\n"
     ]
    }
   ],
   "source": [
    "# in my understanding, CESSNA model usually coded same as their engines\n",
    "# first I extract the number in their model (e.g 310D -> get 310) and turn it to float dtype\n",
    "df.loc[:, 'ModelNumber'] = df['Model'].str.extract(r'(\\d+)').astype(float)\n",
    "\n",
    "# then based on the new column model number give engine, usually CESSNA will code their model below 300 have 1 engine\n",
    "# and above 300 have 2 engines. CESSNA to my understanding still have no 4 or above engine\n",
    "df.loc[(df['Make'] == 'CESSNA') & (df['ModelNumber'] < 300), 'NumberOfEngines'] = 1\n",
    "df.loc[(df['Make'] == 'CESSNA') & (df['ModelNumber'] >= 300), 'NumberOfEngines'] = 2"
   ]
  },
  {
   "cell_type": "code",
   "execution_count": 172,
   "metadata": {},
   "outputs": [],
   "source": [
    "# then I drop the unused ModelNumber\n",
    "df = df.drop(['ModelNumber'], axis=1)"
   ]
  },
  {
   "cell_type": "code",
   "execution_count": 173,
   "metadata": {},
   "outputs": [
    {
     "data": {
      "text/html": [
       "<div>\n",
       "<style scoped>\n",
       "    .dataframe tbody tr th:only-of-type {\n",
       "        vertical-align: middle;\n",
       "    }\n",
       "\n",
       "    .dataframe tbody tr th {\n",
       "        vertical-align: top;\n",
       "    }\n",
       "\n",
       "    .dataframe thead th {\n",
       "        text-align: right;\n",
       "    }\n",
       "</style>\n",
       "<table border=\"1\" class=\"dataframe\">\n",
       "  <thead>\n",
       "    <tr style=\"text-align: right;\">\n",
       "      <th></th>\n",
       "      <th>Make</th>\n",
       "      <th>Model</th>\n",
       "      <th>NumberOfEngines</th>\n",
       "    </tr>\n",
       "  </thead>\n",
       "  <tbody>\n",
       "    <tr>\n",
       "      <th>0</th>\n",
       "      <td>CESSNA</td>\n",
       "      <td>172N</td>\n",
       "      <td>1</td>\n",
       "    </tr>\n",
       "    <tr>\n",
       "      <th>2</th>\n",
       "      <td>CESSNA</td>\n",
       "      <td>310D</td>\n",
       "      <td>2</td>\n",
       "    </tr>\n",
       "    <tr>\n",
       "      <th>7</th>\n",
       "      <td>CESSNA</td>\n",
       "      <td>T210L</td>\n",
       "      <td>1</td>\n",
       "    </tr>\n",
       "    <tr>\n",
       "      <th>12</th>\n",
       "      <td>CESSNA</td>\n",
       "      <td>182B</td>\n",
       "      <td>1</td>\n",
       "    </tr>\n",
       "    <tr>\n",
       "      <th>22</th>\n",
       "      <td>CESSNA</td>\n",
       "      <td>172</td>\n",
       "      <td>1</td>\n",
       "    </tr>\n",
       "    <tr>\n",
       "      <th>...</th>\n",
       "      <td>...</td>\n",
       "      <td>...</td>\n",
       "      <td>...</td>\n",
       "    </tr>\n",
       "    <tr>\n",
       "      <th>9460</th>\n",
       "      <td>CESSNA</td>\n",
       "      <td>172</td>\n",
       "      <td>1</td>\n",
       "    </tr>\n",
       "    <tr>\n",
       "      <th>9470</th>\n",
       "      <td>CESSNA</td>\n",
       "      <td>U206</td>\n",
       "      <td>1</td>\n",
       "    </tr>\n",
       "    <tr>\n",
       "      <th>9498</th>\n",
       "      <td>CESSNA</td>\n",
       "      <td>U206G</td>\n",
       "      <td>1</td>\n",
       "    </tr>\n",
       "    <tr>\n",
       "      <th>9503</th>\n",
       "      <td>CESSNA</td>\n",
       "      <td>150</td>\n",
       "      <td>1</td>\n",
       "    </tr>\n",
       "    <tr>\n",
       "      <th>9530</th>\n",
       "      <td>CESSNA</td>\n",
       "      <td>150</td>\n",
       "      <td>1</td>\n",
       "    </tr>\n",
       "  </tbody>\n",
       "</table>\n",
       "<p>1676 rows × 3 columns</p>\n",
       "</div>"
      ],
      "text/plain": [
       "        Make  Model NumberOfEngines\n",
       "0     CESSNA   172N               1\n",
       "2     CESSNA   310D               2\n",
       "7     CESSNA  T210L               1\n",
       "12    CESSNA   182B               1\n",
       "22    CESSNA    172               1\n",
       "...      ...    ...             ...\n",
       "9460  CESSNA    172               1\n",
       "9470  CESSNA   U206               1\n",
       "9498  CESSNA  U206G               1\n",
       "9503  CESSNA    150               1\n",
       "9530  CESSNA    150               1\n",
       "\n",
       "[1676 rows x 3 columns]"
      ]
     },
     "execution_count": 173,
     "metadata": {},
     "output_type": "execute_result"
    }
   ],
   "source": [
    "df[(df['Make'] == 'CESSNA')][['Make','Model','NumberOfEngines']]"
   ]
  },
  {
   "cell_type": "markdown",
   "metadata": {},
   "source": [
    "### Missing Values for Other Manufacture"
   ]
  },
  {
   "cell_type": "markdown",
   "metadata": {},
   "source": [
    "As for the others, since it is too much to search we will fill it based on the airplane model instead. Based on my understanding the Airplane model of non-big company usually share the same code that will indicates their engine number."
   ]
  },
  {
   "cell_type": "code",
   "execution_count": 174,
   "metadata": {},
   "outputs": [
    {
     "data": {
      "text/html": [
       "<div>\n",
       "<style scoped>\n",
       "    .dataframe tbody tr th:only-of-type {\n",
       "        vertical-align: middle;\n",
       "    }\n",
       "\n",
       "    .dataframe tbody tr th {\n",
       "        vertical-align: top;\n",
       "    }\n",
       "\n",
       "    .dataframe thead th {\n",
       "        text-align: right;\n",
       "    }\n",
       "</style>\n",
       "<table border=\"1\" class=\"dataframe\">\n",
       "  <thead>\n",
       "    <tr style=\"text-align: right;\">\n",
       "      <th></th>\n",
       "      <th>Make</th>\n",
       "      <th>Model</th>\n",
       "      <th>NumberOfEngines</th>\n",
       "    </tr>\n",
       "  </thead>\n",
       "  <tbody>\n",
       "    <tr>\n",
       "      <th>5</th>\n",
       "      <td>DIAMOND AIRCRAFT IND INC</td>\n",
       "      <td>DA 40 NG</td>\n",
       "      <td>NaN</td>\n",
       "    </tr>\n",
       "    <tr>\n",
       "      <th>8</th>\n",
       "      <td>BEECH</td>\n",
       "      <td>58</td>\n",
       "      <td>NaN</td>\n",
       "    </tr>\n",
       "    <tr>\n",
       "      <th>13</th>\n",
       "      <td>BURSEY FREDERICK J</td>\n",
       "      <td>RV-7A</td>\n",
       "      <td>NaN</td>\n",
       "    </tr>\n",
       "    <tr>\n",
       "      <th>16</th>\n",
       "      <td>Uvify</td>\n",
       "      <td>IFO</td>\n",
       "      <td>NaN</td>\n",
       "    </tr>\n",
       "    <tr>\n",
       "      <th>18</th>\n",
       "      <td>PIPER</td>\n",
       "      <td>PA28</td>\n",
       "      <td>NaN</td>\n",
       "    </tr>\n",
       "    <tr>\n",
       "      <th>...</th>\n",
       "      <td>...</td>\n",
       "      <td>...</td>\n",
       "      <td>...</td>\n",
       "    </tr>\n",
       "    <tr>\n",
       "      <th>9568</th>\n",
       "      <td>MCDONNELL DOUGLAS</td>\n",
       "      <td>MD11</td>\n",
       "      <td>NaN</td>\n",
       "    </tr>\n",
       "    <tr>\n",
       "      <th>9569</th>\n",
       "      <td>Hill Group LLC</td>\n",
       "      <td>CCX-2000</td>\n",
       "      <td>NaN</td>\n",
       "    </tr>\n",
       "    <tr>\n",
       "      <th>9573</th>\n",
       "      <td>Champion</td>\n",
       "      <td>7ECA</td>\n",
       "      <td>NaN</td>\n",
       "    </tr>\n",
       "    <tr>\n",
       "      <th>9592</th>\n",
       "      <td>Piper</td>\n",
       "      <td>PA28R</td>\n",
       "      <td>NaN</td>\n",
       "    </tr>\n",
       "    <tr>\n",
       "      <th>9598</th>\n",
       "      <td>Cirrus</td>\n",
       "      <td>SR22</td>\n",
       "      <td>NaN</td>\n",
       "    </tr>\n",
       "  </tbody>\n",
       "</table>\n",
       "<p>1056 rows × 3 columns</p>\n",
       "</div>"
      ],
      "text/plain": [
       "                          Make     Model NumberOfEngines\n",
       "5     DIAMOND AIRCRAFT IND INC  DA 40 NG             NaN\n",
       "8                        BEECH        58             NaN\n",
       "13          BURSEY FREDERICK J     RV-7A             NaN\n",
       "16                       Uvify       IFO             NaN\n",
       "18                       PIPER      PA28             NaN\n",
       "...                        ...       ...             ...\n",
       "9568         MCDONNELL DOUGLAS      MD11             NaN\n",
       "9569            Hill Group LLC  CCX-2000             NaN\n",
       "9573                  Champion      7ECA             NaN\n",
       "9592                     Piper     PA28R             NaN\n",
       "9598                    Cirrus      SR22             NaN\n",
       "\n",
       "[1056 rows x 3 columns]"
      ]
     },
     "execution_count": 174,
     "metadata": {},
     "output_type": "execute_result"
    }
   ],
   "source": [
    "df[(df['NumberOfEngines'].isna())][['Make','Model','NumberOfEngines']]"
   ]
  },
  {
   "cell_type": "code",
   "execution_count": 175,
   "metadata": {},
   "outputs": [],
   "source": [
    "# using the same logic as CESSNA\n",
    "df['ModelNumber'] = df['Model'].str.extract(r'(\\d+)').astype(float)\n",
    "df.loc[df['ModelNumber'] < 300, 'NumberOfEngines'] = 1\n",
    "df.loc[df['ModelNumber'] >= 300, 'NumberOfEngines'] = 2\n",
    "\n",
    "df = df.drop(['ModelNumber'], axis=1)"
   ]
  },
  {
   "cell_type": "markdown",
   "metadata": {},
   "source": [
    "Now there are only several missing values we need to fill."
   ]
  },
  {
   "cell_type": "code",
   "execution_count": 176,
   "metadata": {},
   "outputs": [
    {
     "data": {
      "text/html": [
       "<div>\n",
       "<style scoped>\n",
       "    .dataframe tbody tr th:only-of-type {\n",
       "        vertical-align: middle;\n",
       "    }\n",
       "\n",
       "    .dataframe tbody tr th {\n",
       "        vertical-align: top;\n",
       "    }\n",
       "\n",
       "    .dataframe thead th {\n",
       "        text-align: right;\n",
       "    }\n",
       "</style>\n",
       "<table border=\"1\" class=\"dataframe\">\n",
       "  <thead>\n",
       "    <tr style=\"text-align: right;\">\n",
       "      <th></th>\n",
       "      <th>Make</th>\n",
       "      <th>Model</th>\n",
       "      <th>NumberOfEngines</th>\n",
       "    </tr>\n",
       "  </thead>\n",
       "  <tbody>\n",
       "    <tr>\n",
       "      <th>16</th>\n",
       "      <td>Uvify</td>\n",
       "      <td>IFO</td>\n",
       "      <td>NaN</td>\n",
       "    </tr>\n",
       "    <tr>\n",
       "      <th>41</th>\n",
       "      <td>CHRISTEN</td>\n",
       "      <td>EAGLE II</td>\n",
       "      <td>NaN</td>\n",
       "    </tr>\n",
       "    <tr>\n",
       "      <th>506</th>\n",
       "      <td>WAG AERO</td>\n",
       "      <td>Sport Trainer</td>\n",
       "      <td>NaN</td>\n",
       "    </tr>\n",
       "    <tr>\n",
       "      <th>573</th>\n",
       "      <td>BRM AERO SRO</td>\n",
       "      <td>BRISTELL S-LSA</td>\n",
       "      <td>NaN</td>\n",
       "    </tr>\n",
       "    <tr>\n",
       "      <th>665</th>\n",
       "      <td>Just</td>\n",
       "      <td>HIGHLANDER</td>\n",
       "      <td>NaN</td>\n",
       "    </tr>\n",
       "    <tr>\n",
       "      <th>...</th>\n",
       "      <td>...</td>\n",
       "      <td>...</td>\n",
       "      <td>...</td>\n",
       "    </tr>\n",
       "    <tr>\n",
       "      <th>9116</th>\n",
       "      <td>Flight Design</td>\n",
       "      <td>CTSW</td>\n",
       "      <td>NaN</td>\n",
       "    </tr>\n",
       "    <tr>\n",
       "      <th>9159</th>\n",
       "      <td>Cub Crafters</td>\n",
       "      <td>CARBON CUB EX</td>\n",
       "      <td>NaN</td>\n",
       "    </tr>\n",
       "    <tr>\n",
       "      <th>9247</th>\n",
       "      <td>ACRO</td>\n",
       "      <td>SUPER ACRO SPORT I</td>\n",
       "      <td>NaN</td>\n",
       "    </tr>\n",
       "    <tr>\n",
       "      <th>9248</th>\n",
       "      <td>TL Ultralight SRO</td>\n",
       "      <td>STINGSPORT</td>\n",
       "      <td>NaN</td>\n",
       "    </tr>\n",
       "    <tr>\n",
       "      <th>9365</th>\n",
       "      <td>HOGAN</td>\n",
       "      <td>Innovator</td>\n",
       "      <td>NaN</td>\n",
       "    </tr>\n",
       "  </tbody>\n",
       "</table>\n",
       "<p>72 rows × 3 columns</p>\n",
       "</div>"
      ],
      "text/plain": [
       "                   Make               Model NumberOfEngines\n",
       "16                Uvify                 IFO             NaN\n",
       "41             CHRISTEN            EAGLE II             NaN\n",
       "506            WAG AERO       Sport Trainer             NaN\n",
       "573        BRM AERO SRO      BRISTELL S-LSA             NaN\n",
       "665                Just          HIGHLANDER             NaN\n",
       "...                 ...                 ...             ...\n",
       "9116      Flight Design                CTSW             NaN\n",
       "9159       Cub Crafters       CARBON CUB EX             NaN\n",
       "9247               ACRO  SUPER ACRO SPORT I             NaN\n",
       "9248  TL Ultralight SRO          STINGSPORT             NaN\n",
       "9365              HOGAN           Innovator             NaN\n",
       "\n",
       "[72 rows x 3 columns]"
      ]
     },
     "execution_count": 176,
     "metadata": {},
     "output_type": "execute_result"
    }
   ],
   "source": [
    "df[(df['NumberOfEngines'].isna())][['Make','Model','NumberOfEngines']]"
   ]
  },
  {
   "cell_type": "code",
   "execution_count": 177,
   "metadata": {},
   "outputs": [
    {
     "data": {
      "text/html": [
       "<div>\n",
       "<style scoped>\n",
       "    .dataframe tbody tr th:only-of-type {\n",
       "        vertical-align: middle;\n",
       "    }\n",
       "\n",
       "    .dataframe tbody tr th {\n",
       "        vertical-align: top;\n",
       "    }\n",
       "\n",
       "    .dataframe thead th {\n",
       "        text-align: right;\n",
       "    }\n",
       "</style>\n",
       "<table border=\"1\" class=\"dataframe\">\n",
       "  <thead>\n",
       "    <tr style=\"text-align: right;\">\n",
       "      <th></th>\n",
       "      <th>Make</th>\n",
       "      <th>Model</th>\n",
       "      <th>NumberOfEngines</th>\n",
       "    </tr>\n",
       "  </thead>\n",
       "  <tbody>\n",
       "    <tr>\n",
       "      <th>1772</th>\n",
       "      <td>GULFSTREAM</td>\n",
       "      <td>695A</td>\n",
       "      <td>2</td>\n",
       "    </tr>\n",
       "    <tr>\n",
       "      <th>2100</th>\n",
       "      <td>GULFSTREAM</td>\n",
       "      <td>690C</td>\n",
       "      <td>2</td>\n",
       "    </tr>\n",
       "    <tr>\n",
       "      <th>2463</th>\n",
       "      <td>GULFSTREAM</td>\n",
       "      <td>II</td>\n",
       "      <td>NaN</td>\n",
       "    </tr>\n",
       "    <tr>\n",
       "      <th>4084</th>\n",
       "      <td>GULFSTREAM</td>\n",
       "      <td>GIV</td>\n",
       "      <td>NaN</td>\n",
       "    </tr>\n",
       "    <tr>\n",
       "      <th>4995</th>\n",
       "      <td>GULFSTREAM</td>\n",
       "      <td>GIV</td>\n",
       "      <td>2</td>\n",
       "    </tr>\n",
       "    <tr>\n",
       "      <th>5872</th>\n",
       "      <td>GULFSTREAM</td>\n",
       "      <td>GULFSTREAM200</td>\n",
       "      <td>1</td>\n",
       "    </tr>\n",
       "    <tr>\n",
       "      <th>7908</th>\n",
       "      <td>GULFSTREAM</td>\n",
       "      <td>150</td>\n",
       "      <td>1</td>\n",
       "    </tr>\n",
       "  </tbody>\n",
       "</table>\n",
       "</div>"
      ],
      "text/plain": [
       "            Make          Model NumberOfEngines\n",
       "1772  GULFSTREAM           695A               2\n",
       "2100  GULFSTREAM           690C               2\n",
       "2463  GULFSTREAM             II             NaN\n",
       "4084  GULFSTREAM            GIV             NaN\n",
       "4995  GULFSTREAM            GIV               2\n",
       "5872  GULFSTREAM  GULFSTREAM200               1\n",
       "7908  GULFSTREAM            150               1"
      ]
     },
     "execution_count": 177,
     "metadata": {},
     "output_type": "execute_result"
    }
   ],
   "source": [
    "df[(df['Make']== 'GULFSTREAM')][['Make','Model','NumberOfEngines']]"
   ]
  },
  {
   "cell_type": "code",
   "execution_count": 178,
   "metadata": {},
   "outputs": [],
   "source": [
    "# the GULFSTREAM can be searched on the internet\n",
    "df.loc[(df['Make'] == 'GULFSTREAM') & (df['Model'] == 'II'), 'NumberOfEngines'] = 2\n",
    "df.loc[(df['Make'] == 'GULFSTREAM') & (df['Model'] == 'GIV'), 'NumberOfEngines'] = 2"
   ]
  },
  {
   "cell_type": "markdown",
   "metadata": {},
   "source": [
    "Now there are several manufacturer that not quite an airplane, its is ultraweight, glider, or helicopter."
   ]
  },
  {
   "cell_type": "code",
   "execution_count": 179,
   "metadata": {},
   "outputs": [],
   "source": [
    "# put model name in ultralights variable\n",
    "ultralights = ['BRISTELL S-LSA', 'SuperStol', 'Airaile', 'StingSport', 'Ventura']\n",
    "# then replace it after checking their model\n",
    "df.loc[df['Model'].isin(ultralights), 'NumberOfEngines'] = 1\n",
    "# the code below are basically the same"
   ]
  },
  {
   "cell_type": "code",
   "execution_count": 180,
   "metadata": {},
   "outputs": [],
   "source": [
    "gliders = ['STANDARD CIRRUS', 'ARCUS', 'PHOEBUS']\n",
    "df.loc[df['Model'].isin(gliders), 'NumberOfEngines'] = 0"
   ]
  },
  {
   "cell_type": "code",
   "execution_count": 181,
   "metadata": {},
   "outputs": [],
   "source": [
    "helicopters = ['CARBON CUB EX', 'Alta-X', 'Innovator']\n",
    "df.loc[df['Model'].isin(helicopters), 'NumberOfEngines'] = 1"
   ]
  },
  {
   "cell_type": "code",
   "execution_count": 182,
   "metadata": {},
   "outputs": [
    {
     "data": {
      "text/html": [
       "<div>\n",
       "<style scoped>\n",
       "    .dataframe tbody tr th:only-of-type {\n",
       "        vertical-align: middle;\n",
       "    }\n",
       "\n",
       "    .dataframe tbody tr th {\n",
       "        vertical-align: top;\n",
       "    }\n",
       "\n",
       "    .dataframe thead th {\n",
       "        text-align: right;\n",
       "    }\n",
       "</style>\n",
       "<table border=\"1\" class=\"dataframe\">\n",
       "  <thead>\n",
       "    <tr style=\"text-align: right;\">\n",
       "      <th></th>\n",
       "      <th>Make</th>\n",
       "      <th>Model</th>\n",
       "      <th>NumberOfEngines</th>\n",
       "    </tr>\n",
       "  </thead>\n",
       "  <tbody>\n",
       "    <tr>\n",
       "      <th>16</th>\n",
       "      <td>Uvify</td>\n",
       "      <td>IFO</td>\n",
       "      <td>NaN</td>\n",
       "    </tr>\n",
       "    <tr>\n",
       "      <th>41</th>\n",
       "      <td>CHRISTEN</td>\n",
       "      <td>EAGLE II</td>\n",
       "      <td>NaN</td>\n",
       "    </tr>\n",
       "    <tr>\n",
       "      <th>506</th>\n",
       "      <td>WAG AERO</td>\n",
       "      <td>Sport Trainer</td>\n",
       "      <td>NaN</td>\n",
       "    </tr>\n",
       "    <tr>\n",
       "      <th>665</th>\n",
       "      <td>Just</td>\n",
       "      <td>HIGHLANDER</td>\n",
       "      <td>NaN</td>\n",
       "    </tr>\n",
       "    <tr>\n",
       "      <th>1024</th>\n",
       "      <td>MURPHY</td>\n",
       "      <td>REBEL</td>\n",
       "      <td>NaN</td>\n",
       "    </tr>\n",
       "    <tr>\n",
       "      <th>1309</th>\n",
       "      <td>BELLANCA</td>\n",
       "      <td>Citabria</td>\n",
       "      <td>NaN</td>\n",
       "    </tr>\n",
       "    <tr>\n",
       "      <th>1371</th>\n",
       "      <td>ROCKWELL</td>\n",
       "      <td>Commander</td>\n",
       "      <td>NaN</td>\n",
       "    </tr>\n",
       "    <tr>\n",
       "      <th>2002</th>\n",
       "      <td>BUCKEYE</td>\n",
       "      <td>DREAM MACHINE</td>\n",
       "      <td>NaN</td>\n",
       "    </tr>\n",
       "    <tr>\n",
       "      <th>2077</th>\n",
       "      <td>CHRISTEN</td>\n",
       "      <td>EAGLE II</td>\n",
       "      <td>NaN</td>\n",
       "    </tr>\n",
       "    <tr>\n",
       "      <th>2430</th>\n",
       "      <td>Cygnet</td>\n",
       "      <td>sea &amp; Sky</td>\n",
       "      <td>NaN</td>\n",
       "    </tr>\n",
       "    <tr>\n",
       "      <th>2542</th>\n",
       "      <td>REIMS</td>\n",
       "      <td>F</td>\n",
       "      <td>NaN</td>\n",
       "    </tr>\n",
       "    <tr>\n",
       "      <th>2545</th>\n",
       "      <td>Kitfox</td>\n",
       "      <td>Mk IV</td>\n",
       "      <td>NaN</td>\n",
       "    </tr>\n",
       "    <tr>\n",
       "      <th>3224</th>\n",
       "      <td>Aero Eli Servizi</td>\n",
       "      <td>YOYO</td>\n",
       "      <td>NaN</td>\n",
       "    </tr>\n",
       "    <tr>\n",
       "      <th>3359</th>\n",
       "      <td>ROTORWAY</td>\n",
       "      <td>unk</td>\n",
       "      <td>NaN</td>\n",
       "    </tr>\n",
       "    <tr>\n",
       "      <th>3648</th>\n",
       "      <td>Challenger</td>\n",
       "      <td>II</td>\n",
       "      <td>NaN</td>\n",
       "    </tr>\n",
       "    <tr>\n",
       "      <th>3653</th>\n",
       "      <td>Wagaero</td>\n",
       "      <td>Sportsman</td>\n",
       "      <td>NaN</td>\n",
       "    </tr>\n",
       "    <tr>\n",
       "      <th>3846</th>\n",
       "      <td>Uvify</td>\n",
       "      <td>IFO</td>\n",
       "      <td>NaN</td>\n",
       "    </tr>\n",
       "    <tr>\n",
       "      <th>3950</th>\n",
       "      <td>drone</td>\n",
       "      <td>Viper Pro</td>\n",
       "      <td>NaN</td>\n",
       "    </tr>\n",
       "    <tr>\n",
       "      <th>4151</th>\n",
       "      <td>CASSUTT</td>\n",
       "      <td>IIIM</td>\n",
       "      <td>NaN</td>\n",
       "    </tr>\n",
       "    <tr>\n",
       "      <th>4154</th>\n",
       "      <td>Cassult Racer</td>\n",
       "      <td>IIIM</td>\n",
       "      <td>NaN</td>\n",
       "    </tr>\n",
       "    <tr>\n",
       "      <th>4531</th>\n",
       "      <td>MONNETT</td>\n",
       "      <td>SONERAI</td>\n",
       "      <td>NaN</td>\n",
       "    </tr>\n",
       "    <tr>\n",
       "      <th>5038</th>\n",
       "      <td>Murphy</td>\n",
       "      <td>Rebel</td>\n",
       "      <td>NaN</td>\n",
       "    </tr>\n",
       "    <tr>\n",
       "      <th>5070</th>\n",
       "      <td>BAE</td>\n",
       "      <td>ATP</td>\n",
       "      <td>NaN</td>\n",
       "    </tr>\n",
       "    <tr>\n",
       "      <th>5126</th>\n",
       "      <td>Just Aircraft LLC</td>\n",
       "      <td>Escapade</td>\n",
       "      <td>NaN</td>\n",
       "    </tr>\n",
       "    <tr>\n",
       "      <th>5544</th>\n",
       "      <td>Acroduster</td>\n",
       "      <td>II</td>\n",
       "      <td>NaN</td>\n",
       "    </tr>\n",
       "    <tr>\n",
       "      <th>5563</th>\n",
       "      <td>SUPERMARINE</td>\n",
       "      <td>SPITFIRE</td>\n",
       "      <td>NaN</td>\n",
       "    </tr>\n",
       "    <tr>\n",
       "      <th>5766</th>\n",
       "      <td>Joplin</td>\n",
       "      <td>Tundra</td>\n",
       "      <td>NaN</td>\n",
       "    </tr>\n",
       "    <tr>\n",
       "      <th>6115</th>\n",
       "      <td>Storm Fury</td>\n",
       "      <td>RG</td>\n",
       "      <td>NaN</td>\n",
       "    </tr>\n",
       "    <tr>\n",
       "      <th>6399</th>\n",
       "      <td>Wag-a-Bond Traveller</td>\n",
       "      <td>Wag-A-Bond</td>\n",
       "      <td>NaN</td>\n",
       "    </tr>\n",
       "    <tr>\n",
       "      <th>6505</th>\n",
       "      <td>ROTORWAY</td>\n",
       "      <td>EXEC</td>\n",
       "      <td>NaN</td>\n",
       "    </tr>\n",
       "    <tr>\n",
       "      <th>6631</th>\n",
       "      <td>Sonex</td>\n",
       "      <td>Tailwheel</td>\n",
       "      <td>NaN</td>\n",
       "    </tr>\n",
       "    <tr>\n",
       "      <th>6643</th>\n",
       "      <td>AFICIONADO</td>\n",
       "      <td>MINI-MAX EROS</td>\n",
       "      <td>NaN</td>\n",
       "    </tr>\n",
       "    <tr>\n",
       "      <th>6861</th>\n",
       "      <td>KJOSTAD JORGEN A</td>\n",
       "      <td>WAGABOND</td>\n",
       "      <td>NaN</td>\n",
       "    </tr>\n",
       "    <tr>\n",
       "      <th>6879</th>\n",
       "      <td>Evolution</td>\n",
       "      <td>Revolt</td>\n",
       "      <td>NaN</td>\n",
       "    </tr>\n",
       "    <tr>\n",
       "      <th>6965</th>\n",
       "      <td>RAVEN AIRCRAFT CORPPRATION</td>\n",
       "      <td>RAVEN</td>\n",
       "      <td>NaN</td>\n",
       "    </tr>\n",
       "    <tr>\n",
       "      <th>7117</th>\n",
       "      <td>Progressive Aerodyne</td>\n",
       "      <td>SEAREY</td>\n",
       "      <td>NaN</td>\n",
       "    </tr>\n",
       "    <tr>\n",
       "      <th>7155</th>\n",
       "      <td>HAWKER</td>\n",
       "      <td>SEA FURY</td>\n",
       "      <td>NaN</td>\n",
       "    </tr>\n",
       "    <tr>\n",
       "      <th>7173</th>\n",
       "      <td>GREG MILLER</td>\n",
       "      <td>GOT ROCKS</td>\n",
       "      <td>NaN</td>\n",
       "    </tr>\n",
       "    <tr>\n",
       "      <th>7298</th>\n",
       "      <td>Golden Circle Air</td>\n",
       "      <td>T-Bird</td>\n",
       "      <td>NaN</td>\n",
       "    </tr>\n",
       "    <tr>\n",
       "      <th>7464</th>\n",
       "      <td>Flight Design</td>\n",
       "      <td>CTLS</td>\n",
       "      <td>NaN</td>\n",
       "    </tr>\n",
       "    <tr>\n",
       "      <th>7498</th>\n",
       "      <td>SONEX</td>\n",
       "      <td>SONEX</td>\n",
       "      <td>NaN</td>\n",
       "    </tr>\n",
       "    <tr>\n",
       "      <th>7562</th>\n",
       "      <td>Osprey 2</td>\n",
       "      <td>Amphibian</td>\n",
       "      <td>NaN</td>\n",
       "    </tr>\n",
       "    <tr>\n",
       "      <th>7584</th>\n",
       "      <td>Daher</td>\n",
       "      <td>Kodiak</td>\n",
       "      <td>NaN</td>\n",
       "    </tr>\n",
       "    <tr>\n",
       "      <th>7595</th>\n",
       "      <td>North American</td>\n",
       "      <td>SNJ</td>\n",
       "      <td>NaN</td>\n",
       "    </tr>\n",
       "    <tr>\n",
       "      <th>7625</th>\n",
       "      <td>COOK</td>\n",
       "      <td>SONEX</td>\n",
       "      <td>NaN</td>\n",
       "    </tr>\n",
       "    <tr>\n",
       "      <th>7933</th>\n",
       "      <td>Powrachute</td>\n",
       "      <td>AIRWOLF</td>\n",
       "      <td>NaN</td>\n",
       "    </tr>\n",
       "    <tr>\n",
       "      <th>8398</th>\n",
       "      <td>COZY</td>\n",
       "      <td>Mark IV</td>\n",
       "      <td>NaN</td>\n",
       "    </tr>\n",
       "    <tr>\n",
       "      <th>8509</th>\n",
       "      <td>SCODA AERONAUTICAL</td>\n",
       "      <td>Super Petrel</td>\n",
       "      <td>NaN</td>\n",
       "    </tr>\n",
       "    <tr>\n",
       "      <th>8691</th>\n",
       "      <td>Culver</td>\n",
       "      <td>LCA</td>\n",
       "      <td>NaN</td>\n",
       "    </tr>\n",
       "    <tr>\n",
       "      <th>8739</th>\n",
       "      <td>Judd</td>\n",
       "      <td>Challenger II</td>\n",
       "      <td>NaN</td>\n",
       "    </tr>\n",
       "    <tr>\n",
       "      <th>8764</th>\n",
       "      <td>WILLIE BENNETT</td>\n",
       "      <td>Glastar</td>\n",
       "      <td>NaN</td>\n",
       "    </tr>\n",
       "    <tr>\n",
       "      <th>8775</th>\n",
       "      <td>STEEN</td>\n",
       "      <td>Skybolt</td>\n",
       "      <td>NaN</td>\n",
       "    </tr>\n",
       "    <tr>\n",
       "      <th>8909</th>\n",
       "      <td>QUICKSILVER</td>\n",
       "      <td>Sport</td>\n",
       "      <td>NaN</td>\n",
       "    </tr>\n",
       "    <tr>\n",
       "      <th>8969</th>\n",
       "      <td>JAMES</td>\n",
       "      <td>Experimental Cub</td>\n",
       "      <td>NaN</td>\n",
       "    </tr>\n",
       "    <tr>\n",
       "      <th>8992</th>\n",
       "      <td>S M &amp; T Aircraft</td>\n",
       "      <td>UH</td>\n",
       "      <td>NaN</td>\n",
       "    </tr>\n",
       "    <tr>\n",
       "      <th>9039</th>\n",
       "      <td>AURORA</td>\n",
       "      <td>PAV</td>\n",
       "      <td>NaN</td>\n",
       "    </tr>\n",
       "    <tr>\n",
       "      <th>9049</th>\n",
       "      <td>DAVID S MEEK</td>\n",
       "      <td>SUN DEVIL</td>\n",
       "      <td>NaN</td>\n",
       "    </tr>\n",
       "    <tr>\n",
       "      <th>9116</th>\n",
       "      <td>Flight Design</td>\n",
       "      <td>CTSW</td>\n",
       "      <td>NaN</td>\n",
       "    </tr>\n",
       "    <tr>\n",
       "      <th>9247</th>\n",
       "      <td>ACRO</td>\n",
       "      <td>SUPER ACRO SPORT I</td>\n",
       "      <td>NaN</td>\n",
       "    </tr>\n",
       "    <tr>\n",
       "      <th>9248</th>\n",
       "      <td>TL Ultralight SRO</td>\n",
       "      <td>STINGSPORT</td>\n",
       "      <td>NaN</td>\n",
       "    </tr>\n",
       "  </tbody>\n",
       "</table>\n",
       "</div>"
      ],
      "text/plain": [
       "                            Make               Model NumberOfEngines\n",
       "16                         Uvify                 IFO             NaN\n",
       "41                      CHRISTEN            EAGLE II             NaN\n",
       "506                     WAG AERO       Sport Trainer             NaN\n",
       "665                         Just          HIGHLANDER             NaN\n",
       "1024                      MURPHY               REBEL             NaN\n",
       "1309                    BELLANCA            Citabria             NaN\n",
       "1371                    ROCKWELL           Commander             NaN\n",
       "2002                     BUCKEYE       DREAM MACHINE             NaN\n",
       "2077                    CHRISTEN            EAGLE II             NaN\n",
       "2430                      Cygnet           sea & Sky             NaN\n",
       "2542                       REIMS                   F             NaN\n",
       "2545                      Kitfox               Mk IV             NaN\n",
       "3224            Aero Eli Servizi                YOYO             NaN\n",
       "3359                    ROTORWAY                 unk             NaN\n",
       "3648                  Challenger                  II             NaN\n",
       "3653                     Wagaero           Sportsman             NaN\n",
       "3846                       Uvify                 IFO             NaN\n",
       "3950                       drone           Viper Pro             NaN\n",
       "4151                     CASSUTT                IIIM             NaN\n",
       "4154               Cassult Racer                IIIM             NaN\n",
       "4531                     MONNETT             SONERAI             NaN\n",
       "5038                      Murphy               Rebel             NaN\n",
       "5070                         BAE                 ATP             NaN\n",
       "5126           Just Aircraft LLC            Escapade             NaN\n",
       "5544                  Acroduster                  II             NaN\n",
       "5563                 SUPERMARINE            SPITFIRE             NaN\n",
       "5766                      Joplin              Tundra             NaN\n",
       "6115                  Storm Fury                  RG             NaN\n",
       "6399        Wag-a-Bond Traveller          Wag-A-Bond             NaN\n",
       "6505                    ROTORWAY                EXEC             NaN\n",
       "6631                       Sonex           Tailwheel             NaN\n",
       "6643                  AFICIONADO       MINI-MAX EROS             NaN\n",
       "6861            KJOSTAD JORGEN A            WAGABOND             NaN\n",
       "6879                   Evolution              Revolt             NaN\n",
       "6965  RAVEN AIRCRAFT CORPPRATION               RAVEN             NaN\n",
       "7117        Progressive Aerodyne              SEAREY             NaN\n",
       "7155                      HAWKER            SEA FURY             NaN\n",
       "7173                 GREG MILLER           GOT ROCKS             NaN\n",
       "7298           Golden Circle Air              T-Bird             NaN\n",
       "7464               Flight Design                CTLS             NaN\n",
       "7498                       SONEX               SONEX             NaN\n",
       "7562                    Osprey 2           Amphibian             NaN\n",
       "7584                       Daher              Kodiak             NaN\n",
       "7595              North American                 SNJ             NaN\n",
       "7625                        COOK               SONEX             NaN\n",
       "7933                  Powrachute             AIRWOLF             NaN\n",
       "8398                        COZY             Mark IV             NaN\n",
       "8509          SCODA AERONAUTICAL        Super Petrel             NaN\n",
       "8691                      Culver                 LCA             NaN\n",
       "8739                        Judd       Challenger II             NaN\n",
       "8764              WILLIE BENNETT             Glastar             NaN\n",
       "8775                       STEEN             Skybolt             NaN\n",
       "8909                 QUICKSILVER               Sport             NaN\n",
       "8969                       JAMES    Experimental Cub             NaN\n",
       "8992            S M & T Aircraft                  UH             NaN\n",
       "9039                      AURORA                 PAV             NaN\n",
       "9049                DAVID S MEEK           SUN DEVIL             NaN\n",
       "9116               Flight Design                CTSW             NaN\n",
       "9247                        ACRO  SUPER ACRO SPORT I             NaN\n",
       "9248           TL Ultralight SRO          STINGSPORT             NaN"
      ]
     },
     "execution_count": 182,
     "metadata": {},
     "output_type": "execute_result"
    }
   ],
   "source": [
    "# Checking the missing values of the rest of number of engines\n",
    "df[(df['NumberOfEngines'].isna())][['Make','Model','NumberOfEngines']]"
   ]
  },
  {
   "cell_type": "markdown",
   "metadata": {},
   "source": [
    "As for the rest, non-big company that not quite famous usually only manufacture a single engine airplane. Therefore, we will fill them with 1 engine."
   ]
  },
  {
   "cell_type": "code",
   "execution_count": 183,
   "metadata": {},
   "outputs": [
    {
     "name": "stderr",
     "output_type": "stream",
     "text": [
      "C:\\Users\\Affan\\AppData\\Local\\Temp\\ipykernel_8072\\3881371814.py:2: FutureWarning: A value is trying to be set on a copy of a DataFrame or Series through chained assignment using an inplace method.\n",
      "The behavior will change in pandas 3.0. This inplace method will never work because the intermediate object on which we are setting values always behaves as a copy.\n",
      "\n",
      "For example, when doing 'df[col].method(value, inplace=True)', try using 'df.method({col: value}, inplace=True)' or df[col] = df[col].method(value) instead, to perform the operation inplace on the original object.\n",
      "\n",
      "\n",
      "  df['NumberOfEngines'].fillna(1, inplace=True)\n"
     ]
    }
   ],
   "source": [
    "# filling the rest of missing values with 1\n",
    "df['NumberOfEngines'].fillna(1, inplace=True)"
   ]
  },
  {
   "cell_type": "code",
   "execution_count": 184,
   "metadata": {},
   "outputs": [
    {
     "data": {
      "text/plain": [
       "City                   0\n",
       "State                  0\n",
       "Country                0\n",
       "HasSafetyRec           0\n",
       "Latitude               0\n",
       "Longitude              0\n",
       "Make                   0\n",
       "Model                  0\n",
       "NumberOfEngines        0\n",
       "WeatherCondition    2383\n",
       "FAR                   41\n",
       "EventType              0\n",
       "dtype: int64"
      ]
     },
     "execution_count": 184,
     "metadata": {},
     "output_type": "execute_result"
    }
   ],
   "source": [
    "df.isna().sum()"
   ]
  },
  {
   "cell_type": "code",
   "execution_count": 185,
   "metadata": {},
   "outputs": [],
   "source": [
    "# look up the manufacture Beechcraft and fill it with 1\n",
    "df.loc[(df['Make'] == 'Beechcraft, BEECRAFT') & (df['Model'] == 'B, B'), 'NumberOfEngines'] = 1"
   ]
  },
  {
   "cell_type": "code",
   "execution_count": 186,
   "metadata": {},
   "outputs": [],
   "source": [
    "# change the column datatypes\n",
    "df = df.astype({\n",
    "    'HasSafetyRec': 'bool',\n",
    "    'Latitude': 'float64',\n",
    "    'Longitude': 'float64',\n",
    "    'NumberOfEngines': 'int64'\n",
    "})"
   ]
  },
  {
   "cell_type": "code",
   "execution_count": 187,
   "metadata": {},
   "outputs": [
    {
     "data": {
      "text/plain": [
       "array([1, 2, 0, 4], dtype=int64)"
      ]
     },
     "execution_count": 187,
     "metadata": {},
     "output_type": "execute_result"
    }
   ],
   "source": [
    "df['NumberOfEngines'].unique()"
   ]
  },
  {
   "cell_type": "markdown",
   "metadata": {},
   "source": [
    "### FAR Condition Missing Values"
   ]
  },
  {
   "cell_type": "code",
   "execution_count": 188,
   "metadata": {},
   "outputs": [
    {
     "data": {
      "text/html": [
       "<div>\n",
       "<style scoped>\n",
       "    .dataframe tbody tr th:only-of-type {\n",
       "        vertical-align: middle;\n",
       "    }\n",
       "\n",
       "    .dataframe tbody tr th {\n",
       "        vertical-align: top;\n",
       "    }\n",
       "\n",
       "    .dataframe thead th {\n",
       "        text-align: right;\n",
       "    }\n",
       "</style>\n",
       "<table border=\"1\" class=\"dataframe\">\n",
       "  <thead>\n",
       "    <tr style=\"text-align: right;\">\n",
       "      <th></th>\n",
       "      <th>Make</th>\n",
       "      <th>Model</th>\n",
       "      <th>FAR</th>\n",
       "    </tr>\n",
       "  </thead>\n",
       "  <tbody>\n",
       "    <tr>\n",
       "      <th>71</th>\n",
       "      <td>AIRBUS</td>\n",
       "      <td>A330</td>\n",
       "      <td>NaN</td>\n",
       "    </tr>\n",
       "    <tr>\n",
       "      <th>80</th>\n",
       "      <td>AIRBUS</td>\n",
       "      <td>A320</td>\n",
       "      <td>NaN</td>\n",
       "    </tr>\n",
       "    <tr>\n",
       "      <th>87</th>\n",
       "      <td>AIRBUS</td>\n",
       "      <td>320</td>\n",
       "      <td>129</td>\n",
       "    </tr>\n",
       "    <tr>\n",
       "      <th>123</th>\n",
       "      <td>AIRBUS</td>\n",
       "      <td>A320-214</td>\n",
       "      <td>129</td>\n",
       "    </tr>\n",
       "    <tr>\n",
       "      <th>145</th>\n",
       "      <td>AIRBUS</td>\n",
       "      <td>A320-214</td>\n",
       "      <td>NUSC</td>\n",
       "    </tr>\n",
       "    <tr>\n",
       "      <th>...</th>\n",
       "      <td>...</td>\n",
       "      <td>...</td>\n",
       "      <td>...</td>\n",
       "    </tr>\n",
       "    <tr>\n",
       "      <th>9429</th>\n",
       "      <td>AIRBUS</td>\n",
       "      <td>A320</td>\n",
       "      <td>NUSC</td>\n",
       "    </tr>\n",
       "    <tr>\n",
       "      <th>9483</th>\n",
       "      <td>AIRBUS</td>\n",
       "      <td>A350</td>\n",
       "      <td>135</td>\n",
       "    </tr>\n",
       "    <tr>\n",
       "      <th>9515</th>\n",
       "      <td>AIRBUS</td>\n",
       "      <td>A321</td>\n",
       "      <td>NUSC</td>\n",
       "    </tr>\n",
       "    <tr>\n",
       "      <th>9563</th>\n",
       "      <td>AIRBUS</td>\n",
       "      <td>A320</td>\n",
       "      <td>NUSC</td>\n",
       "    </tr>\n",
       "    <tr>\n",
       "      <th>9606</th>\n",
       "      <td>AIRBUS</td>\n",
       "      <td>A320</td>\n",
       "      <td>NUSC</td>\n",
       "    </tr>\n",
       "  </tbody>\n",
       "</table>\n",
       "<p>155 rows × 3 columns</p>\n",
       "</div>"
      ],
      "text/plain": [
       "        Make     Model   FAR\n",
       "71    AIRBUS      A330   NaN\n",
       "80    AIRBUS      A320   NaN\n",
       "87    AIRBUS       320   129\n",
       "123   AIRBUS  A320-214   129\n",
       "145   AIRBUS  A320-214  NUSC\n",
       "...      ...       ...   ...\n",
       "9429  AIRBUS      A320  NUSC\n",
       "9483  AIRBUS      A350   135\n",
       "9515  AIRBUS      A321  NUSC\n",
       "9563  AIRBUS      A320  NUSC\n",
       "9606  AIRBUS      A320  NUSC\n",
       "\n",
       "[155 rows x 3 columns]"
      ]
     },
     "execution_count": 188,
     "metadata": {},
     "output_type": "execute_result"
    }
   ],
   "source": [
    "df[(df['Make'] == 'AIRBUS')][['Make','Model','FAR']]"
   ]
  },
  {
   "cell_type": "markdown",
   "metadata": {},
   "source": [
    "For FAR is quite tricky, since it actually tied to individual airplane rather than their models."
   ]
  },
  {
   "cell_type": "code",
   "execution_count": 189,
   "metadata": {},
   "outputs": [
    {
     "data": {
      "text/plain": [
       "FAR\n",
       "091               6372\n",
       "NUSN              1093\n",
       "NUSC               619\n",
       "137                334\n",
       "135                258\n",
       "121                232\n",
       "UNK                197\n",
       "129                184\n",
       "PUBU                71\n",
       "091,091             57\n",
       "133                 40\n",
       "NUSC,NUSC           20\n",
       "121,121             15\n",
       "137,137              7\n",
       "NUSN,NUSN            6\n",
       "135,091              5\n",
       "121,091              5\n",
       "129,129              5\n",
       "NUSC,NUSN            4\n",
       "107                  4\n",
       "091,135              4\n",
       "091,UNK              3\n",
       "121,129              3\n",
       "UNK,UNK              3\n",
       "091K                 3\n",
       "135,135              2\n",
       "ARMF                 2\n",
       "PUBU,PUBU            2\n",
       "103                  2\n",
       "091,107              2\n",
       "129,121              2\n",
       ",                    2\n",
       "125                  2\n",
       "NUSC,UNK             1\n",
       "129,NUSC             1\n",
       "NUSC,121             1\n",
       "091,121              1\n",
       "121,135              1\n",
       "091,ARMF             1\n",
       "NUSC,NUSC,NUSC       1\n",
       "135,103              1\n",
       "135,107              1\n",
       "121,NUSC             1\n",
       "NUSC,PUBU            1\n",
       "NUSN,129             1\n",
       "Name: count, dtype: int64"
      ]
     },
     "execution_count": 189,
     "metadata": {},
     "output_type": "execute_result"
    }
   ],
   "source": [
    "df['FAR'].value_counts()"
   ]
  },
  {
   "cell_type": "markdown",
   "metadata": {},
   "source": [
    "And unfortunately there are several double values that it needs to be handled later."
   ]
  },
  {
   "cell_type": "code",
   "execution_count": 190,
   "metadata": {},
   "outputs": [
    {
     "data": {
      "text/plain": [
       "array([nan, '091', 'NUSN', 'UNK', '135', 'NUSC', '121', 'PUBU', '', '129',\n",
       "       '091K', '133', '121,091', '137', '091,UNK', '121,129', '125',\n",
       "       '129,121', '107', 'UNK,NUSC', '091,107', 'NUSN,NUSC', '091,135',\n",
       "       '103', '129,NUSC', '121,NUSC', '091,121', '121,135', '091,ARMF',\n",
       "       'ARMF', '103,135', '107,135', 'NUSC,PUBU', '129,NUSN'],\n",
       "      dtype=object)"
      ]
     },
     "execution_count": 190,
     "metadata": {},
     "output_type": "execute_result"
    }
   ],
   "source": [
    "# first split the values between , - then apply function. Check if value of x is list,\n",
    "# turn it to set to delete duplicate values, then join it again if its not a duplicate values\n",
    "df['FAR'] = df['FAR'].str.split(',').apply(lambda x: ','.join(set(x)) if isinstance(x, list) else x)\n",
    "df['FAR'].unique()"
   ]
  },
  {
   "cell_type": "markdown",
   "metadata": {},
   "source": [
    "As for the rest double values, since many of the FAR documents is actually overlapped, for example the 121 is actually 091 with extra benfit, we will take the highest order of FAR and put it as single values."
   ]
  },
  {
   "cell_type": "code",
   "execution_count": 191,
   "metadata": {},
   "outputs": [],
   "source": [
    "# make a priority order based on the aviation documents \n",
    "priority_order = ['121', '135', '091', 'NUSC', 'NUSN', 'PUBU', 'UNK']\n",
    "\n",
    "# read each row\n",
    "for i in range(len(df)):\n",
    "    # get value of FAR in each index\n",
    "    far_value = df.loc[i, 'FAR']\n",
    "\n",
    "    # check if the value of far is string\n",
    "    if isinstance(far_value, str):\n",
    "        # split it based on commas\n",
    "        far_values = far_value.split(',')\n",
    "\n",
    "        # read each elements in the priority_order\n",
    "        for priority in priority_order:\n",
    "            # check if priority are in far_values\n",
    "            if priority in far_values:\n",
    "                # update the far value with the first matching priority\n",
    "                df.loc[i, 'FAR'] = priority\n",
    "                # stop the loop\n",
    "                break"
   ]
  },
  {
   "cell_type": "markdown",
   "metadata": {},
   "source": [
    "And for the rest of missng values, we fill it for general aircraft, which have a code of 091 and most airplane big or small usually have this documents."
   ]
  },
  {
   "cell_type": "code",
   "execution_count": 192,
   "metadata": {},
   "outputs": [
    {
     "name": "stderr",
     "output_type": "stream",
     "text": [
      "C:\\Users\\Affan\\AppData\\Local\\Temp\\ipykernel_8072\\3159501215.py:2: FutureWarning: A value is trying to be set on a copy of a DataFrame or Series through chained assignment using an inplace method.\n",
      "The behavior will change in pandas 3.0. This inplace method will never work because the intermediate object on which we are setting values always behaves as a copy.\n",
      "\n",
      "For example, when doing 'df[col].method(value, inplace=True)', try using 'df.method({col: value}, inplace=True)' or df[col] = df[col].method(value) instead, to perform the operation inplace on the original object.\n",
      "\n",
      "\n",
      "  df['FAR'].fillna('091', inplace=True)\n"
     ]
    }
   ],
   "source": [
    "# fill the rest missing values with 091\n",
    "df['FAR'].fillna('091', inplace=True)"
   ]
  },
  {
   "cell_type": "code",
   "execution_count": 193,
   "metadata": {},
   "outputs": [
    {
     "data": {
      "text/plain": [
       "array(['091', 'NUSN', 'UNK', '135', 'NUSC', '121', 'PUBU', '', '129',\n",
       "       '091K', '133', '137', '125', '107', '103', 'ARMF'], dtype=object)"
      ]
     },
     "execution_count": 193,
     "metadata": {},
     "output_type": "execute_result"
    }
   ],
   "source": [
    "df['FAR'].unique()"
   ]
  },
  {
   "cell_type": "markdown",
   "metadata": {},
   "source": [
    "There are also '' values that we will fill it with 091."
   ]
  },
  {
   "cell_type": "code",
   "execution_count": 194,
   "metadata": {},
   "outputs": [],
   "source": [
    "df['FAR'] = df['FAR'].replace('', '091')"
   ]
  },
  {
   "cell_type": "code",
   "execution_count": 195,
   "metadata": {},
   "outputs": [
    {
     "data": {
      "text/plain": [
       "array(['091', 'NUSN', 'UNK', '135', 'NUSC', '121', 'PUBU', '129', '091K',\n",
       "       '133', '137', '125', '107', '103', 'ARMF'], dtype=object)"
      ]
     },
     "execution_count": 195,
     "metadata": {},
     "output_type": "execute_result"
    }
   ],
   "source": [
    "df['FAR'].unique()"
   ]
  },
  {
   "cell_type": "markdown",
   "metadata": {},
   "source": [
    "### Weather Condition Missing Values"
   ]
  },
  {
   "cell_type": "code",
   "execution_count": 196,
   "metadata": {},
   "outputs": [
    {
     "data": {
      "text/plain": [
       "array([nan, 'VMC', 'IMC', 'Unknown'], dtype=object)"
      ]
     },
     "execution_count": 196,
     "metadata": {},
     "output_type": "execute_result"
    }
   ],
   "source": [
    "df['WeatherCondition'].unique()"
   ]
  },
  {
   "cell_type": "markdown",
   "metadata": {},
   "source": [
    "Since there are already a category of 'Unknown' and we don't know how to determined Weather Condition with dataset we have, we just fill the missing values as Unknown."
   ]
  },
  {
   "cell_type": "code",
   "execution_count": 197,
   "metadata": {},
   "outputs": [
    {
     "name": "stderr",
     "output_type": "stream",
     "text": [
      "C:\\Users\\Affan\\AppData\\Local\\Temp\\ipykernel_8072\\4188192386.py:1: FutureWarning: A value is trying to be set on a copy of a DataFrame or Series through chained assignment using an inplace method.\n",
      "The behavior will change in pandas 3.0. This inplace method will never work because the intermediate object on which we are setting values always behaves as a copy.\n",
      "\n",
      "For example, when doing 'df[col].method(value, inplace=True)', try using 'df.method({col: value}, inplace=True)' or df[col] = df[col].method(value) instead, to perform the operation inplace on the original object.\n",
      "\n",
      "\n",
      "  df['WeatherCondition'].fillna('Unknown', inplace=True)\n"
     ]
    }
   ],
   "source": [
    "df['WeatherCondition'].fillna('Unknown', inplace=True)"
   ]
  },
  {
   "cell_type": "code",
   "execution_count": 198,
   "metadata": {},
   "outputs": [
    {
     "data": {
      "text/plain": [
       "WeatherCondition\n",
       "VMC        6846\n",
       "Unknown    2475\n",
       "IMC         292\n",
       "Name: count, dtype: int64"
      ]
     },
     "execution_count": 198,
     "metadata": {},
     "output_type": "execute_result"
    }
   ],
   "source": [
    "df['WeatherCondition'].value_counts()"
   ]
  },
  {
   "cell_type": "code",
   "execution_count": 199,
   "metadata": {},
   "outputs": [
    {
     "data": {
      "text/html": [
       "<div>\n",
       "<style scoped>\n",
       "    .dataframe tbody tr th:only-of-type {\n",
       "        vertical-align: middle;\n",
       "    }\n",
       "\n",
       "    .dataframe tbody tr th {\n",
       "        vertical-align: top;\n",
       "    }\n",
       "\n",
       "    .dataframe thead th {\n",
       "        text-align: right;\n",
       "    }\n",
       "</style>\n",
       "<table border=\"1\" class=\"dataframe\">\n",
       "  <thead>\n",
       "    <tr style=\"text-align: right;\">\n",
       "      <th></th>\n",
       "      <th>City</th>\n",
       "      <th>State</th>\n",
       "      <th>Country</th>\n",
       "      <th>HasSafetyRec</th>\n",
       "      <th>Latitude</th>\n",
       "      <th>Longitude</th>\n",
       "      <th>Make</th>\n",
       "      <th>Model</th>\n",
       "      <th>NumberOfEngines</th>\n",
       "      <th>WeatherCondition</th>\n",
       "      <th>FAR</th>\n",
       "      <th>EventType</th>\n",
       "    </tr>\n",
       "  </thead>\n",
       "  <tbody>\n",
       "    <tr>\n",
       "      <th>0</th>\n",
       "      <td>Anchorage</td>\n",
       "      <td>Alaska</td>\n",
       "      <td>United States</td>\n",
       "      <td>False</td>\n",
       "      <td>0.000000</td>\n",
       "      <td>0.000000</td>\n",
       "      <td>CESSNA</td>\n",
       "      <td>172N</td>\n",
       "      <td>1</td>\n",
       "      <td>Unknown</td>\n",
       "      <td>091</td>\n",
       "      <td>ACC</td>\n",
       "    </tr>\n",
       "    <tr>\n",
       "      <th>1</th>\n",
       "      <td>Galveston</td>\n",
       "      <td>Texas</td>\n",
       "      <td>United States</td>\n",
       "      <td>False</td>\n",
       "      <td>29.304540</td>\n",
       "      <td>-94.771416</td>\n",
       "      <td>ROBINSON HELICOPTER</td>\n",
       "      <td>R44</td>\n",
       "      <td>1</td>\n",
       "      <td>VMC</td>\n",
       "      <td>091</td>\n",
       "      <td>ACC</td>\n",
       "    </tr>\n",
       "    <tr>\n",
       "      <th>2</th>\n",
       "      <td>Peebles</td>\n",
       "      <td>Ohio</td>\n",
       "      <td>United States</td>\n",
       "      <td>False</td>\n",
       "      <td>0.000000</td>\n",
       "      <td>0.000000</td>\n",
       "      <td>CESSNA</td>\n",
       "      <td>310D</td>\n",
       "      <td>2</td>\n",
       "      <td>VMC</td>\n",
       "      <td>091</td>\n",
       "      <td>ACC</td>\n",
       "    </tr>\n",
       "    <tr>\n",
       "      <th>3</th>\n",
       "      <td>Oslo</td>\n",
       "      <td>Norway</td>\n",
       "      <td>Norway</td>\n",
       "      <td>False</td>\n",
       "      <td>0.000000</td>\n",
       "      <td>0.000000</td>\n",
       "      <td>BOEING</td>\n",
       "      <td>737</td>\n",
       "      <td>2</td>\n",
       "      <td>Unknown</td>\n",
       "      <td>091</td>\n",
       "      <td>ACC</td>\n",
       "    </tr>\n",
       "    <tr>\n",
       "      <th>4</th>\n",
       "      <td>Parsons</td>\n",
       "      <td>Kansas</td>\n",
       "      <td>United States</td>\n",
       "      <td>False</td>\n",
       "      <td>37.298300</td>\n",
       "      <td>-95.263110</td>\n",
       "      <td>Cozy</td>\n",
       "      <td>Cub</td>\n",
       "      <td>1</td>\n",
       "      <td>Unknown</td>\n",
       "      <td>091</td>\n",
       "      <td>ACC</td>\n",
       "    </tr>\n",
       "    <tr>\n",
       "      <th>...</th>\n",
       "      <td>...</td>\n",
       "      <td>...</td>\n",
       "      <td>...</td>\n",
       "      <td>...</td>\n",
       "      <td>...</td>\n",
       "      <td>...</td>\n",
       "      <td>...</td>\n",
       "      <td>...</td>\n",
       "      <td>...</td>\n",
       "      <td>...</td>\n",
       "      <td>...</td>\n",
       "      <td>...</td>\n",
       "    </tr>\n",
       "    <tr>\n",
       "      <th>9608</th>\n",
       "      <td>Townsend</td>\n",
       "      <td>Montana</td>\n",
       "      <td>United States</td>\n",
       "      <td>False</td>\n",
       "      <td>46.289165</td>\n",
       "      <td>-111.519447</td>\n",
       "      <td>Cessna</td>\n",
       "      <td>180</td>\n",
       "      <td>1</td>\n",
       "      <td>VMC</td>\n",
       "      <td>091</td>\n",
       "      <td>ACC</td>\n",
       "    </tr>\n",
       "    <tr>\n",
       "      <th>9609</th>\n",
       "      <td>Appleton</td>\n",
       "      <td>Minnesota</td>\n",
       "      <td>United States</td>\n",
       "      <td>False</td>\n",
       "      <td>45.227500</td>\n",
       "      <td>-96.004447</td>\n",
       "      <td>Cessna</td>\n",
       "      <td>172</td>\n",
       "      <td>1</td>\n",
       "      <td>VMC</td>\n",
       "      <td>091</td>\n",
       "      <td>ACC</td>\n",
       "    </tr>\n",
       "    <tr>\n",
       "      <th>9610</th>\n",
       "      <td>Sacramento</td>\n",
       "      <td>California</td>\n",
       "      <td>United States</td>\n",
       "      <td>False</td>\n",
       "      <td>38.600833</td>\n",
       "      <td>-121.503334</td>\n",
       "      <td>Progressive Aerodyne</td>\n",
       "      <td>SEAREY</td>\n",
       "      <td>1</td>\n",
       "      <td>VMC</td>\n",
       "      <td>091</td>\n",
       "      <td>ACC</td>\n",
       "    </tr>\n",
       "    <tr>\n",
       "      <th>9611</th>\n",
       "      <td>Santa Maria Island</td>\n",
       "      <td>Florida</td>\n",
       "      <td>United States</td>\n",
       "      <td>False</td>\n",
       "      <td>27.500000</td>\n",
       "      <td>-82.746665</td>\n",
       "      <td>Robinson</td>\n",
       "      <td>R44</td>\n",
       "      <td>1</td>\n",
       "      <td>VMC</td>\n",
       "      <td>091</td>\n",
       "      <td>ACC</td>\n",
       "    </tr>\n",
       "    <tr>\n",
       "      <th>9612</th>\n",
       "      <td>Ubatuba</td>\n",
       "      <td>Brazil</td>\n",
       "      <td>Brazil</td>\n",
       "      <td>False</td>\n",
       "      <td>-23.458055</td>\n",
       "      <td>-45.063056</td>\n",
       "      <td>Robinson</td>\n",
       "      <td>R44</td>\n",
       "      <td>1</td>\n",
       "      <td>VMC</td>\n",
       "      <td>NUSN</td>\n",
       "      <td>ACC</td>\n",
       "    </tr>\n",
       "  </tbody>\n",
       "</table>\n",
       "<p>9568 rows × 12 columns</p>\n",
       "</div>"
      ],
      "text/plain": [
       "                    City       State        Country  HasSafetyRec   Latitude  \\\n",
       "0              Anchorage      Alaska  United States         False   0.000000   \n",
       "1              Galveston       Texas  United States         False  29.304540   \n",
       "2                Peebles        Ohio  United States         False   0.000000   \n",
       "3                   Oslo      Norway         Norway         False   0.000000   \n",
       "4                Parsons      Kansas  United States         False  37.298300   \n",
       "...                  ...         ...            ...           ...        ...   \n",
       "9608            Townsend     Montana  United States         False  46.289165   \n",
       "9609            Appleton   Minnesota  United States         False  45.227500   \n",
       "9610          Sacramento  California  United States         False  38.600833   \n",
       "9611  Santa Maria Island     Florida  United States         False  27.500000   \n",
       "9612             Ubatuba      Brazil         Brazil         False -23.458055   \n",
       "\n",
       "       Longitude                  Make   Model  NumberOfEngines  \\\n",
       "0       0.000000                CESSNA    172N                1   \n",
       "1     -94.771416   ROBINSON HELICOPTER     R44                1   \n",
       "2       0.000000                CESSNA    310D                2   \n",
       "3       0.000000                BOEING     737                2   \n",
       "4     -95.263110                  Cozy     Cub                1   \n",
       "...          ...                   ...     ...              ...   \n",
       "9608 -111.519447                Cessna     180                1   \n",
       "9609  -96.004447                Cessna     172                1   \n",
       "9610 -121.503334  Progressive Aerodyne  SEAREY                1   \n",
       "9611  -82.746665              Robinson     R44                1   \n",
       "9612  -45.063056              Robinson     R44                1   \n",
       "\n",
       "     WeatherCondition   FAR EventType  \n",
       "0             Unknown   091       ACC  \n",
       "1                 VMC   091       ACC  \n",
       "2                 VMC   091       ACC  \n",
       "3             Unknown   091       ACC  \n",
       "4             Unknown   091       ACC  \n",
       "...               ...   ...       ...  \n",
       "9608              VMC   091       ACC  \n",
       "9609              VMC   091       ACC  \n",
       "9610              VMC   091       ACC  \n",
       "9611              VMC   091       ACC  \n",
       "9612              VMC  NUSN       ACC  \n",
       "\n",
       "[9568 rows x 12 columns]"
      ]
     },
     "execution_count": 199,
     "metadata": {},
     "output_type": "execute_result"
    }
   ],
   "source": [
    "df.drop_duplicates()"
   ]
  },
  {
   "cell_type": "code",
   "execution_count": 200,
   "metadata": {},
   "outputs": [
    {
     "name": "stdout",
     "output_type": "stream",
     "text": [
      "<class 'pandas.core.frame.DataFrame'>\n",
      "RangeIndex: 9613 entries, 0 to 9612\n",
      "Data columns (total 12 columns):\n",
      " #   Column            Non-Null Count  Dtype  \n",
      "---  ------            --------------  -----  \n",
      " 0   City              9613 non-null   object \n",
      " 1   State             9613 non-null   object \n",
      " 2   Country           9613 non-null   object \n",
      " 3   HasSafetyRec      9613 non-null   bool   \n",
      " 4   Latitude          9613 non-null   float64\n",
      " 5   Longitude         9613 non-null   float64\n",
      " 6   Make              9613 non-null   object \n",
      " 7   Model             9613 non-null   object \n",
      " 8   NumberOfEngines   9613 non-null   int64  \n",
      " 9   WeatherCondition  9613 non-null   object \n",
      " 10  FAR               9613 non-null   object \n",
      " 11  EventType         9613 non-null   object \n",
      "dtypes: bool(1), float64(2), int64(1), object(8)\n",
      "memory usage: 835.6+ KB\n"
     ]
    }
   ],
   "source": [
    "df.info()"
   ]
  },
  {
   "cell_type": "code",
   "execution_count": 201,
   "metadata": {},
   "outputs": [],
   "source": [
    "# change the datatype of HasSafetyRec to int\n",
    "df['HasSafetyRec'] = df['HasSafetyRec'].astype(int)"
   ]
  },
  {
   "cell_type": "code",
   "execution_count": 202,
   "metadata": {},
   "outputs": [
    {
     "name": "stdout",
     "output_type": "stream",
     "text": [
      "<class 'pandas.core.frame.DataFrame'>\n",
      "RangeIndex: 9613 entries, 0 to 9612\n",
      "Data columns (total 12 columns):\n",
      " #   Column            Non-Null Count  Dtype  \n",
      "---  ------            --------------  -----  \n",
      " 0   City              9613 non-null   object \n",
      " 1   State             9613 non-null   object \n",
      " 2   Country           9613 non-null   object \n",
      " 3   HasSafetyRec      9613 non-null   int32  \n",
      " 4   Latitude          9613 non-null   float64\n",
      " 5   Longitude         9613 non-null   float64\n",
      " 6   Make              9613 non-null   object \n",
      " 7   Model             9613 non-null   object \n",
      " 8   NumberOfEngines   9613 non-null   int64  \n",
      " 9   WeatherCondition  9613 non-null   object \n",
      " 10  FAR               9613 non-null   object \n",
      " 11  EventType         9613 non-null   object \n",
      "dtypes: float64(2), int32(1), int64(1), object(8)\n",
      "memory usage: 863.8+ KB\n"
     ]
    }
   ],
   "source": [
    "df.info()"
   ]
  },
  {
   "cell_type": "code",
   "execution_count": 204,
   "metadata": {},
   "outputs": [],
   "source": [
    "df.to_csv('Airplane Accident Clean.csv')"
   ]
  },
  {
   "cell_type": "markdown",
   "metadata": {},
   "source": [
    "# 4. Exploratory Data Analysis (EDA)"
   ]
  },
  {
   "cell_type": "markdown",
   "metadata": {},
   "source": [
    "### EventType Distribution"
   ]
  },
  {
   "cell_type": "markdown",
   "metadata": {},
   "source": [
    "I want to see the EventType distribution across top 10 models."
   ]
  },
  {
   "cell_type": "code",
   "execution_count": 61,
   "metadata": {},
   "outputs": [
    {
     "data": {
      "text/plain": [
       "<Figure size 1200x600 with 0 Axes>"
      ]
     },
     "metadata": {},
     "output_type": "display_data"
    },
    {
     "data": {
      "image/png": "[encoded data removed]",
      "text/plain": [
       "<Figure size 1200x600 with 1 Axes>"
      ]
     },
     "metadata": {},
     "output_type": "display_data"
    }
   ],
   "source": [
    "# Create contingency table and filter top 10 models\n",
    "contingency_table_model = df.pivot_table(\n",
    "    index='Model', \n",
    "    columns='EventType', \n",
    "    aggfunc='size', \n",
    "    fill_value=0\n",
    ")\n",
    "\n",
    "# Get the top 10 models based on total counts\n",
    "filtered_model_table = contingency_table_model.loc[\n",
    "    contingency_table_model.sum(axis=1).nlargest(10).index\n",
    "]\n",
    "\n",
    "# Grouped Bar Chart: EventType vs Top 10 Models\n",
    "plt.figure(figsize=(12, 6))\n",
    "top_models = contingency_table_model.sum(axis=1).nlargest(10).index  # Top 10 models\n",
    "filtered_model_table = contingency_table_model.loc[top_models]\n",
    "\n",
    "filtered_model_table.plot(kind='bar', figsize=(12, 6), title='EventType Distribution Across Top 10 Models')\n",
    "plt.ylabel(\"Count\")\n",
    "plt.xlabel(\"Model\")\n",
    "plt.xticks(rotation=45)\n",
    "plt.legend(title='EventType')\n",
    "plt.show()"
   ]
  },
  {
   "cell_type": "markdown",
   "metadata": {},
   "source": [
    "Based on this chart the most model that have ACC is 172 model, manufactured by Cessna. Boeing 737 model actually have the most INC, an incident that occured by small problem and usually handled before flying."
   ]
  },
  {
   "cell_type": "markdown",
   "metadata": {},
   "source": [
    "### Safety Rec"
   ]
  },
  {
   "cell_type": "code",
   "execution_count": 62,
   "metadata": {},
   "outputs": [
    {
     "data": {
      "image/png": "[encoded data removed]",
      "text/plain": [
       "<Figure size 800x600 with 1 Axes>"
      ]
     },
     "metadata": {},
     "output_type": "display_data"
    }
   ],
   "source": [
    "# Create contingency table and visualize: HasSafetyRec vs EventType\n",
    "safety_rec_counts = pd.crosstab(df['HasSafetyRec'], df['EventType'])\n",
    "\n",
    "# Stacked bar chart for HasSafetyRec vs EventType\n",
    "safety_rec_counts.plot(kind='bar', stacked=True, figsize=(8, 6), title='Impact of HasSafetyRec on EventType', legend=True)\n",
    "plt.ylabel(\"Count\")\n",
    "plt.xlabel(\"Has Safety Record\")\n",
    "plt.xticks(rotation=0)\n",
    "plt.legend(title='EventType')\n",
    "plt.show()\n"
   ]
  },
  {
   "cell_type": "markdown",
   "metadata": {},
   "source": [
    "Based on this chart, our data shown that many of the ACC have no SafetyRec this could indicates the importance of such recomendation."
   ]
  },
  {
   "cell_type": "markdown",
   "metadata": {},
   "source": [
    "### Weather Condition"
   ]
  },
  {
   "cell_type": "code",
   "execution_count": 63,
   "metadata": {},
   "outputs": [
    {
     "data": {
      "image/png": "[encoded data removed]",
      "text/plain": [
       "<Figure size 1000x600 with 1 Axes>"
      ]
     },
     "metadata": {},
     "output_type": "display_data"
    }
   ],
   "source": [
    "# Create contingency table and visualize: WeatherCondition vs EventType\n",
    "weather_condition_counts = pd.crosstab(df['WeatherCondition'], df['EventType'])\n",
    "\n",
    "# Stacked bar chart for WeatherCondition vs EventType\n",
    "weather_condition_counts.plot(kind='bar', stacked=True, figsize=(10, 6), title='Impact of WeatherCondition on EventType', legend=True)\n",
    "plt.ylabel(\"Count\")\n",
    "plt.xlabel(\"Weather Condition\")\n",
    "plt.xticks(rotation=45)\n",
    "plt.legend(title='EventType')\n",
    "plt.show()"
   ]
  },
  {
   "cell_type": "markdown",
   "metadata": {},
   "source": [
    "Logically speaking, the more the pilot able to see outside their airplane the better their judgement. Although most of our data have VMC (Visual Meteorological Condition), it is also the highest in ACC. This could means that even though the pilot able to see doesn't necessarily able to react accordingly."
   ]
  },
  {
   "cell_type": "markdown",
   "metadata": {},
   "source": [
    "### Impact of FAR"
   ]
  },
  {
   "cell_type": "code",
   "execution_count": 64,
   "metadata": {},
   "outputs": [
    {
     "data": {
      "image/png": "[encoded data removed]",
      "text/plain": [
       "<Figure size 1000x800 with 1 Axes>"
      ]
     },
     "metadata": {},
     "output_type": "display_data"
    }
   ],
   "source": [
    "# Create contingency table and visualize: FAR vs EventType\n",
    "far_counts = pd.crosstab(df['FAR'], df['EventType'])\n",
    "\n",
    "# Horizontal bar chart for FAR vs EventType\n",
    "far_counts.plot(kind='barh', stacked=True, figsize=(10, 8), title='Impact of FAR on EventType', legend=True)\n",
    "plt.xlabel(\"Count\")\n",
    "plt.ylabel(\"FAR Category\")\n",
    "plt.legend(title='EventType', loc='upper right')\n",
    "plt.show()"
   ]
  },
  {
   "cell_type": "markdown",
   "metadata": {},
   "source": [
    "Based on this chart, the FAR (Federal Aviation Regulations) mostly are 091 which is general airplane regulations. This probably because the 091 is the most common regulation used for airplane, small and big alike."
   ]
  },
  {
   "cell_type": "markdown",
   "metadata": {},
   "source": [
    "### State that have the most Event"
   ]
  },
  {
   "cell_type": "code",
   "execution_count": 65,
   "metadata": {},
   "outputs": [
    {
     "data": {
      "image/png": "[encoded data removed]",
      "text/plain": [
       "<Figure size 1000x600 with 1 Axes>"
      ]
     },
     "metadata": {},
     "output_type": "display_data"
    }
   ],
   "source": [
    "# Create contingency table and visualize: States with Most ACC\n",
    "state_event_counts = df.groupby(['State', 'EventType']).size().unstack(fill_value=0)\n",
    "\n",
    "# Top 10 states with the most ACC\n",
    "top_states_acc = state_event_counts['ACC'].nlargest(10)\n",
    "\n",
    "# Horizontal bar chart for top 10 states with most ACC\n",
    "top_states_acc.plot(kind='barh', figsize=(10, 6), title='Top 10 States with Most ACC', color='skyblue')\n",
    "plt.xlabel(\"ACC Count\")\n",
    "plt.ylabel(\"State\")\n",
    "plt.show()"
   ]
  },
  {
   "cell_type": "markdown",
   "metadata": {},
   "source": [
    "Based on this chart, the highest states that have ACC event is Texas. This indicates that in Texas have approximately 130 ACC in a year. Followed by California, Florida, and Alaska. We may need to focus on this states in the future."
   ]
  },
  {
   "cell_type": "markdown",
   "metadata": {},
   "source": [
    "### EDA Conclusion"
   ]
  },
  {
   "cell_type": "markdown",
   "metadata": {},
   "source": [
    "Based on the EDA we conducted, certain models are strongly associated with specific EventType. Evidently the barchart shows that ACC dominate across models, this suggests that model type can be a significant cause.\n",
    "\n",
    "As for Safety Recommendations, this also correlates with the occurence of incidents and accidents potentially due to prior risk identification. This proven by how high the EventType of accident and how most of them have no Safety Recommendations.\n",
    "\n",
    "As for Weather condition, it proven that Visibility actually doesn't mean that an accident will occured. This features may need to be supported by other features that can detail not only the visibility but the actual condition. But as for now, this still a valuable features.\n",
    "\n",
    "For FAR (Federal Aviation Regulation) indicates that regulatory environment also plays a role in the number of accidents, making FAR is an important thing.\n",
    "\n",
    "Lastly, geographic distribution could indicate regional risk factors or differences in operational environments."
   ]
  },
  {
   "cell_type": "markdown",
   "metadata": {},
   "source": [
    "# 5. Features Engineering"
   ]
  },
  {
   "cell_type": "markdown",
   "metadata": {},
   "source": [
    "Before we delved further in Features Engineering, we will Split the data first."
   ]
  },
  {
   "cell_type": "markdown",
   "metadata": {},
   "source": [
    "## Data Split"
   ]
  },
  {
   "cell_type": "code",
   "execution_count": 66,
   "metadata": {},
   "outputs": [
    {
     "name": "stdout",
     "output_type": "stream",
     "text": [
      "Training set size: (7690, 11)\n",
      "Testing set size: (1923, 11)\n"
     ]
    }
   ],
   "source": [
    "X = df.drop(columns=['EventType'])\n",
    "y = df['EventType']\n",
    "\n",
    "X_train, X_test, y_train, y_test = train_test_split(X, y, test_size=0.2, random_state=26)\n",
    "\n",
    "print(f\"Training set size: {X_train.shape}\")\n",
    "print(f\"Testing set size: {X_test.shape}\")"
   ]
  },
  {
   "cell_type": "markdown",
   "metadata": {},
   "source": [
    "## Handle Cardinality"
   ]
  },
  {
   "cell_type": "code",
   "execution_count": 67,
   "metadata": {},
   "outputs": [
    {
     "data": {
      "text/plain": [
       "4356"
      ]
     },
     "execution_count": 67,
     "metadata": {},
     "output_type": "execute_result"
    }
   ],
   "source": [
    "X_train['City'].nunique()"
   ]
  },
  {
   "cell_type": "code",
   "execution_count": 68,
   "metadata": {},
   "outputs": [
    {
     "data": {
      "text/plain": [
       "142"
      ]
     },
     "execution_count": 68,
     "metadata": {},
     "output_type": "execute_result"
    }
   ],
   "source": [
    "X_train['Country'].nunique()"
   ]
  },
  {
   "cell_type": "code",
   "execution_count": 69,
   "metadata": {},
   "outputs": [
    {
     "data": {
      "text/plain": [
       "197"
      ]
     },
     "execution_count": 69,
     "metadata": {},
     "output_type": "execute_result"
    }
   ],
   "source": [
    "X_train['State'].nunique()"
   ]
  },
  {
   "cell_type": "markdown",
   "metadata": {},
   "source": [
    "Based on this the cardinality of City is very high, even though it is correlated it may result on our model be biased and have bad prediction behaviour. Also since the City can be represented by state and country, I decide to drop the column of City."
   ]
  },
  {
   "cell_type": "markdown",
   "metadata": {},
   "source": [
    "## Features Correlation"
   ]
  },
  {
   "cell_type": "markdown",
   "metadata": {},
   "source": [
    "### Check correlation between categorical and categorical"
   ]
  },
  {
   "cell_type": "code",
   "execution_count": 70,
   "metadata": {},
   "outputs": [
    {
     "data": {
      "text/html": [
       "<div>\n",
       "<style scoped>\n",
       "    .dataframe tbody tr th:only-of-type {\n",
       "        vertical-align: middle;\n",
       "    }\n",
       "\n",
       "    .dataframe tbody tr th {\n",
       "        vertical-align: top;\n",
       "    }\n",
       "\n",
       "    .dataframe thead th {\n",
       "        text-align: right;\n",
       "    }\n",
       "</style>\n",
       "<table border=\"1\" class=\"dataframe\">\n",
       "  <thead>\n",
       "    <tr style=\"text-align: right;\">\n",
       "      <th></th>\n",
       "      <th>Feature</th>\n",
       "      <th>P-Value</th>\n",
       "      <th>Interpretation</th>\n",
       "    </tr>\n",
       "  </thead>\n",
       "  <tbody>\n",
       "    <tr>\n",
       "      <th>0</th>\n",
       "      <td>City</td>\n",
       "      <td>4.468844e-41</td>\n",
       "      <td>City is correlated with EventType</td>\n",
       "    </tr>\n",
       "    <tr>\n",
       "      <th>1</th>\n",
       "      <td>State</td>\n",
       "      <td>0.000000e+00</td>\n",
       "      <td>State is correlated with EventType</td>\n",
       "    </tr>\n",
       "    <tr>\n",
       "      <th>2</th>\n",
       "      <td>Country</td>\n",
       "      <td>0.000000e+00</td>\n",
       "      <td>Country is correlated with EventType</td>\n",
       "    </tr>\n",
       "    <tr>\n",
       "      <th>3</th>\n",
       "      <td>Make</td>\n",
       "      <td>2.207489e-202</td>\n",
       "      <td>Make is correlated with EventType</td>\n",
       "    </tr>\n",
       "    <tr>\n",
       "      <th>4</th>\n",
       "      <td>Model</td>\n",
       "      <td>2.509654e-122</td>\n",
       "      <td>Model is correlated with EventType</td>\n",
       "    </tr>\n",
       "    <tr>\n",
       "      <th>5</th>\n",
       "      <td>WeatherCondition</td>\n",
       "      <td>0.000000e+00</td>\n",
       "      <td>WeatherCondition is correlated with EventType</td>\n",
       "    </tr>\n",
       "    <tr>\n",
       "      <th>6</th>\n",
       "      <td>FAR</td>\n",
       "      <td>0.000000e+00</td>\n",
       "      <td>FAR is correlated with EventType</td>\n",
       "    </tr>\n",
       "  </tbody>\n",
       "</table>\n",
       "</div>"
      ],
      "text/plain": [
       "            Feature        P-Value  \\\n",
       "0              City   4.468844e-41   \n",
       "1             State   0.000000e+00   \n",
       "2           Country   0.000000e+00   \n",
       "3              Make  2.207489e-202   \n",
       "4             Model  2.509654e-122   \n",
       "5  WeatherCondition   0.000000e+00   \n",
       "6               FAR   0.000000e+00   \n",
       "\n",
       "                                  Interpretation  \n",
       "0              City is correlated with EventType  \n",
       "1             State is correlated with EventType  \n",
       "2           Country is correlated with EventType  \n",
       "3              Make is correlated with EventType  \n",
       "4             Model is correlated with EventType  \n",
       "5  WeatherCondition is correlated with EventType  \n",
       "6               FAR is correlated with EventType  "
      ]
     },
     "execution_count": 70,
     "metadata": {},
     "output_type": "execute_result"
    }
   ],
   "source": [
    "# get the categorical features\n",
    "categorical_features = ['City', 'State', 'Country', 'Make', 'Model', 'WeatherCondition', 'FAR']\n",
    "\n",
    "p_values = []\n",
    "results = []\n",
    "\n",
    "for feature in categorical_features:\n",
    "    # Create a contingency table (cross-tabulation between target and feature)\n",
    "    contingency_table = pd.crosstab(X_train[feature], y_train)\n",
    "    \n",
    "    # Perform chi-squared test\n",
    "    chi2_stat, p_value, dof, expected = chi2_contingency(contingency_table)\n",
    "    \n",
    "    p_values.append(p_value)\n",
    "    \n",
    "    # Interpret the result based on p-value\n",
    "    if p_value < 0.05:\n",
    "        results.append(f'{feature} is correlated with EventType')\n",
    "    else:\n",
    "        results.append(f'{feature} is not correlated with EventType')\n",
    "\n",
    "# Display results\n",
    "correlation_results = pd.DataFrame({\n",
    "    'Feature': categorical_features,\n",
    "    'P-Value': p_values,\n",
    "    'Interpretation': results\n",
    "})\n",
    "\n",
    "correlation_results"
   ]
  },
  {
   "cell_type": "markdown",
   "metadata": {},
   "source": [
    "### Check correlation between numerical and categorical"
   ]
  },
  {
   "cell_type": "code",
   "execution_count": 71,
   "metadata": {},
   "outputs": [
    {
     "data": {
      "text/html": [
       "<div>\n",
       "<style scoped>\n",
       "    .dataframe tbody tr th:only-of-type {\n",
       "        vertical-align: middle;\n",
       "    }\n",
       "\n",
       "    .dataframe tbody tr th {\n",
       "        vertical-align: top;\n",
       "    }\n",
       "\n",
       "    .dataframe thead th {\n",
       "        text-align: right;\n",
       "    }\n",
       "</style>\n",
       "<table border=\"1\" class=\"dataframe\">\n",
       "  <thead>\n",
       "    <tr style=\"text-align: right;\">\n",
       "      <th></th>\n",
       "      <th>Feature</th>\n",
       "      <th>P-Value</th>\n",
       "      <th>Interpretation</th>\n",
       "    </tr>\n",
       "  </thead>\n",
       "  <tbody>\n",
       "    <tr>\n",
       "      <th>0</th>\n",
       "      <td>Latitude</td>\n",
       "      <td>0.872726</td>\n",
       "      <td>Latitude is not correlated with EventType</td>\n",
       "    </tr>\n",
       "    <tr>\n",
       "      <th>1</th>\n",
       "      <td>Longitude</td>\n",
       "      <td>0.165236</td>\n",
       "      <td>Longitude is not correlated with EventType</td>\n",
       "    </tr>\n",
       "    <tr>\n",
       "      <th>2</th>\n",
       "      <td>NumberOfEngines</td>\n",
       "      <td>0.000000</td>\n",
       "      <td>NumberOfEngines is correlated with EventType</td>\n",
       "    </tr>\n",
       "  </tbody>\n",
       "</table>\n",
       "</div>"
      ],
      "text/plain": [
       "           Feature   P-Value                                Interpretation\n",
       "0         Latitude  0.872726     Latitude is not correlated with EventType\n",
       "1        Longitude  0.165236    Longitude is not correlated with EventType\n",
       "2  NumberOfEngines  0.000000  NumberOfEngines is correlated with EventType"
      ]
     },
     "execution_count": 71,
     "metadata": {},
     "output_type": "execute_result"
    }
   ],
   "source": [
    "# get the numerical features\n",
    "numerical_features = ['Latitude', 'Longitude', 'NumberOfEngines']\n",
    "p_values = []\n",
    "results = []\n",
    "\n",
    "for feature in numerical_features:\n",
    "    # Group the data by the unique values in y_train (EventType)\n",
    "    groups = [X_train[y_train == category][feature] for category in y_train.unique()]\n",
    "    \n",
    "    # Perform ANOVA\n",
    "    f_stat, p_value = f_oneway(*groups)\n",
    "    p_values.append(p_value)\n",
    "    \n",
    "    # Interpret the result based on p-value\n",
    "    if p_value < 0.05:\n",
    "        results.append(f'{feature} is correlated with EventType')\n",
    "    else:\n",
    "        results.append(f'{feature} is not correlated with EventType')\n",
    "\n",
    "# Display results\n",
    "anova_results = pd.DataFrame({\n",
    "    'Feature': numerical_features,\n",
    "    'P-Value': p_values,\n",
    "    'Interpretation': results\n",
    "})\n",
    "\n",
    "anova_results\n"
   ]
  },
  {
   "cell_type": "markdown",
   "metadata": {},
   "source": [
    "### Features selection"
   ]
  },
  {
   "cell_type": "markdown",
   "metadata": {},
   "source": [
    "Based on these result, the features we will be using are State, Country, Make, Model, WeatherCondition, FAR, and NumberOfEngines. Even though I had high hopes for Latitude and Longitude, unfortunately it is not correlated. As for city since it have very high cardinality and it is 50% of the data, it could means that many of the city are only occured once or twice, therefore the column city will also be dropped.\n",
    "\n",
    "Although State, Country, Make, and Model also have high cardinality, logically speaking the make and model are tightly correlated and could impact the EventType. Therefore we will select them as our features."
   ]
  },
  {
   "cell_type": "markdown",
   "metadata": {},
   "source": [
    "# 6. Model Definition"
   ]
  },
  {
   "cell_type": "markdown",
   "metadata": {},
   "source": [
    "There are several model that we can use, which is KNN, SVM, Decision Tree, Random Forest, and XGBoost. Since I'm not sure which model is the best for this we will try each of them and find the best model and fine-tune it further."
   ]
  },
  {
   "cell_type": "code",
   "execution_count": 72,
   "metadata": {},
   "outputs": [],
   "source": [
    "# get each encoder and scaler and put it inside variable\n",
    "onehot_encoder = OneHotEncoder(sparse_output=False,handle_unknown='ignore')\n",
    "scaler = StandardScaler()\n",
    "ordinal_encoder = OrdinalEncoder(handle_unknown='use_encoded_value',unknown_value=6000)"
   ]
  },
  {
   "cell_type": "markdown",
   "metadata": {},
   "source": [
    "For our encoder, for features that have high cardinality we will using ordinal, the ordinal are not set since we don't want ordinality to our value just want them to label them using number. We don't use label encoder since the label encoder isn't suited to be used in a pipeline.\n",
    "\n",
    "As for the low cardinality features, we will use One hot since it is the best encoder to handle the low cardinality features.\n",
    "\n",
    "as for scaler, we will use standard scaler since the NumberOfEngine is lowly skewed."
   ]
  },
  {
   "cell_type": "code",
   "execution_count": 73,
   "metadata": {},
   "outputs": [
    {
     "data": {
      "text/plain": [
       "1.4547891777474202"
      ]
     },
     "execution_count": 73,
     "metadata": {},
     "output_type": "execute_result"
    }
   ],
   "source": [
    "X_train['NumberOfEngines'].skew()"
   ]
  },
  {
   "cell_type": "markdown",
   "metadata": {},
   "source": [
    "# 7. Model Training"
   ]
  },
  {
   "cell_type": "markdown",
   "metadata": {},
   "source": [
    "## Preprocessing Settings"
   ]
  },
  {
   "cell_type": "markdown",
   "metadata": {},
   "source": [
    "Get cardinal and numerical columns, for cardinal I will separate it as high cardinal and low cardinal. The column we drop will not be included, and will be dropped in preprocessing."
   ]
  },
  {
   "cell_type": "code",
   "execution_count": 74,
   "metadata": {},
   "outputs": [],
   "source": [
    "# get categorical and numerical, the categorical will be split to high and low cardinality\n",
    "high_card_cols = ['State', 'Country', 'Make', 'Model']\n",
    "low_card_cols = ['WeatherCondition', 'FAR']\n",
    "num_cols = ['NumberOfEngines']"
   ]
  },
  {
   "cell_type": "markdown",
   "metadata": {},
   "source": [
    "First we encode the target."
   ]
  },
  {
   "cell_type": "code",
   "execution_count": 75,
   "metadata": {},
   "outputs": [],
   "source": [
    "# encode the target using ordinal encoder\n",
    "category_order = ['ACC', 'INC', 'OCC']\n",
    "target_encoder = OrdinalEncoder(categories=[category_order])"
   ]
  },
  {
   "cell_type": "code",
   "execution_count": 76,
   "metadata": {},
   "outputs": [],
   "source": [
    "# conver y_train to numpy, reshape it to 2D array, fit_transform it, then change the output to 1D array again\n",
    "y_train_encoded = target_encoder.fit_transform(np.array(y_train).reshape(-1, 1)).ravel()"
   ]
  },
  {
   "cell_type": "code",
   "execution_count": 77,
   "metadata": {},
   "outputs": [],
   "source": [
    "# conver y_test to numpy, reshape it to 2D array, transform it, then change the output to 1D array again\n",
    "y_test_encoded = target_encoder.transform(np.array(y_test).reshape(-1, 1)).ravel()"
   ]
  },
  {
   "cell_type": "markdown",
   "metadata": {},
   "source": [
    "Then we create the preprocessing process to be put inside a pipeline."
   ]
  },
  {
   "cell_type": "code",
   "execution_count": 78,
   "metadata": {},
   "outputs": [],
   "source": [
    "# create a preprocessing pipeline, using column transformer\n",
    "preprocessing = ColumnTransformer(\n",
    "    transformers=[\n",
    "        # label the high cardinality features using ordinal encoder\n",
    "        ('label', ordinal_encoder, high_card_cols),\n",
    "        # encode the low cardinality features using onehot encoder\n",
    "        ('onehot', onehot_encoder, low_card_cols),\n",
    "        # scale the numerical column using standard scaler\n",
    "        ('num', scaler, num_cols)\n",
    "    ],\n",
    "    # as for the features we are not selected, we will drop it\n",
    "    remainder='drop'\n",
    ")"
   ]
  },
  {
   "cell_type": "code",
   "execution_count": 79,
   "metadata": {},
   "outputs": [],
   "source": [
    "# checking the preprocessing if it's working\n",
    "X_train_preprocess = preprocessing.fit_transform(X_train)\n",
    "X_test_preprocess = preprocessing.transform(X_test)"
   ]
  },
  {
   "cell_type": "code",
   "execution_count": 117,
   "metadata": {},
   "outputs": [
    {
     "data": {
      "text/html": [
       "<div>\n",
       "<style scoped>\n",
       "    .dataframe tbody tr th:only-of-type {\n",
       "        vertical-align: middle;\n",
       "    }\n",
       "\n",
       "    .dataframe tbody tr th {\n",
       "        vertical-align: top;\n",
       "    }\n",
       "\n",
       "    .dataframe thead th {\n",
       "        text-align: right;\n",
       "    }\n",
       "</style>\n",
       "<table border=\"1\" class=\"dataframe\">\n",
       "  <thead>\n",
       "    <tr style=\"text-align: right;\">\n",
       "      <th></th>\n",
       "      <th>label__State</th>\n",
       "      <th>label__Country</th>\n",
       "      <th>label__Make</th>\n",
       "      <th>label__Model</th>\n",
       "      <th>onehot__WeatherCondition_IMC</th>\n",
       "      <th>onehot__WeatherCondition_Unknown</th>\n",
       "      <th>onehot__WeatherCondition_VMC</th>\n",
       "      <th>onehot__FAR_091</th>\n",
       "      <th>onehot__FAR_091K</th>\n",
       "      <th>onehot__FAR_103</th>\n",
       "      <th>...</th>\n",
       "      <th>onehot__FAR_129</th>\n",
       "      <th>onehot__FAR_133</th>\n",
       "      <th>onehot__FAR_135</th>\n",
       "      <th>onehot__FAR_137</th>\n",
       "      <th>onehot__FAR_ARMF</th>\n",
       "      <th>onehot__FAR_NUSC</th>\n",
       "      <th>onehot__FAR_NUSN</th>\n",
       "      <th>onehot__FAR_PUBU</th>\n",
       "      <th>onehot__FAR_UNK</th>\n",
       "      <th>num__NumberOfEngines</th>\n",
       "    </tr>\n",
       "  </thead>\n",
       "  <tbody>\n",
       "    <tr>\n",
       "      <th>0</th>\n",
       "      <td>193.0</td>\n",
       "      <td>133.0</td>\n",
       "      <td>434.0</td>\n",
       "      <td>1767.0</td>\n",
       "      <td>0.0</td>\n",
       "      <td>0.0</td>\n",
       "      <td>1.0</td>\n",
       "      <td>1.0</td>\n",
       "      <td>0.0</td>\n",
       "      <td>0.0</td>\n",
       "      <td>...</td>\n",
       "      <td>0.0</td>\n",
       "      <td>0.0</td>\n",
       "      <td>0.0</td>\n",
       "      <td>0.0</td>\n",
       "      <td>0.0</td>\n",
       "      <td>0.0</td>\n",
       "      <td>0.0</td>\n",
       "      <td>0.0</td>\n",
       "      <td>0.0</td>\n",
       "      <td>-0.504376</td>\n",
       "    </tr>\n",
       "    <tr>\n",
       "      <th>1</th>\n",
       "      <td>191.0</td>\n",
       "      <td>133.0</td>\n",
       "      <td>281.0</td>\n",
       "      <td>87.0</td>\n",
       "      <td>0.0</td>\n",
       "      <td>0.0</td>\n",
       "      <td>1.0</td>\n",
       "      <td>1.0</td>\n",
       "      <td>0.0</td>\n",
       "      <td>0.0</td>\n",
       "      <td>...</td>\n",
       "      <td>0.0</td>\n",
       "      <td>0.0</td>\n",
       "      <td>0.0</td>\n",
       "      <td>0.0</td>\n",
       "      <td>0.0</td>\n",
       "      <td>0.0</td>\n",
       "      <td>0.0</td>\n",
       "      <td>0.0</td>\n",
       "      <td>0.0</td>\n",
       "      <td>-0.504376</td>\n",
       "    </tr>\n",
       "    <tr>\n",
       "      <th>2</th>\n",
       "      <td>172.0</td>\n",
       "      <td>133.0</td>\n",
       "      <td>232.0</td>\n",
       "      <td>326.0</td>\n",
       "      <td>0.0</td>\n",
       "      <td>0.0</td>\n",
       "      <td>1.0</td>\n",
       "      <td>1.0</td>\n",
       "      <td>0.0</td>\n",
       "      <td>0.0</td>\n",
       "      <td>...</td>\n",
       "      <td>0.0</td>\n",
       "      <td>0.0</td>\n",
       "      <td>0.0</td>\n",
       "      <td>0.0</td>\n",
       "      <td>0.0</td>\n",
       "      <td>0.0</td>\n",
       "      <td>0.0</td>\n",
       "      <td>0.0</td>\n",
       "      <td>0.0</td>\n",
       "      <td>-0.504376</td>\n",
       "    </tr>\n",
       "    <tr>\n",
       "      <th>3</th>\n",
       "      <td>118.0</td>\n",
       "      <td>133.0</td>\n",
       "      <td>1190.0</td>\n",
       "      <td>1775.0</td>\n",
       "      <td>0.0</td>\n",
       "      <td>0.0</td>\n",
       "      <td>1.0</td>\n",
       "      <td>1.0</td>\n",
       "      <td>0.0</td>\n",
       "      <td>0.0</td>\n",
       "      <td>...</td>\n",
       "      <td>0.0</td>\n",
       "      <td>0.0</td>\n",
       "      <td>0.0</td>\n",
       "      <td>0.0</td>\n",
       "      <td>0.0</td>\n",
       "      <td>0.0</td>\n",
       "      <td>0.0</td>\n",
       "      <td>0.0</td>\n",
       "      <td>0.0</td>\n",
       "      <td>-0.504376</td>\n",
       "    </tr>\n",
       "    <tr>\n",
       "      <th>4</th>\n",
       "      <td>2.0</td>\n",
       "      <td>133.0</td>\n",
       "      <td>1155.0</td>\n",
       "      <td>8.0</td>\n",
       "      <td>0.0</td>\n",
       "      <td>0.0</td>\n",
       "      <td>1.0</td>\n",
       "      <td>1.0</td>\n",
       "      <td>0.0</td>\n",
       "      <td>0.0</td>\n",
       "      <td>...</td>\n",
       "      <td>0.0</td>\n",
       "      <td>0.0</td>\n",
       "      <td>0.0</td>\n",
       "      <td>0.0</td>\n",
       "      <td>0.0</td>\n",
       "      <td>0.0</td>\n",
       "      <td>0.0</td>\n",
       "      <td>0.0</td>\n",
       "      <td>0.0</td>\n",
       "      <td>-0.504376</td>\n",
       "    </tr>\n",
       "  </tbody>\n",
       "</table>\n",
       "<p>5 rows × 23 columns</p>\n",
       "</div>"
      ],
      "text/plain": [
       "   label__State  label__Country  label__Make  label__Model  \\\n",
       "0         193.0           133.0        434.0        1767.0   \n",
       "1         191.0           133.0        281.0          87.0   \n",
       "2         172.0           133.0        232.0         326.0   \n",
       "3         118.0           133.0       1190.0        1775.0   \n",
       "4           2.0           133.0       1155.0           8.0   \n",
       "\n",
       "   onehot__WeatherCondition_IMC  onehot__WeatherCondition_Unknown  \\\n",
       "0                           0.0                               0.0   \n",
       "1                           0.0                               0.0   \n",
       "2                           0.0                               0.0   \n",
       "3                           0.0                               0.0   \n",
       "4                           0.0                               0.0   \n",
       "\n",
       "   onehot__WeatherCondition_VMC  onehot__FAR_091  onehot__FAR_091K  \\\n",
       "0                           1.0              1.0               0.0   \n",
       "1                           1.0              1.0               0.0   \n",
       "2                           1.0              1.0               0.0   \n",
       "3                           1.0              1.0               0.0   \n",
       "4                           1.0              1.0               0.0   \n",
       "\n",
       "   onehot__FAR_103  ...  onehot__FAR_129  onehot__FAR_133  onehot__FAR_135  \\\n",
       "0              0.0  ...              0.0              0.0              0.0   \n",
       "1              0.0  ...              0.0              0.0              0.0   \n",
       "2              0.0  ...              0.0              0.0              0.0   \n",
       "3              0.0  ...              0.0              0.0              0.0   \n",
       "4              0.0  ...              0.0              0.0              0.0   \n",
       "\n",
       "   onehot__FAR_137  onehot__FAR_ARMF  onehot__FAR_NUSC  onehot__FAR_NUSN  \\\n",
       "0              0.0               0.0               0.0               0.0   \n",
       "1              0.0               0.0               0.0               0.0   \n",
       "2              0.0               0.0               0.0               0.0   \n",
       "3              0.0               0.0               0.0               0.0   \n",
       "4              0.0               0.0               0.0               0.0   \n",
       "\n",
       "   onehot__FAR_PUBU  onehot__FAR_UNK  num__NumberOfEngines  \n",
       "0               0.0              0.0             -0.504376  \n",
       "1               0.0              0.0             -0.504376  \n",
       "2               0.0              0.0             -0.504376  \n",
       "3               0.0              0.0             -0.504376  \n",
       "4               0.0              0.0             -0.504376  \n",
       "\n",
       "[5 rows x 23 columns]"
      ]
     },
     "execution_count": 117,
     "metadata": {},
     "output_type": "execute_result"
    }
   ],
   "source": [
    "# Extract feature names from the ColumnTransformer\n",
    "feature_names = preprocessing.get_feature_names_out()\n",
    "\n",
    "# Create a DataFrame for X_train_preprocess with proper column names\n",
    "Train_preprocess = pd.DataFrame(X_train_preprocess, columns=feature_names)\n",
    "\n",
    "# Display the first few rows of the DataFrame\n",
    "Train_preprocess.head()\n"
   ]
  },
  {
   "cell_type": "markdown",
   "metadata": {},
   "source": [
    "## Creating Pipeline for Possible Model"
   ]
  },
  {
   "cell_type": "markdown",
   "metadata": {},
   "source": [
    "### K-Nearest Neighbors (KNN)"
   ]
  },
  {
   "cell_type": "code",
   "execution_count": 81,
   "metadata": {},
   "outputs": [],
   "source": [
    "# creating pipeline with preprocessing and KNN classifier\n",
    "pipeline_KNN = Pipeline(steps=[\n",
    "    ('preprocessor', preprocessing),\n",
    "    ('classifier', KNeighborsClassifier(n_neighbors=5))\n",
    "])"
   ]
  },
  {
   "cell_type": "code",
   "execution_count": 82,
   "metadata": {},
   "outputs": [
    {
     "data": {
      "text/html": [
       "<style>#sk-container-id-1 {color: black;}#sk-container-id-1 pre{padding: 0;}#sk-container-id-1 div.sk-toggleable {background-color: white;}#sk-container-id-1 label.sk-toggleable__label {cursor: pointer;display: block;width: 100%;margin-bottom: 0;padding: 0.3em;box-sizing: border-box;text-align: center;}#sk-container-id-1 label.sk-toggleable__label-arrow:before {content: \"▸\";float: left;margin-right: 0.25em;color: #696969;}#sk-container-id-1 label.sk-toggleable__label-arrow:hover:before {color: black;}#sk-container-id-1 div.sk-estimator:hover label.sk-toggleable__label-arrow:before {color: black;}#sk-container-id-1 div.sk-toggleable__content {max-height: 0;max-width: 0;overflow: hidden;text-align: left;background-color: #f0f8ff;}#sk-container-id-1 div.sk-toggleable__content pre {margin: 0.2em;color: black;border-radius: 0.25em;background-color: #f0f8ff;}#sk-container-id-1 input.sk-toggleable__control:checked~div.sk-toggleable__content {max-height: 200px;max-width: 100%;overflow: auto;}#sk-container-id-1 input.sk-toggleable__control:checked~label.sk-toggleable__label-arrow:before {content: \"▾\";}#sk-container-id-1 div.sk-estimator input.sk-toggleable__control:checked~label.sk-toggleable__label {background-color: #d4ebff;}#sk-container-id-1 div.sk-label input.sk-toggleable__control:checked~label.sk-toggleable__label {background-color: #d4ebff;}#sk-container-id-1 input.sk-hidden--visually {border: 0;clip: rect(1px 1px 1px 1px);clip: rect(1px, 1px, 1px, 1px);height: 1px;margin: -1px;overflow: hidden;padding: 0;position: absolute;width: 1px;}#sk-container-id-1 div.sk-estimator {font-family: monospace;background-color: #f0f8ff;border: 1px dotted black;border-radius: 0.25em;box-sizing: border-box;margin-bottom: 0.5em;}#sk-container-id-1 div.sk-estimator:hover {background-color: #d4ebff;}#sk-container-id-1 div.sk-parallel-item::after {content: \"\";width: 100%;border-bottom: 1px solid gray;flex-grow: 1;}#sk-container-id-1 div.sk-label:hover label.sk-toggleable__label {background-color: #d4ebff;}#sk-container-id-1 div.sk-serial::before {content: \"\";position: absolute;border-left: 1px solid gray;box-sizing: border-box;top: 0;bottom: 0;left: 50%;z-index: 0;}#sk-container-id-1 div.sk-serial {display: flex;flex-direction: column;align-items: center;background-color: white;padding-right: 0.2em;padding-left: 0.2em;position: relative;}#sk-container-id-1 div.sk-item {position: relative;z-index: 1;}#sk-container-id-1 div.sk-parallel {display: flex;align-items: stretch;justify-content: center;background-color: white;position: relative;}#sk-container-id-1 div.sk-item::before, #sk-container-id-1 div.sk-parallel-item::before {content: \"\";position: absolute;border-left: 1px solid gray;box-sizing: border-box;top: 0;bottom: 0;left: 50%;z-index: -1;}#sk-container-id-1 div.sk-parallel-item {display: flex;flex-direction: column;z-index: 1;position: relative;background-color: white;}#sk-container-id-1 div.sk-parallel-item:first-child::after {align-self: flex-end;width: 50%;}#sk-container-id-1 div.sk-parallel-item:last-child::after {align-self: flex-start;width: 50%;}#sk-container-id-1 div.sk-parallel-item:only-child::after {width: 0;}#sk-container-id-1 div.sk-dashed-wrapped {border: 1px dashed gray;margin: 0 0.4em 0.5em 0.4em;box-sizing: border-box;padding-bottom: 0.4em;background-color: white;}#sk-container-id-1 div.sk-label label {font-family: monospace;font-weight: bold;display: inline-block;line-height: 1.2em;}#sk-container-id-1 div.sk-label-container {text-align: center;}#sk-container-id-1 div.sk-container {/* jupyter's `normalize.less` sets `[hidden] { display: none; }` but bootstrap.min.css set `[hidden] { display: none !important; }` so we also need the `!important` here to be able to override the default hidden behavior on the sphinx rendered scikit-learn.org. See: https://github.com/scikit-learn/scikit-learn/issues/21755 */display: inline-block !important;position: relative;}#sk-container-id-1 div.sk-text-repr-fallback {display: none;}</style><div id=\"sk-container-id-1\" class=\"sk-top-container\"><div class=\"sk-text-repr-fallback\"><pre>Pipeline(steps=[(&#x27;preprocessor&#x27;,\n",
       "                 ColumnTransformer(transformers=[(&#x27;label&#x27;,\n",
       "                                                  OrdinalEncoder(handle_unknown=&#x27;use_encoded_value&#x27;,\n",
       "                                                                 unknown_value=6000),\n",
       "                                                  [&#x27;State&#x27;, &#x27;Country&#x27;, &#x27;Make&#x27;,\n",
       "                                                   &#x27;Model&#x27;]),\n",
       "                                                 (&#x27;onehot&#x27;,\n",
       "                                                  OneHotEncoder(handle_unknown=&#x27;ignore&#x27;,\n",
       "                                                                sparse_output=False),\n",
       "                                                  [&#x27;WeatherCondition&#x27;, &#x27;FAR&#x27;]),\n",
       "                                                 (&#x27;num&#x27;, StandardScaler(),\n",
       "                                                  [&#x27;NumberOfEngines&#x27;])])),\n",
       "                (&#x27;classifier&#x27;, KNeighborsClassifier())])</pre><b>In a Jupyter environment, please rerun this cell to show the HTML representation or trust the notebook. <br />On GitHub, the HTML representation is unable to render, please try loading this page with nbviewer.org.</b></div><div class=\"sk-container\" hidden><div class=\"sk-item sk-dashed-wrapped\"><div class=\"sk-label-container\"><div class=\"sk-label sk-toggleable\"><input class=\"sk-toggleable__control sk-hidden--visually\" id=\"sk-estimator-id-1\" type=\"checkbox\" ><label for=\"sk-estimator-id-1\" class=\"sk-toggleable__label sk-toggleable__label-arrow\">Pipeline</label><div class=\"sk-toggleable__content\"><pre>Pipeline(steps=[(&#x27;preprocessor&#x27;,\n",
       "                 ColumnTransformer(transformers=[(&#x27;label&#x27;,\n",
       "                                                  OrdinalEncoder(handle_unknown=&#x27;use_encoded_value&#x27;,\n",
       "                                                                 unknown_value=6000),\n",
       "                                                  [&#x27;State&#x27;, &#x27;Country&#x27;, &#x27;Make&#x27;,\n",
       "                                                   &#x27;Model&#x27;]),\n",
       "                                                 (&#x27;onehot&#x27;,\n",
       "                                                  OneHotEncoder(handle_unknown=&#x27;ignore&#x27;,\n",
       "                                                                sparse_output=False),\n",
       "                                                  [&#x27;WeatherCondition&#x27;, &#x27;FAR&#x27;]),\n",
       "                                                 (&#x27;num&#x27;, StandardScaler(),\n",
       "                                                  [&#x27;NumberOfEngines&#x27;])])),\n",
       "                (&#x27;classifier&#x27;, KNeighborsClassifier())])</pre></div></div></div><div class=\"sk-serial\"><div class=\"sk-item sk-dashed-wrapped\"><div class=\"sk-label-container\"><div class=\"sk-label sk-toggleable\"><input class=\"sk-toggleable__control sk-hidden--visually\" id=\"sk-estimator-id-2\" type=\"checkbox\" ><label for=\"sk-estimator-id-2\" class=\"sk-toggleable__label sk-toggleable__label-arrow\">preprocessor: ColumnTransformer</label><div class=\"sk-toggleable__content\"><pre>ColumnTransformer(transformers=[(&#x27;label&#x27;,\n",
       "                                 OrdinalEncoder(handle_unknown=&#x27;use_encoded_value&#x27;,\n",
       "                                                unknown_value=6000),\n",
       "                                 [&#x27;State&#x27;, &#x27;Country&#x27;, &#x27;Make&#x27;, &#x27;Model&#x27;]),\n",
       "                                (&#x27;onehot&#x27;,\n",
       "                                 OneHotEncoder(handle_unknown=&#x27;ignore&#x27;,\n",
       "                                               sparse_output=False),\n",
       "                                 [&#x27;WeatherCondition&#x27;, &#x27;FAR&#x27;]),\n",
       "                                (&#x27;num&#x27;, StandardScaler(), [&#x27;NumberOfEngines&#x27;])])</pre></div></div></div><div class=\"sk-parallel\"><div class=\"sk-parallel-item\"><div class=\"sk-item\"><div class=\"sk-label-container\"><div class=\"sk-label sk-toggleable\"><input class=\"sk-toggleable__control sk-hidden--visually\" id=\"sk-estimator-id-3\" type=\"checkbox\" ><label for=\"sk-estimator-id-3\" class=\"sk-toggleable__label sk-toggleable__label-arrow\">label</label><div class=\"sk-toggleable__content\"><pre>[&#x27;State&#x27;, &#x27;Country&#x27;, &#x27;Make&#x27;, &#x27;Model&#x27;]</pre></div></div></div><div class=\"sk-serial\"><div class=\"sk-item\"><div class=\"sk-estimator sk-toggleable\"><input class=\"sk-toggleable__control sk-hidden--visually\" id=\"sk-estimator-id-4\" type=\"checkbox\" ><label for=\"sk-estimator-id-4\" class=\"sk-toggleable__label sk-toggleable__label-arrow\">OrdinalEncoder</label><div class=\"sk-toggleable__content\"><pre>OrdinalEncoder(handle_unknown=&#x27;use_encoded_value&#x27;, unknown_value=6000)</pre></div></div></div></div></div></div><div class=\"sk-parallel-item\"><div class=\"sk-item\"><div class=\"sk-label-container\"><div class=\"sk-label sk-toggleable\"><input class=\"sk-toggleable__control sk-hidden--visually\" id=\"sk-estimator-id-5\" type=\"checkbox\" ><label for=\"sk-estimator-id-5\" class=\"sk-toggleable__label sk-toggleable__label-arrow\">onehot</label><div class=\"sk-toggleable__content\"><pre>[&#x27;WeatherCondition&#x27;, &#x27;FAR&#x27;]</pre></div></div></div><div class=\"sk-serial\"><div class=\"sk-item\"><div class=\"sk-estimator sk-toggleable\"><input class=\"sk-toggleable__control sk-hidden--visually\" id=\"sk-estimator-id-6\" type=\"checkbox\" ><label for=\"sk-estimator-id-6\" class=\"sk-toggleable__label sk-toggleable__label-arrow\">OneHotEncoder</label><div class=\"sk-toggleable__content\"><pre>OneHotEncoder(handle_unknown=&#x27;ignore&#x27;, sparse_output=False)</pre></div></div></div></div></div></div><div class=\"sk-parallel-item\"><div class=\"sk-item\"><div class=\"sk-label-container\"><div class=\"sk-label sk-toggleable\"><input class=\"sk-toggleable__control sk-hidden--visually\" id=\"sk-estimator-id-7\" type=\"checkbox\" ><label for=\"sk-estimator-id-7\" class=\"sk-toggleable__label sk-toggleable__label-arrow\">num</label><div class=\"sk-toggleable__content\"><pre>[&#x27;NumberOfEngines&#x27;]</pre></div></div></div><div class=\"sk-serial\"><div class=\"sk-item\"><div class=\"sk-estimator sk-toggleable\"><input class=\"sk-toggleable__control sk-hidden--visually\" id=\"sk-estimator-id-8\" type=\"checkbox\" ><label for=\"sk-estimator-id-8\" class=\"sk-toggleable__label sk-toggleable__label-arrow\">StandardScaler</label><div class=\"sk-toggleable__content\"><pre>StandardScaler()</pre></div></div></div></div></div></div></div></div><div class=\"sk-item\"><div class=\"sk-estimator sk-toggleable\"><input class=\"sk-toggleable__control sk-hidden--visually\" id=\"sk-estimator-id-9\" type=\"checkbox\" ><label for=\"sk-estimator-id-9\" class=\"sk-toggleable__label sk-toggleable__label-arrow\">KNeighborsClassifier</label><div class=\"sk-toggleable__content\"><pre>KNeighborsClassifier()</pre></div></div></div></div></div></div></div>"
      ],
      "text/plain": [
       "Pipeline(steps=[('preprocessor',\n",
       "                 ColumnTransformer(transformers=[('label',\n",
       "                                                  OrdinalEncoder(handle_unknown='use_encoded_value',\n",
       "                                                                 unknown_value=6000),\n",
       "                                                  ['State', 'Country', 'Make',\n",
       "                                                   'Model']),\n",
       "                                                 ('onehot',\n",
       "                                                  OneHotEncoder(handle_unknown='ignore',\n",
       "                                                                sparse_output=False),\n",
       "                                                  ['WeatherCondition', 'FAR']),\n",
       "                                                 ('num', StandardScaler(),\n",
       "                                                  ['NumberOfEngines'])])),\n",
       "                ('classifier', KNeighborsClassifier())])"
      ]
     },
     "execution_count": 82,
     "metadata": {},
     "output_type": "execute_result"
    }
   ],
   "source": [
    "# fit the pipeline with X_train and y_train\n",
    "pipeline_KNN.fit(X_train, y_train_encoded)"
   ]
  },
  {
   "cell_type": "code",
   "execution_count": 83,
   "metadata": {},
   "outputs": [
    {
     "data": {
      "text/plain": [
       "array([0., 0., 0., ..., 0., 0., 0.])"
      ]
     },
     "execution_count": 83,
     "metadata": {},
     "output_type": "execute_result"
    }
   ],
   "source": [
    "# predict the X_train\n",
    "pipeline_KNN.predict(X_train)"
   ]
  },
  {
   "cell_type": "code",
   "execution_count": 84,
   "metadata": {},
   "outputs": [
    {
     "data": {
      "text/plain": [
       "array([0., 0., 0., ..., 0., 0., 0.])"
      ]
     },
     "execution_count": 84,
     "metadata": {},
     "output_type": "execute_result"
    }
   ],
   "source": [
    "# predict the X_test\n",
    "y_pred_KNN = pipeline_KNN.predict(X_test)\n",
    "y_pred_KNN"
   ]
  },
  {
   "cell_type": "markdown",
   "metadata": {},
   "source": [
    "### Support Vector Machine (SVM)"
   ]
  },
  {
   "cell_type": "code",
   "execution_count": 85,
   "metadata": {},
   "outputs": [],
   "source": [
    "# creating pipeline with preprocessing and SVM classifier\n",
    "pipeline_SVC = Pipeline(steps=[\n",
    "    ('preprocessor', preprocessing),\n",
    "    ('classifier', SVC(kernel='rbf', random_state=26))\n",
    "])"
   ]
  },
  {
   "cell_type": "code",
   "execution_count": 86,
   "metadata": {},
   "outputs": [
    {
     "data": {
      "text/html": [
       "<style>#sk-container-id-2 {color: black;}#sk-container-id-2 pre{padding: 0;}#sk-container-id-2 div.sk-toggleable {background-color: white;}#sk-container-id-2 label.sk-toggleable__label {cursor: pointer;display: block;width: 100%;margin-bottom: 0;padding: 0.3em;box-sizing: border-box;text-align: center;}#sk-container-id-2 label.sk-toggleable__label-arrow:before {content: \"▸\";float: left;margin-right: 0.25em;color: #696969;}#sk-container-id-2 label.sk-toggleable__label-arrow:hover:before {color: black;}#sk-container-id-2 div.sk-estimator:hover label.sk-toggleable__label-arrow:before {color: black;}#sk-container-id-2 div.sk-toggleable__content {max-height: 0;max-width: 0;overflow: hidden;text-align: left;background-color: #f0f8ff;}#sk-container-id-2 div.sk-toggleable__content pre {margin: 0.2em;color: black;border-radius: 0.25em;background-color: #f0f8ff;}#sk-container-id-2 input.sk-toggleable__control:checked~div.sk-toggleable__content {max-height: 200px;max-width: 100%;overflow: auto;}#sk-container-id-2 input.sk-toggleable__control:checked~label.sk-toggleable__label-arrow:before {content: \"▾\";}#sk-container-id-2 div.sk-estimator input.sk-toggleable__control:checked~label.sk-toggleable__label {background-color: #d4ebff;}#sk-container-id-2 div.sk-label input.sk-toggleable__control:checked~label.sk-toggleable__label {background-color: #d4ebff;}#sk-container-id-2 input.sk-hidden--visually {border: 0;clip: rect(1px 1px 1px 1px);clip: rect(1px, 1px, 1px, 1px);height: 1px;margin: -1px;overflow: hidden;padding: 0;position: absolute;width: 1px;}#sk-container-id-2 div.sk-estimator {font-family: monospace;background-color: #f0f8ff;border: 1px dotted black;border-radius: 0.25em;box-sizing: border-box;margin-bottom: 0.5em;}#sk-container-id-2 div.sk-estimator:hover {background-color: #d4ebff;}#sk-container-id-2 div.sk-parallel-item::after {content: \"\";width: 100%;border-bottom: 1px solid gray;flex-grow: 1;}#sk-container-id-2 div.sk-label:hover label.sk-toggleable__label {background-color: #d4ebff;}#sk-container-id-2 div.sk-serial::before {content: \"\";position: absolute;border-left: 1px solid gray;box-sizing: border-box;top: 0;bottom: 0;left: 50%;z-index: 0;}#sk-container-id-2 div.sk-serial {display: flex;flex-direction: column;align-items: center;background-color: white;padding-right: 0.2em;padding-left: 0.2em;position: relative;}#sk-container-id-2 div.sk-item {position: relative;z-index: 1;}#sk-container-id-2 div.sk-parallel {display: flex;align-items: stretch;justify-content: center;background-color: white;position: relative;}#sk-container-id-2 div.sk-item::before, #sk-container-id-2 div.sk-parallel-item::before {content: \"\";position: absolute;border-left: 1px solid gray;box-sizing: border-box;top: 0;bottom: 0;left: 50%;z-index: -1;}#sk-container-id-2 div.sk-parallel-item {display: flex;flex-direction: column;z-index: 1;position: relative;background-color: white;}#sk-container-id-2 div.sk-parallel-item:first-child::after {align-self: flex-end;width: 50%;}#sk-container-id-2 div.sk-parallel-item:last-child::after {align-self: flex-start;width: 50%;}#sk-container-id-2 div.sk-parallel-item:only-child::after {width: 0;}#sk-container-id-2 div.sk-dashed-wrapped {border: 1px dashed gray;margin: 0 0.4em 0.5em 0.4em;box-sizing: border-box;padding-bottom: 0.4em;background-color: white;}#sk-container-id-2 div.sk-label label {font-family: monospace;font-weight: bold;display: inline-block;line-height: 1.2em;}#sk-container-id-2 div.sk-label-container {text-align: center;}#sk-container-id-2 div.sk-container {/* jupyter's `normalize.less` sets `[hidden] { display: none; }` but bootstrap.min.css set `[hidden] { display: none !important; }` so we also need the `!important` here to be able to override the default hidden behavior on the sphinx rendered scikit-learn.org. See: https://github.com/scikit-learn/scikit-learn/issues/21755 */display: inline-block !important;position: relative;}#sk-container-id-2 div.sk-text-repr-fallback {display: none;}</style><div id=\"sk-container-id-2\" class=\"sk-top-container\"><div class=\"sk-text-repr-fallback\"><pre>Pipeline(steps=[(&#x27;preprocessor&#x27;,\n",
       "                 ColumnTransformer(transformers=[(&#x27;label&#x27;,\n",
       "                                                  OrdinalEncoder(handle_unknown=&#x27;use_encoded_value&#x27;,\n",
       "                                                                 unknown_value=6000),\n",
       "                                                  [&#x27;State&#x27;, &#x27;Country&#x27;, &#x27;Make&#x27;,\n",
       "                                                   &#x27;Model&#x27;]),\n",
       "                                                 (&#x27;onehot&#x27;,\n",
       "                                                  OneHotEncoder(handle_unknown=&#x27;ignore&#x27;,\n",
       "                                                                sparse_output=False),\n",
       "                                                  [&#x27;WeatherCondition&#x27;, &#x27;FAR&#x27;]),\n",
       "                                                 (&#x27;num&#x27;, StandardScaler(),\n",
       "                                                  [&#x27;NumberOfEngines&#x27;])])),\n",
       "                (&#x27;classifier&#x27;, SVC(random_state=26))])</pre><b>In a Jupyter environment, please rerun this cell to show the HTML representation or trust the notebook. <br />On GitHub, the HTML representation is unable to render, please try loading this page with nbviewer.org.</b></div><div class=\"sk-container\" hidden><div class=\"sk-item sk-dashed-wrapped\"><div class=\"sk-label-container\"><div class=\"sk-label sk-toggleable\"><input class=\"sk-toggleable__control sk-hidden--visually\" id=\"sk-estimator-id-10\" type=\"checkbox\" ><label for=\"sk-estimator-id-10\" class=\"sk-toggleable__label sk-toggleable__label-arrow\">Pipeline</label><div class=\"sk-toggleable__content\"><pre>Pipeline(steps=[(&#x27;preprocessor&#x27;,\n",
       "                 ColumnTransformer(transformers=[(&#x27;label&#x27;,\n",
       "                                                  OrdinalEncoder(handle_unknown=&#x27;use_encoded_value&#x27;,\n",
       "                                                                 unknown_value=6000),\n",
       "                                                  [&#x27;State&#x27;, &#x27;Country&#x27;, &#x27;Make&#x27;,\n",
       "                                                   &#x27;Model&#x27;]),\n",
       "                                                 (&#x27;onehot&#x27;,\n",
       "                                                  OneHotEncoder(handle_unknown=&#x27;ignore&#x27;,\n",
       "                                                                sparse_output=False),\n",
       "                                                  [&#x27;WeatherCondition&#x27;, &#x27;FAR&#x27;]),\n",
       "                                                 (&#x27;num&#x27;, StandardScaler(),\n",
       "                                                  [&#x27;NumberOfEngines&#x27;])])),\n",
       "                (&#x27;classifier&#x27;, SVC(random_state=26))])</pre></div></div></div><div class=\"sk-serial\"><div class=\"sk-item sk-dashed-wrapped\"><div class=\"sk-label-container\"><div class=\"sk-label sk-toggleable\"><input class=\"sk-toggleable__control sk-hidden--visually\" id=\"sk-estimator-id-11\" type=\"checkbox\" ><label for=\"sk-estimator-id-11\" class=\"sk-toggleable__label sk-toggleable__label-arrow\">preprocessor: ColumnTransformer</label><div class=\"sk-toggleable__content\"><pre>ColumnTransformer(transformers=[(&#x27;label&#x27;,\n",
       "                                 OrdinalEncoder(handle_unknown=&#x27;use_encoded_value&#x27;,\n",
       "                                                unknown_value=6000),\n",
       "                                 [&#x27;State&#x27;, &#x27;Country&#x27;, &#x27;Make&#x27;, &#x27;Model&#x27;]),\n",
       "                                (&#x27;onehot&#x27;,\n",
       "                                 OneHotEncoder(handle_unknown=&#x27;ignore&#x27;,\n",
       "                                               sparse_output=False),\n",
       "                                 [&#x27;WeatherCondition&#x27;, &#x27;FAR&#x27;]),\n",
       "                                (&#x27;num&#x27;, StandardScaler(), [&#x27;NumberOfEngines&#x27;])])</pre></div></div></div><div class=\"sk-parallel\"><div class=\"sk-parallel-item\"><div class=\"sk-item\"><div class=\"sk-label-container\"><div class=\"sk-label sk-toggleable\"><input class=\"sk-toggleable__control sk-hidden--visually\" id=\"sk-estimator-id-12\" type=\"checkbox\" ><label for=\"sk-estimator-id-12\" class=\"sk-toggleable__label sk-toggleable__label-arrow\">label</label><div class=\"sk-toggleable__content\"><pre>[&#x27;State&#x27;, &#x27;Country&#x27;, &#x27;Make&#x27;, &#x27;Model&#x27;]</pre></div></div></div><div class=\"sk-serial\"><div class=\"sk-item\"><div class=\"sk-estimator sk-toggleable\"><input class=\"sk-toggleable__control sk-hidden--visually\" id=\"sk-estimator-id-13\" type=\"checkbox\" ><label for=\"sk-estimator-id-13\" class=\"sk-toggleable__label sk-toggleable__label-arrow\">OrdinalEncoder</label><div class=\"sk-toggleable__content\"><pre>OrdinalEncoder(handle_unknown=&#x27;use_encoded_value&#x27;, unknown_value=6000)</pre></div></div></div></div></div></div><div class=\"sk-parallel-item\"><div class=\"sk-item\"><div class=\"sk-label-container\"><div class=\"sk-label sk-toggleable\"><input class=\"sk-toggleable__control sk-hidden--visually\" id=\"sk-estimator-id-14\" type=\"checkbox\" ><label for=\"sk-estimator-id-14\" class=\"sk-toggleable__label sk-toggleable__label-arrow\">onehot</label><div class=\"sk-toggleable__content\"><pre>[&#x27;WeatherCondition&#x27;, &#x27;FAR&#x27;]</pre></div></div></div><div class=\"sk-serial\"><div class=\"sk-item\"><div class=\"sk-estimator sk-toggleable\"><input class=\"sk-toggleable__control sk-hidden--visually\" id=\"sk-estimator-id-15\" type=\"checkbox\" ><label for=\"sk-estimator-id-15\" class=\"sk-toggleable__label sk-toggleable__label-arrow\">OneHotEncoder</label><div class=\"sk-toggleable__content\"><pre>OneHotEncoder(handle_unknown=&#x27;ignore&#x27;, sparse_output=False)</pre></div></div></div></div></div></div><div class=\"sk-parallel-item\"><div class=\"sk-item\"><div class=\"sk-label-container\"><div class=\"sk-label sk-toggleable\"><input class=\"sk-toggleable__control sk-hidden--visually\" id=\"sk-estimator-id-16\" type=\"checkbox\" ><label for=\"sk-estimator-id-16\" class=\"sk-toggleable__label sk-toggleable__label-arrow\">num</label><div class=\"sk-toggleable__content\"><pre>[&#x27;NumberOfEngines&#x27;]</pre></div></div></div><div class=\"sk-serial\"><div class=\"sk-item\"><div class=\"sk-estimator sk-toggleable\"><input class=\"sk-toggleable__control sk-hidden--visually\" id=\"sk-estimator-id-17\" type=\"checkbox\" ><label for=\"sk-estimator-id-17\" class=\"sk-toggleable__label sk-toggleable__label-arrow\">StandardScaler</label><div class=\"sk-toggleable__content\"><pre>StandardScaler()</pre></div></div></div></div></div></div></div></div><div class=\"sk-item\"><div class=\"sk-estimator sk-toggleable\"><input class=\"sk-toggleable__control sk-hidden--visually\" id=\"sk-estimator-id-18\" type=\"checkbox\" ><label for=\"sk-estimator-id-18\" class=\"sk-toggleable__label sk-toggleable__label-arrow\">SVC</label><div class=\"sk-toggleable__content\"><pre>SVC(random_state=26)</pre></div></div></div></div></div></div></div>"
      ],
      "text/plain": [
       "Pipeline(steps=[('preprocessor',\n",
       "                 ColumnTransformer(transformers=[('label',\n",
       "                                                  OrdinalEncoder(handle_unknown='use_encoded_value',\n",
       "                                                                 unknown_value=6000),\n",
       "                                                  ['State', 'Country', 'Make',\n",
       "                                                   'Model']),\n",
       "                                                 ('onehot',\n",
       "                                                  OneHotEncoder(handle_unknown='ignore',\n",
       "                                                                sparse_output=False),\n",
       "                                                  ['WeatherCondition', 'FAR']),\n",
       "                                                 ('num', StandardScaler(),\n",
       "                                                  ['NumberOfEngines'])])),\n",
       "                ('classifier', SVC(random_state=26))])"
      ]
     },
     "execution_count": 86,
     "metadata": {},
     "output_type": "execute_result"
    }
   ],
   "source": [
    "# fit the pipeline\n",
    "pipeline_SVC.fit(X_train, y_train_encoded)"
   ]
  },
  {
   "cell_type": "code",
   "execution_count": 87,
   "metadata": {},
   "outputs": [
    {
     "data": {
      "text/plain": [
       "array([0., 0., 0., ..., 0., 0., 0.])"
      ]
     },
     "execution_count": 87,
     "metadata": {},
     "output_type": "execute_result"
    }
   ],
   "source": [
    "# predict X_train\n",
    "pipeline_SVC.predict(X_train)"
   ]
  },
  {
   "cell_type": "code",
   "execution_count": 88,
   "metadata": {},
   "outputs": [
    {
     "data": {
      "text/plain": [
       "array([0., 0., 0., ..., 0., 0., 0.])"
      ]
     },
     "execution_count": 88,
     "metadata": {},
     "output_type": "execute_result"
    }
   ],
   "source": [
    "# predict X_test\n",
    "y_pred_SVC = pipeline_SVC.predict(X_test)\n",
    "y_pred_SVC"
   ]
  },
  {
   "cell_type": "markdown",
   "metadata": {},
   "source": [
    "### Decision Tree"
   ]
  },
  {
   "cell_type": "code",
   "execution_count": 89,
   "metadata": {},
   "outputs": [],
   "source": [
    "# creating pipeline with preprocessing and Decision Tree classifier\n",
    "pipeline_DecTree = Pipeline(steps=[\n",
    "    ('preprocessor', preprocessing),\n",
    "    ('classifier', DecisionTreeClassifier(random_state=26))\n",
    "])"
   ]
  },
  {
   "cell_type": "code",
   "execution_count": 90,
   "metadata": {},
   "outputs": [
    {
     "data": {
      "text/html": [
       "<style>#sk-container-id-3 {color: black;}#sk-container-id-3 pre{padding: 0;}#sk-container-id-3 div.sk-toggleable {background-color: white;}#sk-container-id-3 label.sk-toggleable__label {cursor: pointer;display: block;width: 100%;margin-bottom: 0;padding: 0.3em;box-sizing: border-box;text-align: center;}#sk-container-id-3 label.sk-toggleable__label-arrow:before {content: \"▸\";float: left;margin-right: 0.25em;color: #696969;}#sk-container-id-3 label.sk-toggleable__label-arrow:hover:before {color: black;}#sk-container-id-3 div.sk-estimator:hover label.sk-toggleable__label-arrow:before {color: black;}#sk-container-id-3 div.sk-toggleable__content {max-height: 0;max-width: 0;overflow: hidden;text-align: left;background-color: #f0f8ff;}#sk-container-id-3 div.sk-toggleable__content pre {margin: 0.2em;color: black;border-radius: 0.25em;background-color: #f0f8ff;}#sk-container-id-3 input.sk-toggleable__control:checked~div.sk-toggleable__content {max-height: 200px;max-width: 100%;overflow: auto;}#sk-container-id-3 input.sk-toggleable__control:checked~label.sk-toggleable__label-arrow:before {content: \"▾\";}#sk-container-id-3 div.sk-estimator input.sk-toggleable__control:checked~label.sk-toggleable__label {background-color: #d4ebff;}#sk-container-id-3 div.sk-label input.sk-toggleable__control:checked~label.sk-toggleable__label {background-color: #d4ebff;}#sk-container-id-3 input.sk-hidden--visually {border: 0;clip: rect(1px 1px 1px 1px);clip: rect(1px, 1px, 1px, 1px);height: 1px;margin: -1px;overflow: hidden;padding: 0;position: absolute;width: 1px;}#sk-container-id-3 div.sk-estimator {font-family: monospace;background-color: #f0f8ff;border: 1px dotted black;border-radius: 0.25em;box-sizing: border-box;margin-bottom: 0.5em;}#sk-container-id-3 div.sk-estimator:hover {background-color: #d4ebff;}#sk-container-id-3 div.sk-parallel-item::after {content: \"\";width: 100%;border-bottom: 1px solid gray;flex-grow: 1;}#sk-container-id-3 div.sk-label:hover label.sk-toggleable__label {background-color: #d4ebff;}#sk-container-id-3 div.sk-serial::before {content: \"\";position: absolute;border-left: 1px solid gray;box-sizing: border-box;top: 0;bottom: 0;left: 50%;z-index: 0;}#sk-container-id-3 div.sk-serial {display: flex;flex-direction: column;align-items: center;background-color: white;padding-right: 0.2em;padding-left: 0.2em;position: relative;}#sk-container-id-3 div.sk-item {position: relative;z-index: 1;}#sk-container-id-3 div.sk-parallel {display: flex;align-items: stretch;justify-content: center;background-color: white;position: relative;}#sk-container-id-3 div.sk-item::before, #sk-container-id-3 div.sk-parallel-item::before {content: \"\";position: absolute;border-left: 1px solid gray;box-sizing: border-box;top: 0;bottom: 0;left: 50%;z-index: -1;}#sk-container-id-3 div.sk-parallel-item {display: flex;flex-direction: column;z-index: 1;position: relative;background-color: white;}#sk-container-id-3 div.sk-parallel-item:first-child::after {align-self: flex-end;width: 50%;}#sk-container-id-3 div.sk-parallel-item:last-child::after {align-self: flex-start;width: 50%;}#sk-container-id-3 div.sk-parallel-item:only-child::after {width: 0;}#sk-container-id-3 div.sk-dashed-wrapped {border: 1px dashed gray;margin: 0 0.4em 0.5em 0.4em;box-sizing: border-box;padding-bottom: 0.4em;background-color: white;}#sk-container-id-3 div.sk-label label {font-family: monospace;font-weight: bold;display: inline-block;line-height: 1.2em;}#sk-container-id-3 div.sk-label-container {text-align: center;}#sk-container-id-3 div.sk-container {/* jupyter's `normalize.less` sets `[hidden] { display: none; }` but bootstrap.min.css set `[hidden] { display: none !important; }` so we also need the `!important` here to be able to override the default hidden behavior on the sphinx rendered scikit-learn.org. See: https://github.com/scikit-learn/scikit-learn/issues/21755 */display: inline-block !important;position: relative;}#sk-container-id-3 div.sk-text-repr-fallback {display: none;}</style><div id=\"sk-container-id-3\" class=\"sk-top-container\"><div class=\"sk-text-repr-fallback\"><pre>Pipeline(steps=[(&#x27;preprocessor&#x27;,\n",
       "                 ColumnTransformer(transformers=[(&#x27;label&#x27;,\n",
       "                                                  OrdinalEncoder(handle_unknown=&#x27;use_encoded_value&#x27;,\n",
       "                                                                 unknown_value=6000),\n",
       "                                                  [&#x27;State&#x27;, &#x27;Country&#x27;, &#x27;Make&#x27;,\n",
       "                                                   &#x27;Model&#x27;]),\n",
       "                                                 (&#x27;onehot&#x27;,\n",
       "                                                  OneHotEncoder(handle_unknown=&#x27;ignore&#x27;,\n",
       "                                                                sparse_output=False),\n",
       "                                                  [&#x27;WeatherCondition&#x27;, &#x27;FAR&#x27;]),\n",
       "                                                 (&#x27;num&#x27;, StandardScaler(),\n",
       "                                                  [&#x27;NumberOfEngines&#x27;])])),\n",
       "                (&#x27;classifier&#x27;, DecisionTreeClassifier(random_state=26))])</pre><b>In a Jupyter environment, please rerun this cell to show the HTML representation or trust the notebook. <br />On GitHub, the HTML representation is unable to render, please try loading this page with nbviewer.org.</b></div><div class=\"sk-container\" hidden><div class=\"sk-item sk-dashed-wrapped\"><div class=\"sk-label-container\"><div class=\"sk-label sk-toggleable\"><input class=\"sk-toggleable__control sk-hidden--visually\" id=\"sk-estimator-id-19\" type=\"checkbox\" ><label for=\"sk-estimator-id-19\" class=\"sk-toggleable__label sk-toggleable__label-arrow\">Pipeline</label><div class=\"sk-toggleable__content\"><pre>Pipeline(steps=[(&#x27;preprocessor&#x27;,\n",
       "                 ColumnTransformer(transformers=[(&#x27;label&#x27;,\n",
       "                                                  OrdinalEncoder(handle_unknown=&#x27;use_encoded_value&#x27;,\n",
       "                                                                 unknown_value=6000),\n",
       "                                                  [&#x27;State&#x27;, &#x27;Country&#x27;, &#x27;Make&#x27;,\n",
       "                                                   &#x27;Model&#x27;]),\n",
       "                                                 (&#x27;onehot&#x27;,\n",
       "                                                  OneHotEncoder(handle_unknown=&#x27;ignore&#x27;,\n",
       "                                                                sparse_output=False),\n",
       "                                                  [&#x27;WeatherCondition&#x27;, &#x27;FAR&#x27;]),\n",
       "                                                 (&#x27;num&#x27;, StandardScaler(),\n",
       "                                                  [&#x27;NumberOfEngines&#x27;])])),\n",
       "                (&#x27;classifier&#x27;, DecisionTreeClassifier(random_state=26))])</pre></div></div></div><div class=\"sk-serial\"><div class=\"sk-item sk-dashed-wrapped\"><div class=\"sk-label-container\"><div class=\"sk-label sk-toggleable\"><input class=\"sk-toggleable__control sk-hidden--visually\" id=\"sk-estimator-id-20\" type=\"checkbox\" ><label for=\"sk-estimator-id-20\" class=\"sk-toggleable__label sk-toggleable__label-arrow\">preprocessor: ColumnTransformer</label><div class=\"sk-toggleable__content\"><pre>ColumnTransformer(transformers=[(&#x27;label&#x27;,\n",
       "                                 OrdinalEncoder(handle_unknown=&#x27;use_encoded_value&#x27;,\n",
       "                                                unknown_value=6000),\n",
       "                                 [&#x27;State&#x27;, &#x27;Country&#x27;, &#x27;Make&#x27;, &#x27;Model&#x27;]),\n",
       "                                (&#x27;onehot&#x27;,\n",
       "                                 OneHotEncoder(handle_unknown=&#x27;ignore&#x27;,\n",
       "                                               sparse_output=False),\n",
       "                                 [&#x27;WeatherCondition&#x27;, &#x27;FAR&#x27;]),\n",
       "                                (&#x27;num&#x27;, StandardScaler(), [&#x27;NumberOfEngines&#x27;])])</pre></div></div></div><div class=\"sk-parallel\"><div class=\"sk-parallel-item\"><div class=\"sk-item\"><div class=\"sk-label-container\"><div class=\"sk-label sk-toggleable\"><input class=\"sk-toggleable__control sk-hidden--visually\" id=\"sk-estimator-id-21\" type=\"checkbox\" ><label for=\"sk-estimator-id-21\" class=\"sk-toggleable__label sk-toggleable__label-arrow\">label</label><div class=\"sk-toggleable__content\"><pre>[&#x27;State&#x27;, &#x27;Country&#x27;, &#x27;Make&#x27;, &#x27;Model&#x27;]</pre></div></div></div><div class=\"sk-serial\"><div class=\"sk-item\"><div class=\"sk-estimator sk-toggleable\"><input class=\"sk-toggleable__control sk-hidden--visually\" id=\"sk-estimator-id-22\" type=\"checkbox\" ><label for=\"sk-estimator-id-22\" class=\"sk-toggleable__label sk-toggleable__label-arrow\">OrdinalEncoder</label><div class=\"sk-toggleable__content\"><pre>OrdinalEncoder(handle_unknown=&#x27;use_encoded_value&#x27;, unknown_value=6000)</pre></div></div></div></div></div></div><div class=\"sk-parallel-item\"><div class=\"sk-item\"><div class=\"sk-label-container\"><div class=\"sk-label sk-toggleable\"><input class=\"sk-toggleable__control sk-hidden--visually\" id=\"sk-estimator-id-23\" type=\"checkbox\" ><label for=\"sk-estimator-id-23\" class=\"sk-toggleable__label sk-toggleable__label-arrow\">onehot</label><div class=\"sk-toggleable__content\"><pre>[&#x27;WeatherCondition&#x27;, &#x27;FAR&#x27;]</pre></div></div></div><div class=\"sk-serial\"><div class=\"sk-item\"><div class=\"sk-estimator sk-toggleable\"><input class=\"sk-toggleable__control sk-hidden--visually\" id=\"sk-estimator-id-24\" type=\"checkbox\" ><label for=\"sk-estimator-id-24\" class=\"sk-toggleable__label sk-toggleable__label-arrow\">OneHotEncoder</label><div class=\"sk-toggleable__content\"><pre>OneHotEncoder(handle_unknown=&#x27;ignore&#x27;, sparse_output=False)</pre></div></div></div></div></div></div><div class=\"sk-parallel-item\"><div class=\"sk-item\"><div class=\"sk-label-container\"><div class=\"sk-label sk-toggleable\"><input class=\"sk-toggleable__control sk-hidden--visually\" id=\"sk-estimator-id-25\" type=\"checkbox\" ><label for=\"sk-estimator-id-25\" class=\"sk-toggleable__label sk-toggleable__label-arrow\">num</label><div class=\"sk-toggleable__content\"><pre>[&#x27;NumberOfEngines&#x27;]</pre></div></div></div><div class=\"sk-serial\"><div class=\"sk-item\"><div class=\"sk-estimator sk-toggleable\"><input class=\"sk-toggleable__control sk-hidden--visually\" id=\"sk-estimator-id-26\" type=\"checkbox\" ><label for=\"sk-estimator-id-26\" class=\"sk-toggleable__label sk-toggleable__label-arrow\">StandardScaler</label><div class=\"sk-toggleable__content\"><pre>StandardScaler()</pre></div></div></div></div></div></div></div></div><div class=\"sk-item\"><div class=\"sk-estimator sk-toggleable\"><input class=\"sk-toggleable__control sk-hidden--visually\" id=\"sk-estimator-id-27\" type=\"checkbox\" ><label for=\"sk-estimator-id-27\" class=\"sk-toggleable__label sk-toggleable__label-arrow\">DecisionTreeClassifier</label><div class=\"sk-toggleable__content\"><pre>DecisionTreeClassifier(random_state=26)</pre></div></div></div></div></div></div></div>"
      ],
      "text/plain": [
       "Pipeline(steps=[('preprocessor',\n",
       "                 ColumnTransformer(transformers=[('label',\n",
       "                                                  OrdinalEncoder(handle_unknown='use_encoded_value',\n",
       "                                                                 unknown_value=6000),\n",
       "                                                  ['State', 'Country', 'Make',\n",
       "                                                   'Model']),\n",
       "                                                 ('onehot',\n",
       "                                                  OneHotEncoder(handle_unknown='ignore',\n",
       "                                                                sparse_output=False),\n",
       "                                                  ['WeatherCondition', 'FAR']),\n",
       "                                                 ('num', StandardScaler(),\n",
       "                                                  ['NumberOfEngines'])])),\n",
       "                ('classifier', DecisionTreeClassifier(random_state=26))])"
      ]
     },
     "execution_count": 90,
     "metadata": {},
     "output_type": "execute_result"
    }
   ],
   "source": [
    "# fit the pipeline\n",
    "pipeline_DecTree.fit(X_train, y_train_encoded)"
   ]
  },
  {
   "cell_type": "code",
   "execution_count": 91,
   "metadata": {},
   "outputs": [
    {
     "data": {
      "text/plain": [
       "array([0., 0., 0., ..., 0., 0., 0.])"
      ]
     },
     "execution_count": 91,
     "metadata": {},
     "output_type": "execute_result"
    }
   ],
   "source": [
    "# predict X_train\n",
    "pipeline_DecTree.predict(X_train)"
   ]
  },
  {
   "cell_type": "code",
   "execution_count": 92,
   "metadata": {},
   "outputs": [
    {
     "data": {
      "text/plain": [
       "array([0., 0., 0., ..., 0., 0., 0.])"
      ]
     },
     "execution_count": 92,
     "metadata": {},
     "output_type": "execute_result"
    }
   ],
   "source": [
    "# predict X_test\n",
    "y_pred_DecTree = pipeline_DecTree.predict(X_test)\n",
    "y_pred_DecTree"
   ]
  },
  {
   "cell_type": "markdown",
   "metadata": {},
   "source": [
    "### Random Forest"
   ]
  },
  {
   "cell_type": "code",
   "execution_count": 93,
   "metadata": {},
   "outputs": [],
   "source": [
    "# creating pipeline with preprocessing and Random Forest classifier\n",
    "pipeline_RandFor = Pipeline(steps=[\n",
    "    ('preprocessor', preprocessing),\n",
    "    ('classifier', RandomForestClassifier(random_state=26))\n",
    "])"
   ]
  },
  {
   "cell_type": "code",
   "execution_count": 94,
   "metadata": {},
   "outputs": [
    {
     "data": {
      "text/html": [
       "<style>#sk-container-id-4 {color: black;}#sk-container-id-4 pre{padding: 0;}#sk-container-id-4 div.sk-toggleable {background-color: white;}#sk-container-id-4 label.sk-toggleable__label {cursor: pointer;display: block;width: 100%;margin-bottom: 0;padding: 0.3em;box-sizing: border-box;text-align: center;}#sk-container-id-4 label.sk-toggleable__label-arrow:before {content: \"▸\";float: left;margin-right: 0.25em;color: #696969;}#sk-container-id-4 label.sk-toggleable__label-arrow:hover:before {color: black;}#sk-container-id-4 div.sk-estimator:hover label.sk-toggleable__label-arrow:before {color: black;}#sk-container-id-4 div.sk-toggleable__content {max-height: 0;max-width: 0;overflow: hidden;text-align: left;background-color: #f0f8ff;}#sk-container-id-4 div.sk-toggleable__content pre {margin: 0.2em;color: black;border-radius: 0.25em;background-color: #f0f8ff;}#sk-container-id-4 input.sk-toggleable__control:checked~div.sk-toggleable__content {max-height: 200px;max-width: 100%;overflow: auto;}#sk-container-id-4 input.sk-toggleable__control:checked~label.sk-toggleable__label-arrow:before {content: \"▾\";}#sk-container-id-4 div.sk-estimator input.sk-toggleable__control:checked~label.sk-toggleable__label {background-color: #d4ebff;}#sk-container-id-4 div.sk-label input.sk-toggleable__control:checked~label.sk-toggleable__label {background-color: #d4ebff;}#sk-container-id-4 input.sk-hidden--visually {border: 0;clip: rect(1px 1px 1px 1px);clip: rect(1px, 1px, 1px, 1px);height: 1px;margin: -1px;overflow: hidden;padding: 0;position: absolute;width: 1px;}#sk-container-id-4 div.sk-estimator {font-family: monospace;background-color: #f0f8ff;border: 1px dotted black;border-radius: 0.25em;box-sizing: border-box;margin-bottom: 0.5em;}#sk-container-id-4 div.sk-estimator:hover {background-color: #d4ebff;}#sk-container-id-4 div.sk-parallel-item::after {content: \"\";width: 100%;border-bottom: 1px solid gray;flex-grow: 1;}#sk-container-id-4 div.sk-label:hover label.sk-toggleable__label {background-color: #d4ebff;}#sk-container-id-4 div.sk-serial::before {content: \"\";position: absolute;border-left: 1px solid gray;box-sizing: border-box;top: 0;bottom: 0;left: 50%;z-index: 0;}#sk-container-id-4 div.sk-serial {display: flex;flex-direction: column;align-items: center;background-color: white;padding-right: 0.2em;padding-left: 0.2em;position: relative;}#sk-container-id-4 div.sk-item {position: relative;z-index: 1;}#sk-container-id-4 div.sk-parallel {display: flex;align-items: stretch;justify-content: center;background-color: white;position: relative;}#sk-container-id-4 div.sk-item::before, #sk-container-id-4 div.sk-parallel-item::before {content: \"\";position: absolute;border-left: 1px solid gray;box-sizing: border-box;top: 0;bottom: 0;left: 50%;z-index: -1;}#sk-container-id-4 div.sk-parallel-item {display: flex;flex-direction: column;z-index: 1;position: relative;background-color: white;}#sk-container-id-4 div.sk-parallel-item:first-child::after {align-self: flex-end;width: 50%;}#sk-container-id-4 div.sk-parallel-item:last-child::after {align-self: flex-start;width: 50%;}#sk-container-id-4 div.sk-parallel-item:only-child::after {width: 0;}#sk-container-id-4 div.sk-dashed-wrapped {border: 1px dashed gray;margin: 0 0.4em 0.5em 0.4em;box-sizing: border-box;padding-bottom: 0.4em;background-color: white;}#sk-container-id-4 div.sk-label label {font-family: monospace;font-weight: bold;display: inline-block;line-height: 1.2em;}#sk-container-id-4 div.sk-label-container {text-align: center;}#sk-container-id-4 div.sk-container {/* jupyter's `normalize.less` sets `[hidden] { display: none; }` but bootstrap.min.css set `[hidden] { display: none !important; }` so we also need the `!important` here to be able to override the default hidden behavior on the sphinx rendered scikit-learn.org. See: https://github.com/scikit-learn/scikit-learn/issues/21755 */display: inline-block !important;position: relative;}#sk-container-id-4 div.sk-text-repr-fallback {display: none;}</style><div id=\"sk-container-id-4\" class=\"sk-top-container\"><div class=\"sk-text-repr-fallback\"><pre>Pipeline(steps=[(&#x27;preprocessor&#x27;,\n",
       "                 ColumnTransformer(transformers=[(&#x27;label&#x27;,\n",
       "                                                  OrdinalEncoder(handle_unknown=&#x27;use_encoded_value&#x27;,\n",
       "                                                                 unknown_value=6000),\n",
       "                                                  [&#x27;State&#x27;, &#x27;Country&#x27;, &#x27;Make&#x27;,\n",
       "                                                   &#x27;Model&#x27;]),\n",
       "                                                 (&#x27;onehot&#x27;,\n",
       "                                                  OneHotEncoder(handle_unknown=&#x27;ignore&#x27;,\n",
       "                                                                sparse_output=False),\n",
       "                                                  [&#x27;WeatherCondition&#x27;, &#x27;FAR&#x27;]),\n",
       "                                                 (&#x27;num&#x27;, StandardScaler(),\n",
       "                                                  [&#x27;NumberOfEngines&#x27;])])),\n",
       "                (&#x27;classifier&#x27;, RandomForestClassifier(random_state=26))])</pre><b>In a Jupyter environment, please rerun this cell to show the HTML representation or trust the notebook. <br />On GitHub, the HTML representation is unable to render, please try loading this page with nbviewer.org.</b></div><div class=\"sk-container\" hidden><div class=\"sk-item sk-dashed-wrapped\"><div class=\"sk-label-container\"><div class=\"sk-label sk-toggleable\"><input class=\"sk-toggleable__control sk-hidden--visually\" id=\"sk-estimator-id-28\" type=\"checkbox\" ><label for=\"sk-estimator-id-28\" class=\"sk-toggleable__label sk-toggleable__label-arrow\">Pipeline</label><div class=\"sk-toggleable__content\"><pre>Pipeline(steps=[(&#x27;preprocessor&#x27;,\n",
       "                 ColumnTransformer(transformers=[(&#x27;label&#x27;,\n",
       "                                                  OrdinalEncoder(handle_unknown=&#x27;use_encoded_value&#x27;,\n",
       "                                                                 unknown_value=6000),\n",
       "                                                  [&#x27;State&#x27;, &#x27;Country&#x27;, &#x27;Make&#x27;,\n",
       "                                                   &#x27;Model&#x27;]),\n",
       "                                                 (&#x27;onehot&#x27;,\n",
       "                                                  OneHotEncoder(handle_unknown=&#x27;ignore&#x27;,\n",
       "                                                                sparse_output=False),\n",
       "                                                  [&#x27;WeatherCondition&#x27;, &#x27;FAR&#x27;]),\n",
       "                                                 (&#x27;num&#x27;, StandardScaler(),\n",
       "                                                  [&#x27;NumberOfEngines&#x27;])])),\n",
       "                (&#x27;classifier&#x27;, RandomForestClassifier(random_state=26))])</pre></div></div></div><div class=\"sk-serial\"><div class=\"sk-item sk-dashed-wrapped\"><div class=\"sk-label-container\"><div class=\"sk-label sk-toggleable\"><input class=\"sk-toggleable__control sk-hidden--visually\" id=\"sk-estimator-id-29\" type=\"checkbox\" ><label for=\"sk-estimator-id-29\" class=\"sk-toggleable__label sk-toggleable__label-arrow\">preprocessor: ColumnTransformer</label><div class=\"sk-toggleable__content\"><pre>ColumnTransformer(transformers=[(&#x27;label&#x27;,\n",
       "                                 OrdinalEncoder(handle_unknown=&#x27;use_encoded_value&#x27;,\n",
       "                                                unknown_value=6000),\n",
       "                                 [&#x27;State&#x27;, &#x27;Country&#x27;, &#x27;Make&#x27;, &#x27;Model&#x27;]),\n",
       "                                (&#x27;onehot&#x27;,\n",
       "                                 OneHotEncoder(handle_unknown=&#x27;ignore&#x27;,\n",
       "                                               sparse_output=False),\n",
       "                                 [&#x27;WeatherCondition&#x27;, &#x27;FAR&#x27;]),\n",
       "                                (&#x27;num&#x27;, StandardScaler(), [&#x27;NumberOfEngines&#x27;])])</pre></div></div></div><div class=\"sk-parallel\"><div class=\"sk-parallel-item\"><div class=\"sk-item\"><div class=\"sk-label-container\"><div class=\"sk-label sk-toggleable\"><input class=\"sk-toggleable__control sk-hidden--visually\" id=\"sk-estimator-id-30\" type=\"checkbox\" ><label for=\"sk-estimator-id-30\" class=\"sk-toggleable__label sk-toggleable__label-arrow\">label</label><div class=\"sk-toggleable__content\"><pre>[&#x27;State&#x27;, &#x27;Country&#x27;, &#x27;Make&#x27;, &#x27;Model&#x27;]</pre></div></div></div><div class=\"sk-serial\"><div class=\"sk-item\"><div class=\"sk-estimator sk-toggleable\"><input class=\"sk-toggleable__control sk-hidden--visually\" id=\"sk-estimator-id-31\" type=\"checkbox\" ><label for=\"sk-estimator-id-31\" class=\"sk-toggleable__label sk-toggleable__label-arrow\">OrdinalEncoder</label><div class=\"sk-toggleable__content\"><pre>OrdinalEncoder(handle_unknown=&#x27;use_encoded_value&#x27;, unknown_value=6000)</pre></div></div></div></div></div></div><div class=\"sk-parallel-item\"><div class=\"sk-item\"><div class=\"sk-label-container\"><div class=\"sk-label sk-toggleable\"><input class=\"sk-toggleable__control sk-hidden--visually\" id=\"sk-estimator-id-32\" type=\"checkbox\" ><label for=\"sk-estimator-id-32\" class=\"sk-toggleable__label sk-toggleable__label-arrow\">onehot</label><div class=\"sk-toggleable__content\"><pre>[&#x27;WeatherCondition&#x27;, &#x27;FAR&#x27;]</pre></div></div></div><div class=\"sk-serial\"><div class=\"sk-item\"><div class=\"sk-estimator sk-toggleable\"><input class=\"sk-toggleable__control sk-hidden--visually\" id=\"sk-estimator-id-33\" type=\"checkbox\" ><label for=\"sk-estimator-id-33\" class=\"sk-toggleable__label sk-toggleable__label-arrow\">OneHotEncoder</label><div class=\"sk-toggleable__content\"><pre>OneHotEncoder(handle_unknown=&#x27;ignore&#x27;, sparse_output=False)</pre></div></div></div></div></div></div><div class=\"sk-parallel-item\"><div class=\"sk-item\"><div class=\"sk-label-container\"><div class=\"sk-label sk-toggleable\"><input class=\"sk-toggleable__control sk-hidden--visually\" id=\"sk-estimator-id-34\" type=\"checkbox\" ><label for=\"sk-estimator-id-34\" class=\"sk-toggleable__label sk-toggleable__label-arrow\">num</label><div class=\"sk-toggleable__content\"><pre>[&#x27;NumberOfEngines&#x27;]</pre></div></div></div><div class=\"sk-serial\"><div class=\"sk-item\"><div class=\"sk-estimator sk-toggleable\"><input class=\"sk-toggleable__control sk-hidden--visually\" id=\"sk-estimator-id-35\" type=\"checkbox\" ><label for=\"sk-estimator-id-35\" class=\"sk-toggleable__label sk-toggleable__label-arrow\">StandardScaler</label><div class=\"sk-toggleable__content\"><pre>StandardScaler()</pre></div></div></div></div></div></div></div></div><div class=\"sk-item\"><div class=\"sk-estimator sk-toggleable\"><input class=\"sk-toggleable__control sk-hidden--visually\" id=\"sk-estimator-id-36\" type=\"checkbox\" ><label for=\"sk-estimator-id-36\" class=\"sk-toggleable__label sk-toggleable__label-arrow\">RandomForestClassifier</label><div class=\"sk-toggleable__content\"><pre>RandomForestClassifier(random_state=26)</pre></div></div></div></div></div></div></div>"
      ],
      "text/plain": [
       "Pipeline(steps=[('preprocessor',\n",
       "                 ColumnTransformer(transformers=[('label',\n",
       "                                                  OrdinalEncoder(handle_unknown='use_encoded_value',\n",
       "                                                                 unknown_value=6000),\n",
       "                                                  ['State', 'Country', 'Make',\n",
       "                                                   'Model']),\n",
       "                                                 ('onehot',\n",
       "                                                  OneHotEncoder(handle_unknown='ignore',\n",
       "                                                                sparse_output=False),\n",
       "                                                  ['WeatherCondition', 'FAR']),\n",
       "                                                 ('num', StandardScaler(),\n",
       "                                                  ['NumberOfEngines'])])),\n",
       "                ('classifier', RandomForestClassifier(random_state=26))])"
      ]
     },
     "execution_count": 94,
     "metadata": {},
     "output_type": "execute_result"
    }
   ],
   "source": [
    "# fit the pipeline\n",
    "pipeline_RandFor.fit(X_train, y_train_encoded)"
   ]
  },
  {
   "cell_type": "code",
   "execution_count": 95,
   "metadata": {},
   "outputs": [
    {
     "data": {
      "text/plain": [
       "array([0., 0., 0., ..., 0., 0., 0.])"
      ]
     },
     "execution_count": 95,
     "metadata": {},
     "output_type": "execute_result"
    }
   ],
   "source": [
    "# predict the X_test\n",
    "y_pred_DecTree = pipeline_RandFor.predict(X_test)\n",
    "y_pred_DecTree"
   ]
  },
  {
   "cell_type": "markdown",
   "metadata": {},
   "source": [
    "### XGBoost"
   ]
  },
  {
   "cell_type": "code",
   "execution_count": 119,
   "metadata": {},
   "outputs": [],
   "source": [
    "# creating pipeline with preprocessing and XGBoost classifier\n",
    "pipeline_XGB = Pipeline(steps=[\n",
    "    ('preprocessor', preprocessing),\n",
    "    ('classifier', XGBClassifier(eval_metric='mlogloss', random_state=26))\n",
    "])"
   ]
  },
  {
   "cell_type": "code",
   "execution_count": 97,
   "metadata": {},
   "outputs": [
    {
     "data": {
      "text/html": [
       "<style>#sk-container-id-5 {color: black;}#sk-container-id-5 pre{padding: 0;}#sk-container-id-5 div.sk-toggleable {background-color: white;}#sk-container-id-5 label.sk-toggleable__label {cursor: pointer;display: block;width: 100%;margin-bottom: 0;padding: 0.3em;box-sizing: border-box;text-align: center;}#sk-container-id-5 label.sk-toggleable__label-arrow:before {content: \"▸\";float: left;margin-right: 0.25em;color: #696969;}#sk-container-id-5 label.sk-toggleable__label-arrow:hover:before {color: black;}#sk-container-id-5 div.sk-estimator:hover label.sk-toggleable__label-arrow:before {color: black;}#sk-container-id-5 div.sk-toggleable__content {max-height: 0;max-width: 0;overflow: hidden;text-align: left;background-color: #f0f8ff;}#sk-container-id-5 div.sk-toggleable__content pre {margin: 0.2em;color: black;border-radius: 0.25em;background-color: #f0f8ff;}#sk-container-id-5 input.sk-toggleable__control:checked~div.sk-toggleable__content {max-height: 200px;max-width: 100%;overflow: auto;}#sk-container-id-5 input.sk-toggleable__control:checked~label.sk-toggleable__label-arrow:before {content: \"▾\";}#sk-container-id-5 div.sk-estimator input.sk-toggleable__control:checked~label.sk-toggleable__label {background-color: #d4ebff;}#sk-container-id-5 div.sk-label input.sk-toggleable__control:checked~label.sk-toggleable__label {background-color: #d4ebff;}#sk-container-id-5 input.sk-hidden--visually {border: 0;clip: rect(1px 1px 1px 1px);clip: rect(1px, 1px, 1px, 1px);height: 1px;margin: -1px;overflow: hidden;padding: 0;position: absolute;width: 1px;}#sk-container-id-5 div.sk-estimator {font-family: monospace;background-color: #f0f8ff;border: 1px dotted black;border-radius: 0.25em;box-sizing: border-box;margin-bottom: 0.5em;}#sk-container-id-5 div.sk-estimator:hover {background-color: #d4ebff;}#sk-container-id-5 div.sk-parallel-item::after {content: \"\";width: 100%;border-bottom: 1px solid gray;flex-grow: 1;}#sk-container-id-5 div.sk-label:hover label.sk-toggleable__label {background-color: #d4ebff;}#sk-container-id-5 div.sk-serial::before {content: \"\";position: absolute;border-left: 1px solid gray;box-sizing: border-box;top: 0;bottom: 0;left: 50%;z-index: 0;}#sk-container-id-5 div.sk-serial {display: flex;flex-direction: column;align-items: center;background-color: white;padding-right: 0.2em;padding-left: 0.2em;position: relative;}#sk-container-id-5 div.sk-item {position: relative;z-index: 1;}#sk-container-id-5 div.sk-parallel {display: flex;align-items: stretch;justify-content: center;background-color: white;position: relative;}#sk-container-id-5 div.sk-item::before, #sk-container-id-5 div.sk-parallel-item::before {content: \"\";position: absolute;border-left: 1px solid gray;box-sizing: border-box;top: 0;bottom: 0;left: 50%;z-index: -1;}#sk-container-id-5 div.sk-parallel-item {display: flex;flex-direction: column;z-index: 1;position: relative;background-color: white;}#sk-container-id-5 div.sk-parallel-item:first-child::after {align-self: flex-end;width: 50%;}#sk-container-id-5 div.sk-parallel-item:last-child::after {align-self: flex-start;width: 50%;}#sk-container-id-5 div.sk-parallel-item:only-child::after {width: 0;}#sk-container-id-5 div.sk-dashed-wrapped {border: 1px dashed gray;margin: 0 0.4em 0.5em 0.4em;box-sizing: border-box;padding-bottom: 0.4em;background-color: white;}#sk-container-id-5 div.sk-label label {font-family: monospace;font-weight: bold;display: inline-block;line-height: 1.2em;}#sk-container-id-5 div.sk-label-container {text-align: center;}#sk-container-id-5 div.sk-container {/* jupyter's `normalize.less` sets `[hidden] { display: none; }` but bootstrap.min.css set `[hidden] { display: none !important; }` so we also need the `!important` here to be able to override the default hidden behavior on the sphinx rendered scikit-learn.org. See: https://github.com/scikit-learn/scikit-learn/issues/21755 */display: inline-block !important;position: relative;}#sk-container-id-5 div.sk-text-repr-fallback {display: none;}</style><div id=\"sk-container-id-5\" class=\"sk-top-container\"><div class=\"sk-text-repr-fallback\"><pre>Pipeline(steps=[(&#x27;preprocessor&#x27;,\n",
       "                 ColumnTransformer(transformers=[(&#x27;label&#x27;,\n",
       "                                                  OrdinalEncoder(handle_unknown=&#x27;use_encoded_value&#x27;,\n",
       "                                                                 unknown_value=6000),\n",
       "                                                  [&#x27;State&#x27;, &#x27;Country&#x27;, &#x27;Make&#x27;,\n",
       "                                                   &#x27;Model&#x27;]),\n",
       "                                                 (&#x27;onehot&#x27;,\n",
       "                                                  OneHotEncoder(handle_unknown=&#x27;ignore&#x27;,\n",
       "                                                                sparse_output=False),\n",
       "                                                  [&#x27;WeatherCondition&#x27;, &#x27;FAR&#x27;]),\n",
       "                                                 (&#x27;num&#x27;, StandardScaler(),\n",
       "                                                  [&#x27;NumberOfEngines&#x27;])])),\n",
       "                (&#x27;classifier&#x27;,\n",
       "                 XGBClassifie...\n",
       "                               feature_types=None, gamma=None, grow_policy=None,\n",
       "                               importance_type=None,\n",
       "                               interaction_constraints=None, learning_rate=None,\n",
       "                               max_bin=None, max_cat_threshold=None,\n",
       "                               max_cat_to_onehot=None, max_delta_step=None,\n",
       "                               max_depth=None, max_leaves=None,\n",
       "                               min_child_weight=None, missing=nan,\n",
       "                               monotone_constraints=None, multi_strategy=None,\n",
       "                               n_estimators=None, n_jobs=None,\n",
       "                               num_parallel_tree=None,\n",
       "                               objective=&#x27;multi:softprob&#x27;, ...))])</pre><b>In a Jupyter environment, please rerun this cell to show the HTML representation or trust the notebook. <br />On GitHub, the HTML representation is unable to render, please try loading this page with nbviewer.org.</b></div><div class=\"sk-container\" hidden><div class=\"sk-item sk-dashed-wrapped\"><div class=\"sk-label-container\"><div class=\"sk-label sk-toggleable\"><input class=\"sk-toggleable__control sk-hidden--visually\" id=\"sk-estimator-id-37\" type=\"checkbox\" ><label for=\"sk-estimator-id-37\" class=\"sk-toggleable__label sk-toggleable__label-arrow\">Pipeline</label><div class=\"sk-toggleable__content\"><pre>Pipeline(steps=[(&#x27;preprocessor&#x27;,\n",
       "                 ColumnTransformer(transformers=[(&#x27;label&#x27;,\n",
       "                                                  OrdinalEncoder(handle_unknown=&#x27;use_encoded_value&#x27;,\n",
       "                                                                 unknown_value=6000),\n",
       "                                                  [&#x27;State&#x27;, &#x27;Country&#x27;, &#x27;Make&#x27;,\n",
       "                                                   &#x27;Model&#x27;]),\n",
       "                                                 (&#x27;onehot&#x27;,\n",
       "                                                  OneHotEncoder(handle_unknown=&#x27;ignore&#x27;,\n",
       "                                                                sparse_output=False),\n",
       "                                                  [&#x27;WeatherCondition&#x27;, &#x27;FAR&#x27;]),\n",
       "                                                 (&#x27;num&#x27;, StandardScaler(),\n",
       "                                                  [&#x27;NumberOfEngines&#x27;])])),\n",
       "                (&#x27;classifier&#x27;,\n",
       "                 XGBClassifie...\n",
       "                               feature_types=None, gamma=None, grow_policy=None,\n",
       "                               importance_type=None,\n",
       "                               interaction_constraints=None, learning_rate=None,\n",
       "                               max_bin=None, max_cat_threshold=None,\n",
       "                               max_cat_to_onehot=None, max_delta_step=None,\n",
       "                               max_depth=None, max_leaves=None,\n",
       "                               min_child_weight=None, missing=nan,\n",
       "                               monotone_constraints=None, multi_strategy=None,\n",
       "                               n_estimators=None, n_jobs=None,\n",
       "                               num_parallel_tree=None,\n",
       "                               objective=&#x27;multi:softprob&#x27;, ...))])</pre></div></div></div><div class=\"sk-serial\"><div class=\"sk-item sk-dashed-wrapped\"><div class=\"sk-label-container\"><div class=\"sk-label sk-toggleable\"><input class=\"sk-toggleable__control sk-hidden--visually\" id=\"sk-estimator-id-38\" type=\"checkbox\" ><label for=\"sk-estimator-id-38\" class=\"sk-toggleable__label sk-toggleable__label-arrow\">preprocessor: ColumnTransformer</label><div class=\"sk-toggleable__content\"><pre>ColumnTransformer(transformers=[(&#x27;label&#x27;,\n",
       "                                 OrdinalEncoder(handle_unknown=&#x27;use_encoded_value&#x27;,\n",
       "                                                unknown_value=6000),\n",
       "                                 [&#x27;State&#x27;, &#x27;Country&#x27;, &#x27;Make&#x27;, &#x27;Model&#x27;]),\n",
       "                                (&#x27;onehot&#x27;,\n",
       "                                 OneHotEncoder(handle_unknown=&#x27;ignore&#x27;,\n",
       "                                               sparse_output=False),\n",
       "                                 [&#x27;WeatherCondition&#x27;, &#x27;FAR&#x27;]),\n",
       "                                (&#x27;num&#x27;, StandardScaler(), [&#x27;NumberOfEngines&#x27;])])</pre></div></div></div><div class=\"sk-parallel\"><div class=\"sk-parallel-item\"><div class=\"sk-item\"><div class=\"sk-label-container\"><div class=\"sk-label sk-toggleable\"><input class=\"sk-toggleable__control sk-hidden--visually\" id=\"sk-estimator-id-39\" type=\"checkbox\" ><label for=\"sk-estimator-id-39\" class=\"sk-toggleable__label sk-toggleable__label-arrow\">label</label><div class=\"sk-toggleable__content\"><pre>[&#x27;State&#x27;, &#x27;Country&#x27;, &#x27;Make&#x27;, &#x27;Model&#x27;]</pre></div></div></div><div class=\"sk-serial\"><div class=\"sk-item\"><div class=\"sk-estimator sk-toggleable\"><input class=\"sk-toggleable__control sk-hidden--visually\" id=\"sk-estimator-id-40\" type=\"checkbox\" ><label for=\"sk-estimator-id-40\" class=\"sk-toggleable__label sk-toggleable__label-arrow\">OrdinalEncoder</label><div class=\"sk-toggleable__content\"><pre>OrdinalEncoder(handle_unknown=&#x27;use_encoded_value&#x27;, unknown_value=6000)</pre></div></div></div></div></div></div><div class=\"sk-parallel-item\"><div class=\"sk-item\"><div class=\"sk-label-container\"><div class=\"sk-label sk-toggleable\"><input class=\"sk-toggleable__control sk-hidden--visually\" id=\"sk-estimator-id-41\" type=\"checkbox\" ><label for=\"sk-estimator-id-41\" class=\"sk-toggleable__label sk-toggleable__label-arrow\">onehot</label><div class=\"sk-toggleable__content\"><pre>[&#x27;WeatherCondition&#x27;, &#x27;FAR&#x27;]</pre></div></div></div><div class=\"sk-serial\"><div class=\"sk-item\"><div class=\"sk-estimator sk-toggleable\"><input class=\"sk-toggleable__control sk-hidden--visually\" id=\"sk-estimator-id-42\" type=\"checkbox\" ><label for=\"sk-estimator-id-42\" class=\"sk-toggleable__label sk-toggleable__label-arrow\">OneHotEncoder</label><div class=\"sk-toggleable__content\"><pre>OneHotEncoder(handle_unknown=&#x27;ignore&#x27;, sparse_output=False)</pre></div></div></div></div></div></div><div class=\"sk-parallel-item\"><div class=\"sk-item\"><div class=\"sk-label-container\"><div class=\"sk-label sk-toggleable\"><input class=\"sk-toggleable__control sk-hidden--visually\" id=\"sk-estimator-id-43\" type=\"checkbox\" ><label for=\"sk-estimator-id-43\" class=\"sk-toggleable__label sk-toggleable__label-arrow\">num</label><div class=\"sk-toggleable__content\"><pre>[&#x27;NumberOfEngines&#x27;]</pre></div></div></div><div class=\"sk-serial\"><div class=\"sk-item\"><div class=\"sk-estimator sk-toggleable\"><input class=\"sk-toggleable__control sk-hidden--visually\" id=\"sk-estimator-id-44\" type=\"checkbox\" ><label for=\"sk-estimator-id-44\" class=\"sk-toggleable__label sk-toggleable__label-arrow\">StandardScaler</label><div class=\"sk-toggleable__content\"><pre>StandardScaler()</pre></div></div></div></div></div></div></div></div><div class=\"sk-item\"><div class=\"sk-estimator sk-toggleable\"><input class=\"sk-toggleable__control sk-hidden--visually\" id=\"sk-estimator-id-45\" type=\"checkbox\" ><label for=\"sk-estimator-id-45\" class=\"sk-toggleable__label sk-toggleable__label-arrow\">XGBClassifier</label><div class=\"sk-toggleable__content\"><pre>XGBClassifier(base_score=None, booster=None, callbacks=None,\n",
       "              colsample_bylevel=None, colsample_bynode=None,\n",
       "              colsample_bytree=None, device=None, early_stopping_rounds=None,\n",
       "              enable_categorical=False, eval_metric=&#x27;mlogloss&#x27;,\n",
       "              feature_types=None, gamma=None, grow_policy=None,\n",
       "              importance_type=None, interaction_constraints=None,\n",
       "              learning_rate=None, max_bin=None, max_cat_threshold=None,\n",
       "              max_cat_to_onehot=None, max_delta_step=None, max_depth=None,\n",
       "              max_leaves=None, min_child_weight=None, missing=nan,\n",
       "              monotone_constraints=None, multi_strategy=None, n_estimators=None,\n",
       "              n_jobs=None, num_parallel_tree=None, objective=&#x27;multi:softprob&#x27;, ...)</pre></div></div></div></div></div></div></div>"
      ],
      "text/plain": [
       "Pipeline(steps=[('preprocessor',\n",
       "                 ColumnTransformer(transformers=[('label',\n",
       "                                                  OrdinalEncoder(handle_unknown='use_encoded_value',\n",
       "                                                                 unknown_value=6000),\n",
       "                                                  ['State', 'Country', 'Make',\n",
       "                                                   'Model']),\n",
       "                                                 ('onehot',\n",
       "                                                  OneHotEncoder(handle_unknown='ignore',\n",
       "                                                                sparse_output=False),\n",
       "                                                  ['WeatherCondition', 'FAR']),\n",
       "                                                 ('num', StandardScaler(),\n",
       "                                                  ['NumberOfEngines'])])),\n",
       "                ('classifier',\n",
       "                 XGBClassifie...\n",
       "                               feature_types=None, gamma=None, grow_policy=None,\n",
       "                               importance_type=None,\n",
       "                               interaction_constraints=None, learning_rate=None,\n",
       "                               max_bin=None, max_cat_threshold=None,\n",
       "                               max_cat_to_onehot=None, max_delta_step=None,\n",
       "                               max_depth=None, max_leaves=None,\n",
       "                               min_child_weight=None, missing=nan,\n",
       "                               monotone_constraints=None, multi_strategy=None,\n",
       "                               n_estimators=None, n_jobs=None,\n",
       "                               num_parallel_tree=None,\n",
       "                               objective='multi:softprob', ...))])"
      ]
     },
     "execution_count": 97,
     "metadata": {},
     "output_type": "execute_result"
    }
   ],
   "source": [
    "# fit the pipeline\n",
    "pipeline_XGB.fit(X_train, y_train_encoded)"
   ]
  },
  {
   "cell_type": "code",
   "execution_count": 98,
   "metadata": {},
   "outputs": [
    {
     "data": {
      "text/plain": [
       "array([0, 0, 0, ..., 0, 0, 0], dtype=int64)"
      ]
     },
     "execution_count": 98,
     "metadata": {},
     "output_type": "execute_result"
    }
   ],
   "source": [
    "# predict X_test\n",
    "y_pred_XGB = pipeline_XGB.predict(X_test)\n",
    "y_pred_XGB"
   ]
  },
  {
   "cell_type": "markdown",
   "metadata": {},
   "source": [
    "# 8. Model Evaluation"
   ]
  },
  {
   "cell_type": "markdown",
   "metadata": {},
   "source": [
    "Now since we already create our possible model, we will crossvalidate them and choose the best one. Since in classification prediction we should focus on either reduce False Positive or False Negative we will use either recall or precision. In our case, since we want to effectively predict ACC to prevent an airplane to fly and cause an accident we wan't to reduce False Negative where an airplane is predicted not ACC but instead it is an ACC. Therefore we will use recall for our evaluation."
   ]
  },
  {
   "cell_type": "markdown",
   "metadata": {},
   "source": [
    "## Evaluation Recall"
   ]
  },
  {
   "cell_type": "markdown",
   "metadata": {},
   "source": [
    "#### Evaluation KNN"
   ]
  },
  {
   "cell_type": "code",
   "execution_count": 99,
   "metadata": {},
   "outputs": [
    {
     "name": "stdout",
     "output_type": "stream",
     "text": [
      "KNN Recall - Train Set  :  0.5922089574263002\n",
      "KNN Recall - Test Set   :  0.4845756015948905\n",
      "\n"
     ]
    }
   ],
   "source": [
    "# Predict on Training Set\n",
    "y_pred_train_knn = pipeline_KNN.predict(X_train)\n",
    "# Predict on Test Set\n",
    "y_pred_test_knn = pipeline_KNN.predict(X_test)\n",
    "\n",
    "# Evaluate Recall\n",
    "print('KNN Recall - Train Set  : ', recall_score(y_train_encoded, y_pred_train_knn, average='macro'))\n",
    "print('KNN Recall - Test Set   : ', recall_score(y_test_encoded, y_pred_test_knn, average='macro'))\n",
    "print('')"
   ]
  },
  {
   "cell_type": "markdown",
   "metadata": {},
   "source": [
    "#### Evaluation SVM"
   ]
  },
  {
   "cell_type": "code",
   "execution_count": 100,
   "metadata": {},
   "outputs": [
    {
     "name": "stdout",
     "output_type": "stream",
     "text": [
      "SVM Recall - Train Set  :  0.3333333333333333\n",
      "SVM Recall - Test Set   :  0.3333333333333333\n",
      "\n"
     ]
    }
   ],
   "source": [
    "# Predict on Training Set\n",
    "y_pred_train_svm = pipeline_SVC.predict(X_train)\n",
    "# Predict on Test Set\n",
    "y_pred_test_svm = pipeline_SVC.predict(X_test)\n",
    "\n",
    "# Evaluate Recall\n",
    "print('SVM Recall - Train Set  : ', recall_score(y_train_encoded, y_pred_train_svm, average='macro'))\n",
    "print('SVM Recall - Test Set   : ', recall_score(y_test_encoded, y_pred_test_svm, average='macro'))\n",
    "print('')"
   ]
  },
  {
   "cell_type": "markdown",
   "metadata": {},
   "source": [
    "#### Evaluation Decision Tree"
   ]
  },
  {
   "cell_type": "code",
   "execution_count": 101,
   "metadata": {},
   "outputs": [
    {
     "name": "stdout",
     "output_type": "stream",
     "text": [
      "Decision Tree Recall - Train Set  :  0.9402419477115688\n",
      "Decision Tree Recall - Test Set   :  0.5552985796542426\n",
      "\n"
     ]
    }
   ],
   "source": [
    "# Predict on Training Set\n",
    "y_pred_train_dt = pipeline_DecTree.predict(X_train)\n",
    "# Predict on Test Set\n",
    "y_pred_test_dt = pipeline_DecTree.predict(X_test)\n",
    "\n",
    "# Evaluate Recall\n",
    "print('Decision Tree Recall - Train Set  : ', recall_score(y_train_encoded, y_pred_train_dt, average='macro'))\n",
    "print('Decision Tree Recall - Test Set   : ', recall_score(y_test_encoded, y_pred_test_dt, average='macro'))\n",
    "print('')"
   ]
  },
  {
   "cell_type": "markdown",
   "metadata": {},
   "source": [
    "#### Evaluation Random Forest"
   ]
  },
  {
   "cell_type": "code",
   "execution_count": 102,
   "metadata": {},
   "outputs": [
    {
     "name": "stdout",
     "output_type": "stream",
     "text": [
      "Random Forest Recall - Train Set  :  0.9569996561396669\n",
      "Random Forest Recall - Test Set   :  0.5598414530216475\n",
      "\n"
     ]
    }
   ],
   "source": [
    "# Predict on Training Set\n",
    "y_pred_train_dt = pipeline_RandFor.predict(X_train)\n",
    "# Predict on Test Set\n",
    "y_pred_test_dt = pipeline_RandFor.predict(X_test)\n",
    "\n",
    "# Evaluate Recall\n",
    "print('Random Forest Recall - Train Set  : ', recall_score(y_train_encoded, y_pred_train_dt, average='macro'))\n",
    "print('Random Forest Recall - Test Set   : ', recall_score(y_test_encoded, y_pred_test_dt, average='macro'))\n",
    "print('')"
   ]
  },
  {
   "cell_type": "markdown",
   "metadata": {},
   "source": [
    "#### Evaluation XGBoost"
   ]
  },
  {
   "cell_type": "code",
   "execution_count": 103,
   "metadata": {},
   "outputs": [
    {
     "name": "stdout",
     "output_type": "stream",
     "text": [
      "XGBoost Recall - Train Set  :  0.9152294590833279\n",
      "XGBoost Recall - Test Set   :  0.565278246632316\n",
      "\n"
     ]
    }
   ],
   "source": [
    "# Predict on Training Set\n",
    "y_pred_train_dt = pipeline_XGB.predict(X_train)\n",
    "# Predict on Test Set\n",
    "y_pred_test_dt = pipeline_XGB.predict(X_test)\n",
    "\n",
    "# Evaluate Recall\n",
    "print('XGBoost Recall - Train Set  : ', recall_score(y_train_encoded, y_pred_train_dt, average='macro'))\n",
    "print('XGBoost Recall - Test Set   : ', recall_score(y_test_encoded, y_pred_test_dt, average='macro'))\n",
    "print('')"
   ]
  },
  {
   "cell_type": "markdown",
   "metadata": {},
   "source": [
    "### Recall Scores for Train and Test Sets\n",
    "\n",
    "| Model           | Recall - Train Set | Recall - Test Set |\n",
    "|------------------|--------------------|-------------------|\n",
    "| KNN             | 0.5922             | 0.4846            |\n",
    "| SVM             | 0.3333             | 0.3333            |\n",
    "| Decision Tree   | 0.9402             | 0.5553            |\n",
    "| Random Forest   | 0.9570             | 0.5598            |\n",
    "| XGBoost         | 0.9152             | 0.5653            |"
   ]
  },
  {
   "cell_type": "markdown",
   "metadata": {},
   "source": [
    "Based on this recall result, many of our models are overfit apart from KNN and SVM which have a pretty close score even though its nowhere near good. But this maybe due to how these recall only validate one split. To make sure if my models are good, we need to do a cross validation that will do a more robust validation."
   ]
  },
  {
   "cell_type": "markdown",
   "metadata": {},
   "source": [
    "## Cross Validation"
   ]
  },
  {
   "cell_type": "code",
   "execution_count": 104,
   "metadata": {},
   "outputs": [],
   "source": [
    "# Define a custom scorer for macro recall (for multiclass problems)\n",
    "custom_recall_scorer = make_scorer(recall_score, average='macro')"
   ]
  },
  {
   "cell_type": "markdown",
   "metadata": {},
   "source": [
    "#### Cross Validation for KNN"
   ]
  },
  {
   "cell_type": "code",
   "execution_count": 105,
   "metadata": {},
   "outputs": [
    {
     "name": "stdout",
     "output_type": "stream",
     "text": [
      "Recall Score - All - Cross Validation  :  [0.55679381 0.52908886 0.50895357 0.50588962 0.54329036]\n",
      "Recall Score - Mean - Cross Validation :  0.5288032442004029\n",
      "Recall Score - Std - Cross Validation  :  0.019557472583533714\n",
      "Recall Score - Range of Test-Set       :  0.5092457716168692 - 0.5483607167839366\n"
     ]
    }
   ],
   "source": [
    "# Perform 5-fold cross-validation\n",
    "cv_scores = cross_val_score(\n",
    "    estimator=pipeline_KNN,    # Your pipeline\n",
    "    X=X_train,                # Features\n",
    "    y=y_train_encoded,        # Encoded target\n",
    "    cv=5,                     # Number of folds\n",
    "    scoring=custom_recall_scorer  # Use macro recall as the scoring metric\n",
    ")\n",
    "\n",
    "# Print cross-validation results\n",
    "print('Recall Score - All - Cross Validation  : ', cv_scores)\n",
    "print('Recall Score - Mean - Cross Validation : ', cv_scores.mean())\n",
    "print('Recall Score - Std - Cross Validation  : ', cv_scores.std())\n",
    "print('Recall Score - Range of Test-Set       : ',\n",
    "      (cv_scores.mean() - cv_scores.std()), '-', (cv_scores.mean() + cv_scores.std()))\n"
   ]
  },
  {
   "cell_type": "markdown",
   "metadata": {},
   "source": [
    "#### Cross Validation for SVM"
   ]
  },
  {
   "cell_type": "code",
   "execution_count": 106,
   "metadata": {},
   "outputs": [
    {
     "name": "stdout",
     "output_type": "stream",
     "text": [
      "Recall Score - All - Cross Validation  :  [0.33333333 0.33333333 0.33333333 0.33333333 0.33333333]\n",
      "Recall Score - Mean - Cross Validation :  0.3333333333333333\n",
      "Recall Score - Std - Cross Validation  :  0.0\n",
      "Recall Score - Range of Test-Set       :  0.3333333333333333 - 0.3333333333333333\n"
     ]
    }
   ],
   "source": [
    "# Perform 5-fold cross-validation\n",
    "cv_scores = cross_val_score(\n",
    "    estimator=pipeline_SVC,    # Your pipeline\n",
    "    X=X_train,                # Features\n",
    "    y=y_train_encoded,        # Encoded target\n",
    "    cv=5,                     # Number of folds\n",
    "    scoring=custom_recall_scorer  # Use macro recall as the scoring metric\n",
    ")\n",
    "\n",
    "# Print cross-validation results\n",
    "print('Recall Score - All - Cross Validation  : ', cv_scores)\n",
    "print('Recall Score - Mean - Cross Validation : ', cv_scores.mean())\n",
    "print('Recall Score - Std - Cross Validation  : ', cv_scores.std())\n",
    "print('Recall Score - Range of Test-Set       : ',\n",
    "      (cv_scores.mean() - cv_scores.std()), '-', (cv_scores.mean() + cv_scores.std()))\n"
   ]
  },
  {
   "cell_type": "markdown",
   "metadata": {},
   "source": [
    "#### Cross Validation for Decision Tree"
   ]
  },
  {
   "cell_type": "code",
   "execution_count": 107,
   "metadata": {},
   "outputs": [
    {
     "name": "stdout",
     "output_type": "stream",
     "text": [
      "Recall Score - All - Cross Validation  :  [0.62990458 0.62684063 0.5697583  0.59936938 0.52456181]\n",
      "Recall Score - Mean - Cross Validation :  0.5900869398054888\n",
      "Recall Score - Std - Cross Validation  :  0.03931726789942444\n",
      "Recall Score - Range of Test-Set       :  0.5507696719060643 - 0.6294042077049132\n"
     ]
    }
   ],
   "source": [
    "cv_scores = cross_val_score(\n",
    "    estimator=pipeline_DecTree,  # Your Decision Tree pipeline\n",
    "    X=X_train,                  # Training features\n",
    "    y=y_train_encoded,          # Encoded training target\n",
    "    cv=5,                       # Number of folds\n",
    "    scoring=custom_recall_scorer  # Macro recall metric\n",
    ")\n",
    "\n",
    "# Print cross-validation results\n",
    "print('Recall Score - All - Cross Validation  : ', cv_scores)\n",
    "print('Recall Score - Mean - Cross Validation : ', cv_scores.mean())\n",
    "print('Recall Score - Std - Cross Validation  : ', cv_scores.std())\n",
    "print('Recall Score - Range of Test-Set       : ',\n",
    "      (cv_scores.mean() - cv_scores.std()), '-', (cv_scores.mean() + cv_scores.std()))"
   ]
  },
  {
   "cell_type": "markdown",
   "metadata": {},
   "source": [
    "#### Cross Validation for Random Forest"
   ]
  },
  {
   "cell_type": "code",
   "execution_count": 108,
   "metadata": {},
   "outputs": [
    {
     "name": "stdout",
     "output_type": "stream",
     "text": [
      "Recall Score - All - Cross Validation  :  [0.60271575 0.57927216 0.5508585  0.62709565 0.5477778 ]\n",
      "Recall Score - Mean - Cross Validation :  0.5815439735092165\n",
      "Recall Score - Std - Cross Validation  :  0.03036482635884735\n",
      "Recall Score - Range of Test-Set       :  0.5511791471503692 - 0.6119087998680638\n"
     ]
    }
   ],
   "source": [
    "cv_scores = cross_val_score(\n",
    "    estimator=pipeline_RandFor,  # Your Decision Tree pipeline\n",
    "    X=X_train,                  # Training features\n",
    "    y=y_train_encoded,          # Encoded training target\n",
    "    cv=5,                       # Number of folds\n",
    "    scoring=custom_recall_scorer  # Macro recall metric\n",
    ")\n",
    "\n",
    "# Print cross-validation results\n",
    "print('Recall Score - All - Cross Validation  : ', cv_scores)\n",
    "print('Recall Score - Mean - Cross Validation : ', cv_scores.mean())\n",
    "print('Recall Score - Std - Cross Validation  : ', cv_scores.std())\n",
    "print('Recall Score - Range of Test-Set       : ',\n",
    "      (cv_scores.mean() - cv_scores.std()), '-', (cv_scores.mean() + cv_scores.std()))"
   ]
  },
  {
   "cell_type": "markdown",
   "metadata": {},
   "source": [
    "#### Cross Validation for XGBoost"
   ]
  },
  {
   "cell_type": "code",
   "execution_count": 109,
   "metadata": {},
   "outputs": [
    {
     "name": "stdout",
     "output_type": "stream",
     "text": [
      "Recall Score - All - Cross Validation  :  [0.59182255 0.59655436 0.55985167 0.64461612 0.5492074 ]\n",
      "Recall Score - Mean - Cross Validation :  0.5884104176143133\n",
      "Recall Score - Std - Cross Validation  :  0.03343508968392245\n",
      "Recall Score - Range of Test-Set       :  0.5549753279303908 - 0.6218455072982358\n"
     ]
    }
   ],
   "source": [
    "cv_scores = cross_val_score(\n",
    "    estimator=pipeline_XGB,  # Your Decision Tree pipeline\n",
    "    X=X_train,                  # Training features\n",
    "    y=y_train_encoded,          # Encoded training target\n",
    "    cv=5,                       # Number of folds\n",
    "    scoring=custom_recall_scorer  # Macro recall metric\n",
    ")\n",
    "\n",
    "# Print cross-validation results\n",
    "print('Recall Score - All - Cross Validation  : ', cv_scores)\n",
    "print('Recall Score - Mean - Cross Validation : ', cv_scores.mean())\n",
    "print('Recall Score - Std - Cross Validation  : ', cv_scores.std())\n",
    "print('Recall Score - Range of Test-Set       : ',\n",
    "      (cv_scores.mean() - cv_scores.std()), '-', (cv_scores.mean() + cv_scores.std()))"
   ]
  },
  {
   "cell_type": "markdown",
   "metadata": {},
   "source": [
    "### Model Comparison\n",
    "\n",
    "| Model           | Mean Recall | Std Recall | Performance Range            |\n",
    "|------------------|-------------|------------|-------------------------------|\n",
    "| KNN             | 0.5288      | 0.0196     | 0.5092 - 0.5484              |\n",
    "| SVM             | 0.3333      | 0.0000     | 0.3333 - 0.3333              |\n",
    "| Decision Tree   | 0.5901      | 0.0393     | 0.5508 - 0.6294              |\n",
    "| Random Forest   | 0.5815      | 0.0304     | 0.5512 - 0.6119              |\n",
    "| XGBoost         | 0.5884      | 0.0334     | 0.5550 - 0.6218              |"
   ]
  },
  {
   "cell_type": "markdown",
   "metadata": {},
   "source": [
    "Based on these cross validation, the Decision tree have the highest Mean Recall which indicates that the model correctly predict the result, followed tightly with Random Forest and XGBoost. While in Std Recall, the Random Forest are the lowest which indicates that in terms of consistency the Random Forest are the best model. As for our case, since we want to correctly predict True Positive and avoid False Negative, we will focus on Mean Recall. In conclusion, the best model for our problems is Decision Tree."
   ]
  },
  {
   "cell_type": "markdown",
   "metadata": {},
   "source": [
    "We then will Hyper parameter tuning it further to achieve even greater model."
   ]
  },
  {
   "cell_type": "markdown",
   "metadata": {},
   "source": [
    "## Hyperparameter Tuning"
   ]
  },
  {
   "cell_type": "markdown",
   "metadata": {},
   "source": [
    "For our hyperparameter Tuning, we will use GridSearch. This tuner evaluates the model for each hyperparameter combination and identifies the configuration that maximize a given scoring metric. This tuner also use cross validation to evaluate its hyperparameter, making it more robust and unbiassed toward a specific train-test split."
   ]
  },
  {
   "cell_type": "code",
   "execution_count": 134,
   "metadata": {},
   "outputs": [
    {
     "name": "stdout",
     "output_type": "stream",
     "text": [
      "Fitting 20 folds for each of 27 candidates, totalling 540 fits\n"
     ]
    },
    {
     "data": {
      "text/html": [
       "<style>#sk-container-id-12 {color: black;}#sk-container-id-12 pre{padding: 0;}#sk-container-id-12 div.sk-toggleable {background-color: white;}#sk-container-id-12 label.sk-toggleable__label {cursor: pointer;display: block;width: 100%;margin-bottom: 0;padding: 0.3em;box-sizing: border-box;text-align: center;}#sk-container-id-12 label.sk-toggleable__label-arrow:before {content: \"▸\";float: left;margin-right: 0.25em;color: #696969;}#sk-container-id-12 label.sk-toggleable__label-arrow:hover:before {color: black;}#sk-container-id-12 div.sk-estimator:hover label.sk-toggleable__label-arrow:before {color: black;}#sk-container-id-12 div.sk-toggleable__content {max-height: 0;max-width: 0;overflow: hidden;text-align: left;background-color: #f0f8ff;}#sk-container-id-12 div.sk-toggleable__content pre {margin: 0.2em;color: black;border-radius: 0.25em;background-color: #f0f8ff;}#sk-container-id-12 input.sk-toggleable__control:checked~div.sk-toggleable__content {max-height: 200px;max-width: 100%;overflow: auto;}#sk-container-id-12 input.sk-toggleable__control:checked~label.sk-toggleable__label-arrow:before {content: \"▾\";}#sk-container-id-12 div.sk-estimator input.sk-toggleable__control:checked~label.sk-toggleable__label {background-color: #d4ebff;}#sk-container-id-12 div.sk-label input.sk-toggleable__control:checked~label.sk-toggleable__label {background-color: #d4ebff;}#sk-container-id-12 input.sk-hidden--visually {border: 0;clip: rect(1px 1px 1px 1px);clip: rect(1px, 1px, 1px, 1px);height: 1px;margin: -1px;overflow: hidden;padding: 0;position: absolute;width: 1px;}#sk-container-id-12 div.sk-estimator {font-family: monospace;background-color: #f0f8ff;border: 1px dotted black;border-radius: 0.25em;box-sizing: border-box;margin-bottom: 0.5em;}#sk-container-id-12 div.sk-estimator:hover {background-color: #d4ebff;}#sk-container-id-12 div.sk-parallel-item::after {content: \"\";width: 100%;border-bottom: 1px solid gray;flex-grow: 1;}#sk-container-id-12 div.sk-label:hover label.sk-toggleable__label {background-color: #d4ebff;}#sk-container-id-12 div.sk-serial::before {content: \"\";position: absolute;border-left: 1px solid gray;box-sizing: border-box;top: 0;bottom: 0;left: 50%;z-index: 0;}#sk-container-id-12 div.sk-serial {display: flex;flex-direction: column;align-items: center;background-color: white;padding-right: 0.2em;padding-left: 0.2em;position: relative;}#sk-container-id-12 div.sk-item {position: relative;z-index: 1;}#sk-container-id-12 div.sk-parallel {display: flex;align-items: stretch;justify-content: center;background-color: white;position: relative;}#sk-container-id-12 div.sk-item::before, #sk-container-id-12 div.sk-parallel-item::before {content: \"\";position: absolute;border-left: 1px solid gray;box-sizing: border-box;top: 0;bottom: 0;left: 50%;z-index: -1;}#sk-container-id-12 div.sk-parallel-item {display: flex;flex-direction: column;z-index: 1;position: relative;background-color: white;}#sk-container-id-12 div.sk-parallel-item:first-child::after {align-self: flex-end;width: 50%;}#sk-container-id-12 div.sk-parallel-item:last-child::after {align-self: flex-start;width: 50%;}#sk-container-id-12 div.sk-parallel-item:only-child::after {width: 0;}#sk-container-id-12 div.sk-dashed-wrapped {border: 1px dashed gray;margin: 0 0.4em 0.5em 0.4em;box-sizing: border-box;padding-bottom: 0.4em;background-color: white;}#sk-container-id-12 div.sk-label label {font-family: monospace;font-weight: bold;display: inline-block;line-height: 1.2em;}#sk-container-id-12 div.sk-label-container {text-align: center;}#sk-container-id-12 div.sk-container {/* jupyter's `normalize.less` sets `[hidden] { display: none; }` but bootstrap.min.css set `[hidden] { display: none !important; }` so we also need the `!important` here to be able to override the default hidden behavior on the sphinx rendered scikit-learn.org. See: https://github.com/scikit-learn/scikit-learn/issues/21755 */display: inline-block !important;position: relative;}#sk-container-id-12 div.sk-text-repr-fallback {display: none;}</style><div id=\"sk-container-id-12\" class=\"sk-top-container\"><div class=\"sk-text-repr-fallback\"><pre>GridSearchCV(cv=20,\n",
       "             estimator=Pipeline(steps=[(&#x27;preprocessor&#x27;,\n",
       "                                        ColumnTransformer(transformers=[(&#x27;label&#x27;,\n",
       "                                                                         OrdinalEncoder(handle_unknown=&#x27;use_encoded_value&#x27;,\n",
       "                                                                                        unknown_value=6000),\n",
       "                                                                         [&#x27;State&#x27;,\n",
       "                                                                          &#x27;Country&#x27;,\n",
       "                                                                          &#x27;Make&#x27;,\n",
       "                                                                          &#x27;Model&#x27;]),\n",
       "                                                                        (&#x27;onehot&#x27;,\n",
       "                                                                         OneHotEncoder(handle_unknown=&#x27;ignore&#x27;,\n",
       "                                                                                       sparse_output=False),\n",
       "                                                                         [&#x27;WeatherCondition&#x27;,\n",
       "                                                                          &#x27;FAR&#x27;]),\n",
       "                                                                        (&#x27;num&#x27;,\n",
       "                                                                         StandardScaler(),\n",
       "                                                                         [&#x27;NumberOfEngines&#x27;])])),\n",
       "                                       (&#x27;classifier&#x27;,\n",
       "                                        DecisionTreeClassifier(random_state=26))]),\n",
       "             n_jobs=-1,\n",
       "             param_grid={&#x27;classifier__criterion&#x27;: [&#x27;gini&#x27;],\n",
       "                         &#x27;classifier__max_depth&#x27;: [15, 20, 25],\n",
       "                         &#x27;classifier__min_samples_leaf&#x27;: [1, 2, 4],\n",
       "                         &#x27;classifier__min_samples_split&#x27;: [2, 5, 10]},\n",
       "             scoring=make_scorer(recall_score, average=macro), verbose=2)</pre><b>In a Jupyter environment, please rerun this cell to show the HTML representation or trust the notebook. <br />On GitHub, the HTML representation is unable to render, please try loading this page with nbviewer.org.</b></div><div class=\"sk-container\" hidden><div class=\"sk-item sk-dashed-wrapped\"><div class=\"sk-label-container\"><div class=\"sk-label sk-toggleable\"><input class=\"sk-toggleable__control sk-hidden--visually\" id=\"sk-estimator-id-105\" type=\"checkbox\" ><label for=\"sk-estimator-id-105\" class=\"sk-toggleable__label sk-toggleable__label-arrow\">GridSearchCV</label><div class=\"sk-toggleable__content\"><pre>GridSearchCV(cv=20,\n",
       "             estimator=Pipeline(steps=[(&#x27;preprocessor&#x27;,\n",
       "                                        ColumnTransformer(transformers=[(&#x27;label&#x27;,\n",
       "                                                                         OrdinalEncoder(handle_unknown=&#x27;use_encoded_value&#x27;,\n",
       "                                                                                        unknown_value=6000),\n",
       "                                                                         [&#x27;State&#x27;,\n",
       "                                                                          &#x27;Country&#x27;,\n",
       "                                                                          &#x27;Make&#x27;,\n",
       "                                                                          &#x27;Model&#x27;]),\n",
       "                                                                        (&#x27;onehot&#x27;,\n",
       "                                                                         OneHotEncoder(handle_unknown=&#x27;ignore&#x27;,\n",
       "                                                                                       sparse_output=False),\n",
       "                                                                         [&#x27;WeatherCondition&#x27;,\n",
       "                                                                          &#x27;FAR&#x27;]),\n",
       "                                                                        (&#x27;num&#x27;,\n",
       "                                                                         StandardScaler(),\n",
       "                                                                         [&#x27;NumberOfEngines&#x27;])])),\n",
       "                                       (&#x27;classifier&#x27;,\n",
       "                                        DecisionTreeClassifier(random_state=26))]),\n",
       "             n_jobs=-1,\n",
       "             param_grid={&#x27;classifier__criterion&#x27;: [&#x27;gini&#x27;],\n",
       "                         &#x27;classifier__max_depth&#x27;: [15, 20, 25],\n",
       "                         &#x27;classifier__min_samples_leaf&#x27;: [1, 2, 4],\n",
       "                         &#x27;classifier__min_samples_split&#x27;: [2, 5, 10]},\n",
       "             scoring=make_scorer(recall_score, average=macro), verbose=2)</pre></div></div></div><div class=\"sk-parallel\"><div class=\"sk-parallel-item\"><div class=\"sk-item\"><div class=\"sk-label-container\"><div class=\"sk-label sk-toggleable\"><input class=\"sk-toggleable__control sk-hidden--visually\" id=\"sk-estimator-id-106\" type=\"checkbox\" ><label for=\"sk-estimator-id-106\" class=\"sk-toggleable__label sk-toggleable__label-arrow\">estimator: Pipeline</label><div class=\"sk-toggleable__content\"><pre>Pipeline(steps=[(&#x27;preprocessor&#x27;,\n",
       "                 ColumnTransformer(transformers=[(&#x27;label&#x27;,\n",
       "                                                  OrdinalEncoder(handle_unknown=&#x27;use_encoded_value&#x27;,\n",
       "                                                                 unknown_value=6000),\n",
       "                                                  [&#x27;State&#x27;, &#x27;Country&#x27;, &#x27;Make&#x27;,\n",
       "                                                   &#x27;Model&#x27;]),\n",
       "                                                 (&#x27;onehot&#x27;,\n",
       "                                                  OneHotEncoder(handle_unknown=&#x27;ignore&#x27;,\n",
       "                                                                sparse_output=False),\n",
       "                                                  [&#x27;WeatherCondition&#x27;, &#x27;FAR&#x27;]),\n",
       "                                                 (&#x27;num&#x27;, StandardScaler(),\n",
       "                                                  [&#x27;NumberOfEngines&#x27;])])),\n",
       "                (&#x27;classifier&#x27;, DecisionTreeClassifier(random_state=26))])</pre></div></div></div><div class=\"sk-serial\"><div class=\"sk-item\"><div class=\"sk-serial\"><div class=\"sk-item sk-dashed-wrapped\"><div class=\"sk-label-container\"><div class=\"sk-label sk-toggleable\"><input class=\"sk-toggleable__control sk-hidden--visually\" id=\"sk-estimator-id-107\" type=\"checkbox\" ><label for=\"sk-estimator-id-107\" class=\"sk-toggleable__label sk-toggleable__label-arrow\">preprocessor: ColumnTransformer</label><div class=\"sk-toggleable__content\"><pre>ColumnTransformer(transformers=[(&#x27;label&#x27;,\n",
       "                                 OrdinalEncoder(handle_unknown=&#x27;use_encoded_value&#x27;,\n",
       "                                                unknown_value=6000),\n",
       "                                 [&#x27;State&#x27;, &#x27;Country&#x27;, &#x27;Make&#x27;, &#x27;Model&#x27;]),\n",
       "                                (&#x27;onehot&#x27;,\n",
       "                                 OneHotEncoder(handle_unknown=&#x27;ignore&#x27;,\n",
       "                                               sparse_output=False),\n",
       "                                 [&#x27;WeatherCondition&#x27;, &#x27;FAR&#x27;]),\n",
       "                                (&#x27;num&#x27;, StandardScaler(), [&#x27;NumberOfEngines&#x27;])])</pre></div></div></div><div class=\"sk-parallel\"><div class=\"sk-parallel-item\"><div class=\"sk-item\"><div class=\"sk-label-container\"><div class=\"sk-label sk-toggleable\"><input class=\"sk-toggleable__control sk-hidden--visually\" id=\"sk-estimator-id-108\" type=\"checkbox\" ><label for=\"sk-estimator-id-108\" class=\"sk-toggleable__label sk-toggleable__label-arrow\">label</label><div class=\"sk-toggleable__content\"><pre>[&#x27;State&#x27;, &#x27;Country&#x27;, &#x27;Make&#x27;, &#x27;Model&#x27;]</pre></div></div></div><div class=\"sk-serial\"><div class=\"sk-item\"><div class=\"sk-estimator sk-toggleable\"><input class=\"sk-toggleable__control sk-hidden--visually\" id=\"sk-estimator-id-109\" type=\"checkbox\" ><label for=\"sk-estimator-id-109\" class=\"sk-toggleable__label sk-toggleable__label-arrow\">OrdinalEncoder</label><div class=\"sk-toggleable__content\"><pre>OrdinalEncoder(handle_unknown=&#x27;use_encoded_value&#x27;, unknown_value=6000)</pre></div></div></div></div></div></div><div class=\"sk-parallel-item\"><div class=\"sk-item\"><div class=\"sk-label-container\"><div class=\"sk-label sk-toggleable\"><input class=\"sk-toggleable__control sk-hidden--visually\" id=\"sk-estimator-id-110\" type=\"checkbox\" ><label for=\"sk-estimator-id-110\" class=\"sk-toggleable__label sk-toggleable__label-arrow\">onehot</label><div class=\"sk-toggleable__content\"><pre>[&#x27;WeatherCondition&#x27;, &#x27;FAR&#x27;]</pre></div></div></div><div class=\"sk-serial\"><div class=\"sk-item\"><div class=\"sk-estimator sk-toggleable\"><input class=\"sk-toggleable__control sk-hidden--visually\" id=\"sk-estimator-id-111\" type=\"checkbox\" ><label for=\"sk-estimator-id-111\" class=\"sk-toggleable__label sk-toggleable__label-arrow\">OneHotEncoder</label><div class=\"sk-toggleable__content\"><pre>OneHotEncoder(handle_unknown=&#x27;ignore&#x27;, sparse_output=False)</pre></div></div></div></div></div></div><div class=\"sk-parallel-item\"><div class=\"sk-item\"><div class=\"sk-label-container\"><div class=\"sk-label sk-toggleable\"><input class=\"sk-toggleable__control sk-hidden--visually\" id=\"sk-estimator-id-112\" type=\"checkbox\" ><label for=\"sk-estimator-id-112\" class=\"sk-toggleable__label sk-toggleable__label-arrow\">num</label><div class=\"sk-toggleable__content\"><pre>[&#x27;NumberOfEngines&#x27;]</pre></div></div></div><div class=\"sk-serial\"><div class=\"sk-item\"><div class=\"sk-estimator sk-toggleable\"><input class=\"sk-toggleable__control sk-hidden--visually\" id=\"sk-estimator-id-113\" type=\"checkbox\" ><label for=\"sk-estimator-id-113\" class=\"sk-toggleable__label sk-toggleable__label-arrow\">StandardScaler</label><div class=\"sk-toggleable__content\"><pre>StandardScaler()</pre></div></div></div></div></div></div></div></div><div class=\"sk-item\"><div class=\"sk-estimator sk-toggleable\"><input class=\"sk-toggleable__control sk-hidden--visually\" id=\"sk-estimator-id-114\" type=\"checkbox\" ><label for=\"sk-estimator-id-114\" class=\"sk-toggleable__label sk-toggleable__label-arrow\">DecisionTreeClassifier</label><div class=\"sk-toggleable__content\"><pre>DecisionTreeClassifier(random_state=26)</pre></div></div></div></div></div></div></div></div></div></div></div></div>"
      ],
      "text/plain": [
       "GridSearchCV(cv=20,\n",
       "             estimator=Pipeline(steps=[('preprocessor',\n",
       "                                        ColumnTransformer(transformers=[('label',\n",
       "                                                                         OrdinalEncoder(handle_unknown='use_encoded_value',\n",
       "                                                                                        unknown_value=6000),\n",
       "                                                                         ['State',\n",
       "                                                                          'Country',\n",
       "                                                                          'Make',\n",
       "                                                                          'Model']),\n",
       "                                                                        ('onehot',\n",
       "                                                                         OneHotEncoder(handle_unknown='ignore',\n",
       "                                                                                       sparse_output=False),\n",
       "                                                                         ['WeatherCondition',\n",
       "                                                                          'FAR']),\n",
       "                                                                        ('num',\n",
       "                                                                         StandardScaler(),\n",
       "                                                                         ['NumberOfEngines'])])),\n",
       "                                       ('classifier',\n",
       "                                        DecisionTreeClassifier(random_state=26))]),\n",
       "             n_jobs=-1,\n",
       "             param_grid={'classifier__criterion': ['gini'],\n",
       "                         'classifier__max_depth': [15, 20, 25],\n",
       "                         'classifier__min_samples_leaf': [1, 2, 4],\n",
       "                         'classifier__min_samples_split': [2, 5, 10]},\n",
       "             scoring=make_scorer(recall_score, average=macro), verbose=2)"
      ]
     },
     "execution_count": 134,
     "metadata": {},
     "output_type": "execute_result"
    }
   ],
   "source": [
    "parameters = {\n",
    "    # split criteria\n",
    "    'classifier__criterion': ['gini'],\n",
    "    # Max tree depth\n",
    "    'classifier__max_depth': [15, 20, 25],\n",
    "    # minimum sample required to split\n",
    "    'classifier__min_samples_split': [2, 5, 10],\n",
    "    # minimum sample per leaf\n",
    "    'classifier__min_samples_leaf': [1, 2, 4]\n",
    "}\n",
    "\n",
    "# using gridsearch\n",
    "grid_search = GridSearchCV(\n",
    "    # call the pipeline\n",
    "    estimator=pipeline_DecTree,\n",
    "    # call the input parameters\n",
    "    param_grid=parameters,\n",
    "    # 20 fold cross-validation\n",
    "    cv=20,\n",
    "    # use all resource\n",
    "    n_jobs=-1,\n",
    "    # using recall scorer\n",
    "    scoring=custom_recall_scorer,\n",
    "    # how detailed the output will be\n",
    "    verbose=2\n",
    ")\n",
    "\n",
    "grid_search.fit(X_train, y_train_encoded)"
   ]
  },
  {
   "cell_type": "code",
   "execution_count": 135,
   "metadata": {},
   "outputs": [
    {
     "name": "stdout",
     "output_type": "stream",
     "text": [
      "Best Parameters: {'classifier__criterion': 'gini', 'classifier__max_depth': 15, 'classifier__min_samples_leaf': 1, 'classifier__min_samples_split': 10}\n",
      "Best Recall: 0.5893801450857324\n"
     ]
    }
   ],
   "source": [
    "# check the parameter and check the recall score\n",
    "print(\"Best Parameters:\", grid_search.best_params_)\n",
    "print(\"Best Recall:\", grid_search.best_score_)"
   ]
  },
  {
   "cell_type": "code",
   "execution_count": 138,
   "metadata": {},
   "outputs": [
    {
     "name": "stdout",
     "output_type": "stream",
     "text": [
      "              precision    recall  f1-score   support\n",
      "\n",
      "         ACC       0.96      0.98      0.97      1761\n",
      "         INC       0.67      0.56      0.61       155\n",
      "         OCC       0.25      0.14      0.18         7\n",
      "\n",
      "    accuracy                           0.94      1923\n",
      "   macro avg       0.63      0.56      0.59      1923\n",
      "weighted avg       0.94      0.94      0.94      1923\n",
      "\n"
     ]
    }
   ],
   "source": [
    "# Get the best model\n",
    "best_model = grid_search.best_estimator_\n",
    "\n",
    "# Predict on the test set\n",
    "y_pred = best_model.predict(X_test)\n",
    "\n",
    "# Evaluate performance\n",
    "print(classification_report(y_test_encoded, y_pred, target_names=['ACC', 'INC', 'OCC']))\n"
   ]
  },
  {
   "cell_type": "code",
   "execution_count": 139,
   "metadata": {},
   "outputs": [
    {
     "name": "stdout",
     "output_type": "stream",
     "text": [
      "              precision    recall  f1-score   support\n",
      "\n",
      "         ACC       0.98      0.99      0.99      6995\n",
      "         INC       0.87      0.81      0.84       640\n",
      "         OCC       0.77      0.49      0.60        55\n",
      "\n",
      "    accuracy                           0.97      7690\n",
      "   macro avg       0.87      0.76      0.81      7690\n",
      "weighted avg       0.97      0.97      0.97      7690\n",
      "\n"
     ]
    }
   ],
   "source": [
    "# Get the best model\n",
    "best_model = grid_search.best_estimator_\n",
    "\n",
    "# Predict on the test set\n",
    "y_pred = best_model.predict(X_train)\n",
    "\n",
    "# Evaluate performance\n",
    "print(classification_report(y_train_encoded, y_pred, target_names=['ACC', 'INC', 'OCC']))\n"
   ]
  },
  {
   "cell_type": "markdown",
   "metadata": {},
   "source": [
    "### Recall and Overfitting/Underfitting Analysis\n",
    "\n",
    "| Dataset      | Class | Recall | Observations                                                                 |\n",
    "|--------------|-------|--------|------------------------------------------------------------------------------|\n",
    "| **X_train**  | ACC   | 0.99   | Very high recall, indicating the model captures most ACC cases in training.  |\n",
    "|              | INC   | 0.81   | Decent recall but lower than ACC, suggesting potential difficulty in INC.    |\n",
    "|              | OCC   | 0.49   | Low recall for OCC, indicating underperformance for this rare class.        |\n",
    "| **X_test**   | ACC   | 0.98   | Slightly lower than training, but consistent, showing good generalization.  |\n",
    "|              | INC   | 0.56   | Significant drop compared to training, indicating possible overfitting.     |\n",
    "|              | OCC   | 0.14   | Very low recall, suggesting underfitting for this rare class.               |"
   ]
  },
  {
   "cell_type": "markdown",
   "metadata": {},
   "source": [
    "There are several Key that we can see, in terms of predicting ACC it is a Good fit with the different Recall score of 0.99 in train and 0.98 in test. Therefore in terms of ACC, the model is good fit.\n",
    "\n",
    "Although the model is good fit in ACC, it show overfit and underfit in predicting INC and OCC. This is likely due to data disparity and could be handled with increasing the diversity of data using techniques such as SMOTE. Since we get overfit in predicting ACC, it is a good enough model for our purpose and we can do SMOTE for the future update."
   ]
  },
  {
   "cell_type": "markdown",
   "metadata": {},
   "source": [
    "# 9. Model Saving"
   ]
  },
  {
   "cell_type": "markdown",
   "metadata": {},
   "source": [
    "Prepare the model to be saved."
   ]
  },
  {
   "cell_type": "code",
   "execution_count": 140,
   "metadata": {},
   "outputs": [],
   "source": [
    "# Export the model using pickle\n",
    "with open('model.pkl','wb') as file:\n",
    "    pickle.dump(best_model, file)"
   ]
  },
  {
   "cell_type": "markdown",
   "metadata": {},
   "source": [
    "# 10. Model Inference"
   ]
  },
  {
   "cell_type": "code",
   "execution_count": 142,
   "metadata": {},
   "outputs": [
    {
     "data": {
      "text/html": [
       "<div>\n",
       "<style scoped>\n",
       "    .dataframe tbody tr th:only-of-type {\n",
       "        vertical-align: middle;\n",
       "    }\n",
       "\n",
       "    .dataframe tbody tr th {\n",
       "        vertical-align: top;\n",
       "    }\n",
       "\n",
       "    .dataframe thead th {\n",
       "        text-align: right;\n",
       "    }\n",
       "</style>\n",
       "<table border=\"1\" class=\"dataframe\">\n",
       "  <thead>\n",
       "    <tr style=\"text-align: right;\">\n",
       "      <th></th>\n",
       "      <th>City</th>\n",
       "      <th>State</th>\n",
       "      <th>Country</th>\n",
       "      <th>HasSafetyRec</th>\n",
       "      <th>Latitude</th>\n",
       "      <th>Longitude</th>\n",
       "      <th>Make</th>\n",
       "      <th>Model</th>\n",
       "      <th>NumberOfEngines</th>\n",
       "      <th>WeatherCondition</th>\n",
       "      <th>FAR</th>\n",
       "    </tr>\n",
       "  </thead>\n",
       "  <tbody>\n",
       "    <tr>\n",
       "      <th>0</th>\n",
       "      <td>Example City</td>\n",
       "      <td>Example State</td>\n",
       "      <td>United States</td>\n",
       "      <td>FALSE</td>\n",
       "      <td>37.7749</td>\n",
       "      <td>-122.4194</td>\n",
       "      <td>CESSNA</td>\n",
       "      <td>172</td>\n",
       "      <td>1</td>\n",
       "      <td>VMC</td>\n",
       "      <td>091</td>\n",
       "    </tr>\n",
       "    <tr>\n",
       "      <th>1</th>\n",
       "      <td>São Tomé</td>\n",
       "      <td>Unknown State</td>\n",
       "      <td>St Lucia</td>\n",
       "      <td>False</td>\n",
       "      <td>0.378471</td>\n",
       "      <td>6.712757</td>\n",
       "      <td>BOEING</td>\n",
       "      <td>767</td>\n",
       "      <td>1</td>\n",
       "      <td>Unknown</td>\n",
       "      <td>NUSC</td>\n",
       "    </tr>\n",
       "    <tr>\n",
       "      <th>2</th>\n",
       "      <td>Derby</td>\n",
       "      <td>Unknown State</td>\n",
       "      <td>United Kingdom</td>\n",
       "      <td>False</td>\n",
       "      <td>52.830684</td>\n",
       "      <td>-1.328283</td>\n",
       "      <td>BOEING</td>\n",
       "      <td>767-300F</td>\n",
       "      <td>2</td>\n",
       "      <td>Unknown</td>\n",
       "      <td>121</td>\n",
       "    </tr>\n",
       "  </tbody>\n",
       "</table>\n",
       "</div>"
      ],
      "text/plain": [
       "           City          State         Country HasSafetyRec   Latitude  \\\n",
       "0  Example City  Example State   United States        FALSE    37.7749   \n",
       "1      São Tomé  Unknown State        St Lucia        False   0.378471   \n",
       "2         Derby  Unknown State  United Kingdom        False  52.830684   \n",
       "\n",
       "   Longitude    Make     Model  NumberOfEngines WeatherCondition   FAR  \n",
       "0  -122.4194  CESSNA       172                1              VMC   091  \n",
       "1   6.712757  BOEING       767                1          Unknown  NUSC  \n",
       "2  -1.328283  BOEING  767-300F                2          Unknown   121  "
      ]
     },
     "execution_count": 142,
     "metadata": {},
     "output_type": "execute_result"
    }
   ],
   "source": [
    "# get the new data\n",
    "new_data = {\n",
    "    'City': ['Example City', 'São Tomé', 'Derby'],\n",
    "    'State': ['Example State', 'Unknown State', 'Unknown State'],\n",
    "    'Country': ['United States', 'St Lucia', 'United Kingdom'],\n",
    "    'HasSafetyRec': ['FALSE', 'False', 'False'],\n",
    "    'Latitude': ['37.7749', '0.378471', '52.830684'],\n",
    "    'Longitude': ['-122.4194', '6.712757', '-1.328283'],\n",
    "    'Make': ['CESSNA', 'BOEING', 'BOEING'],\n",
    "    'Model': ['172', '767', '767-300F'],\n",
    "    'NumberOfEngines': [1, 1, 2],\n",
    "    'WeatherCondition': ['VMC', 'Unknown', 'Unknown'],\n",
    "    'FAR': ['091', 'NUSC', '121']\n",
    "}\n",
    "\n",
    "# put it inside dataframe\n",
    "new_data_df = pd.DataFrame(new_data)\n",
    "new_data_df"
   ]
  },
  {
   "cell_type": "code",
   "execution_count": 143,
   "metadata": {},
   "outputs": [
    {
     "name": "stdout",
     "output_type": "stream",
     "text": [
      "This Airplane have the possibility of Accident\n",
      "This Airplane have the possibility of Incident\n",
      "This Airplane have the possibility of Incident\n"
     ]
    }
   ],
   "source": [
    "# make a prediction with new_data_df\n",
    "prediction = best_model.predict(new_data_df)\n",
    "\n",
    "# for loop to predict each rows\n",
    "for i in prediction:\n",
    "    if i == 0:\n",
    "        print('This Airplane have the possibility of Accident')\n",
    "    elif i == 1:\n",
    "        print('This Airplane have the possibility of Incident')\n",
    "    elif i == 2:\n",
    "        print('This Airplane have the possibility of Occurance')"
   ]
  },
  {
   "cell_type": "markdown",
   "metadata": {},
   "source": [
    "Note: There are also inference files outside this notebook."
   ]
  },
  {
   "cell_type": "markdown",
   "metadata": {},
   "source": [
    "# 11. Conclusion"
   ]
  },
  {
   "cell_type": "markdown",
   "metadata": {},
   "source": [
    "Airplane accidents, while rare, have a devastating consequences, this is proven on how public will always see airplane accident as a tragic accident due to high casualties it will bring. Predictive modeling can play a pivotal role in enhancing aviation safety by identifying potential risks and enable preventive actions. Based on the analysis and modeling effort, we can draw some conclusion.\n",
    "\n",
    "Certain airplane models are significantly associated with ACC, making model are one of the critical predictor for accidents. The lacks of safety recommendations also correlated with how high an accident happens, indicating that this Safety recommendation of prior risk identification are important to do a preventive measures. This also inline with Federal Aviation Regulation (FAR) influence accident occurences, indicating that this is also an essential factor in predicting risks.\n",
    "\n",
    "Meanwhile, weather conditions does not guarantee accident prevention. However, it also remain a valuable predictive features, with further refinement needed to capture their full impact. Lastly, regional difference in operational indicate that location-based insights are vital for accident prediction."
   ]
  },
  {
   "cell_type": "markdown",
   "metadata": {},
   "source": [
    "**Model Conclusion**<br>\n",
    "The Decision Tree model, hyperparameter tuned using GridSearch demonstrate strong performance in predicting ACC. This model generalized well for the majority class and aligns with the goal of identifying accidents effectively. As for minority classes, the model struggles with predicting INC and OCC, showing sings of overfitting and underfitting due to data disparity."
   ]
  },
  {
   "cell_type": "markdown",
   "metadata": {},
   "source": [
    "## Recommendation"
   ]
  },
  {
   "cell_type": "markdown",
   "metadata": {},
   "source": [
    "The Decision Tree model is well-suited for the primary goal of identifying ACC. it can be deployed to enhance safety measures and minimize the risk of severe accidents.\n",
    "\n",
    "As for future improvements:\n",
    " - we need to adress data imbalance with techniques like SMOTE to improve predictions for INC and OCC.\n",
    " -  Explore additional features or refine existing ones for more comprehensive risk assessment.\n",
    " - Consider other ensemble methods like Random Forest or XGBoost since they have a tight Recall score with Decision Tree."
   ]
  },
  {
   "cell_type": "markdown",
   "metadata": {},
   "source": [
    "**Final Words**<br>\n",
    "The Decision Tree model serves as a strong foundation for predicting airplane accident risks, particularly for ACC. It aligns with the broader objective of preventing catastrophic consequences in the aviation industry. Data balancing and feature refinement will further bolster this model effectiveness."
   ]
  },
  {
   "cell_type": "markdown",
   "metadata": {},
   "source": [
    "### Conceptual Problems"
   ]
  },
  {
   "cell_type": "markdown",
   "metadata": {},
   "source": [
    "Answer the following questions:\n",
    "\n",
    "1. Explain the background of bagging and how bagging works!\n",
    "\n",
    "2. Explain the difference between the working mechanism of the Random Forest algorithm and the boosting algorithm you chose!\n",
    "\n",
    "3. Explain what is meant by Cross Validation!"
   ]
  },
  {
   "cell_type": "markdown",
   "metadata": {},
   "source": [
    "##### 1. Explain the background of bagging and how bagging works!"
   ]
  },
  {
   "cell_type": "markdown",
   "metadata": {},
   "source": [
    "Bagging was developed to address the following issues commonly encountered in machine learning models such as overfitting, high variance, and model stability. Bagging solve this problems by combining multiple models, trained on different subsets of the data, and improve overall predictive performance.\n",
    "\n",
    "Bagging will generate multiple subsets of training data, it then train the same machine learning algorithm on each subset. Then it combine the predictions from all models."
   ]
  },
  {
   "cell_type": "markdown",
   "metadata": {},
   "source": [
    "##### 2. Explain the difference between the working mechanism of the Random Forest algorithm and the boosting algorithm you chose!"
   ]
  },
  {
   "cell_type": "markdown",
   "metadata": {},
   "source": [
    "Random forest is a bagging algorithm, it working by making trees trained independently, it will reduces variance by average the vales, it is a faster computation resource, this model is best for handling high variance.\n",
    "\n",
    "Meanwhile, the XGBoost is a boosting algorithm, it working by making trees trained sequentially, it reduces bias by focusing on errors, this model slower since it bult sequentially, the model are complex and requres fine-tuning to make it have the best result."
   ]
  },
  {
   "cell_type": "markdown",
   "metadata": {},
   "source": [
    "##### 3. Explain what is meant by Cross Validation!"
   ]
  },
  {
   "cell_type": "markdown",
   "metadata": {},
   "source": [
    "Cross validation is a technique to evaluate a machine learning model's performance and score its ability to generalize to unseen data. It works by splitting the dataset into K-fold, where each fold is used as the validation set while the remaining K-1 folds are for training. This process repeated by K times and the evaluation metric is averaged across all folds. Cross validation is a critical tool in machine learning, for assessing model performance and to help it choose the most optimal hyperparameters."
   ]
  }
 ],
 "metadata": {
  "kernelspec": {
   "display_name": "base",
   "language": "python",
   "name": "python3"
  },
  "language_info": {
   "codemirror_mode": {
    "name": "ipython",
    "version": 3
   },
   "file_extension": ".py",
   "mimetype": "text/x-python",
   "name": "python",
   "nbconvert_exporter": "python",
   "pygments_lexer": "ipython3",
   "version": "3.9.20"
  }
 },
 "nbformat": 4,
 "nbformat_minor": 2
}
